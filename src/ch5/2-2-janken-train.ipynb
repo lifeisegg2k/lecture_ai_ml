{
 "cells": [
  {
   "cell_type": "code",
   "execution_count": 1,
   "metadata": {},
   "outputs": [],
   "source": [
    "import tensorflow as tf\n",
    "import numpy as np\n",
    "import pickle"
   ]
  },
  {
   "cell_type": "code",
   "execution_count": 2,
   "metadata": {},
   "outputs": [],
   "source": [
    "with open(\"./data/janken-data.pkl\", \"rb\") as fp:\n",
    "    data = pickle.load(fp)\n",
    "\n",
    "(x_train, y_train), (x_test, y_test) = data"
   ]
  },
  {
   "cell_type": "code",
   "execution_count": 3,
   "metadata": {},
   "outputs": [],
   "source": [
    "model = tf.keras.models.Sequential([\n",
    "    tf.keras.layers.Dense(30, activation='relu', input_dim=2),\n",
    "    tf.keras.layers.Dense(3, activation='softmax')\n",
    "])\n",
    "model.compile(\n",
    "    optimizer='adam',\n",
    "    loss=\"sparse_categorical_crossentropy\",\n",
    "    metrics=['accuracy']\n",
    ")"
   ]
  },
  {
   "cell_type": "code",
   "execution_count": 4,
   "metadata": {},
   "outputs": [
    {
     "name": "stdout",
     "output_type": "stream",
     "text": [
      "Epoch 1/20\n",
      "63/63 [==============================] - 0s 2ms/step - loss: 1.1463 - accuracy: 0.1742\n",
      "Epoch 2/20\n",
      "63/63 [==============================] - 0s 2ms/step - loss: 1.0459 - accuracy: 0.3968\n",
      "Epoch 3/20\n",
      "63/63 [==============================] - 0s 2ms/step - loss: 0.9958 - accuracy: 0.6668\n",
      "Epoch 4/20\n",
      "63/63 [==============================] - 0s 2ms/step - loss: 0.9393 - accuracy: 0.9494\n",
      "Epoch 5/20\n",
      "63/63 [==============================] - 0s 2ms/step - loss: 0.8901 - accuracy: 0.9166\n",
      "Epoch 6/20\n",
      "63/63 [==============================] - 0s 2ms/step - loss: 0.8371 - accuracy: 1.0000\n",
      "Epoch 7/20\n",
      "63/63 [==============================] - 0s 2ms/step - loss: 0.7775 - accuracy: 1.0000\n",
      "Epoch 8/20\n",
      "63/63 [==============================] - 0s 2ms/step - loss: 0.7274 - accuracy: 1.0000\n",
      "Epoch 9/20\n",
      "63/63 [==============================] - 0s 2ms/step - loss: 0.6687 - accuracy: 1.0000\n",
      "Epoch 10/20\n",
      "63/63 [==============================] - 0s 2ms/step - loss: 0.6137 - accuracy: 1.0000\n",
      "Epoch 11/20\n",
      "63/63 [==============================] - 0s 2ms/step - loss: 0.5622 - accuracy: 1.0000\n",
      "Epoch 12/20\n",
      "63/63 [==============================] - 0s 3ms/step - loss: 0.5243 - accuracy: 1.0000\n",
      "Epoch 13/20\n",
      "63/63 [==============================] - 0s 2ms/step - loss: 0.4717 - accuracy: 1.0000\n",
      "Epoch 14/20\n",
      "63/63 [==============================] - 0s 2ms/step - loss: 0.4297 - accuracy: 1.0000\n",
      "Epoch 15/20\n",
      "63/63 [==============================] - 0s 2ms/step - loss: 0.3886 - accuracy: 1.0000\n",
      "Epoch 16/20\n",
      "63/63 [==============================] - 0s 1ms/step - loss: 0.3560 - accuracy: 1.0000\n",
      "Epoch 17/20\n",
      "63/63 [==============================] - 0s 2ms/step - loss: 0.3237 - accuracy: 1.0000\n",
      "Epoch 18/20\n",
      "63/63 [==============================] - 0s 2ms/step - loss: 0.2954 - accuracy: 1.0000\n",
      "Epoch 19/20\n",
      "63/63 [==============================] - 0s 2ms/step - loss: 0.2696 - accuracy: 1.0000\n",
      "Epoch 20/20\n",
      "63/63 [==============================] - 0s 1ms/step - loss: 0.2463 - accuracy: 1.0000\n",
      "32/32 - 0s - loss: 0.2335 - accuracy: 1.0000\n"
     ]
    },
    {
     "data": {
      "text/plain": [
       "[0.23352685570716858, 1.0]"
      ]
     },
     "execution_count": 4,
     "metadata": {},
     "output_type": "execute_result"
    }
   ],
   "source": [
    "model.fit(x_train, y_train, epochs=20)\n",
    "model.evaluate(x_test, y_test, verbose=2)"
   ]
  },
  {
   "cell_type": "code",
   "execution_count": 5,
   "metadata": {},
   "outputs": [],
   "source": [
    "def janken(a,b):\n",
    "    hands = {'グー':0, 'チョキ':1, 'パー':2}\n",
    "    results = ['あいこ', '負け', '勝ち']\n",
    "    x = np.array([[hands[a], hands[b]]])\n",
    "    r = model.predict(x)\n",
    "    print(r)\n",
    "    print(a, b, '→', results[r[0].argmax()])"
   ]
  },
  {
   "cell_type": "code",
   "execution_count": 6,
   "metadata": {},
   "outputs": [
    {
     "name": "stdout",
     "output_type": "stream",
     "text": [
      "[[0.92568105 0.03870279 0.03561612]]\n",
      "グー グー → あいこ\n",
      "[[0.11469261 0.19224985 0.69305754]]\n",
      "チョキ パー → 勝ち\n",
      "[[0.09263073 0.75071746 0.15665178]]\n",
      "パー チョキ → 負け\n"
     ]
    }
   ],
   "source": [
    "janken('グー', 'グー')\n",
    "janken('チョキ', 'パー')\n",
    "janken('パー', 'チョキ')"
   ]
  },
  {
   "cell_type": "code",
   "execution_count": null,
   "metadata": {},
   "outputs": [],
   "source": []
  }
 ],
 "metadata": {
  "kernelspec": {
   "display_name": "Python 3",
   "language": "python",
   "name": "python3"
  },
  "language_info": {
   "codemirror_mode": {
    "name": "ipython",
    "version": 3
   },
   "file_extension": ".py",
   "mimetype": "text/x-python",
   "name": "python",
   "nbconvert_exporter": "python",
   "pygments_lexer": "ipython3",
   "version": "3.8.5"
  }
 },
 "nbformat": 4,
 "nbformat_minor": 4
}
