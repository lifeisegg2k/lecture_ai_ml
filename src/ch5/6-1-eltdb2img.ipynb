{
 "cells": [
  {
   "cell_type": "raw",
   "metadata": {},
   "source": [
    "# ELT 文字データベースダウンロード\n",
    "# http://etlcdb.db.aist.go.jp/?lang=ja"
   ]
  },
  {
   "cell_type": "code",
   "execution_count": 1,
   "metadata": {},
   "outputs": [],
   "source": [
    "import struct\n",
    "from PIL import Image, ImageEnhance\n",
    "import glob, os"
   ]
  },
  {
   "cell_type": "code",
   "execution_count": 2,
   "metadata": {},
   "outputs": [],
   "source": [
    "outdir = \"png-etl1/\"\n",
    "if not os.path.exists(outdir): os.mkdir(outdir)"
   ]
  },
  {
   "cell_type": "code",
   "execution_count": 3,
   "metadata": {},
   "outputs": [
    {
     "name": "stdout",
     "output_type": "stream",
     "text": [
      "ETL1/ETL1C_01\n",
      "ETL1/ETL1C_02\n",
      "ETL1/ETL1C_03\n",
      "ETL1/ETL1C_04\n",
      "ETL1/ETL1C_05\n",
      "ETL1/ETL1C_06\n",
      "ETL1/ETL1C_07\n",
      "ETL1/ETL1C_08\n",
      "ETL1/ETL1C_09\n",
      "ETL1/ETL1C_10\n",
      "ETL1/ETL1C_11\n",
      "ETL1/ETL1C_12\n",
      "ETL1/ETL1C_13\n",
      "ok\n"
     ]
    }
   ],
   "source": [
    "files = glob.glob(\"ETL1/*\")\n",
    "for fname in files:\n",
    "    if fname == \"ETL1/ETL1INFO\": continue \n",
    "    print(fname)\n",
    "\n",
    "    f = open(fname, 'rb')\n",
    "    f.seek(0)\n",
    "    while True:\n",
    "        s = f.read(2052)\n",
    "        if not s: break\n",
    "        r = struct.unpack('>H2sH6BI4H4B4x2016s4x', s)\n",
    "        code_ascii = r[1]\n",
    "        code_jis = r[3]\n",
    "        iF = Image.frombytes('F', (64, 63), r[18], 'bit', 4)\n",
    "        iP = iF.convert('L')\n",
    "        dir = outdir + \"/\" + str(code_jis)\n",
    "        if not os.path.exists(dir): os.mkdir(dir)\n",
    "        fn = \"{0:02x}-{1:02x}{2:04x}.png\".format(code_jis, r[0], r[2])\n",
    "        fullpath = dir + \"/\" + fn\n",
    "        if os.path.exists(fullpath): continue\n",
    "        enhancer = ImageEnhance.Brightness(iP)\n",
    "        iE = enhancer.enhance(16)\n",
    "        iE.save(fullpath, 'PNG')\n",
    "print(\"ok\")"
   ]
  },
  {
   "cell_type": "code",
   "execution_count": null,
   "metadata": {},
   "outputs": [],
   "source": []
  }
 ],
 "metadata": {
  "kernelspec": {
   "display_name": "Python 3",
   "language": "python",
   "name": "python3"
  },
  "language_info": {
   "codemirror_mode": {
    "name": "ipython",
    "version": 3
   },
   "file_extension": ".py",
   "mimetype": "text/x-python",
   "name": "python",
   "nbconvert_exporter": "python",
   "pygments_lexer": "ipython3",
   "version": "3.8.5"
  }
 },
 "nbformat": 4,
 "nbformat_minor": 4
}
