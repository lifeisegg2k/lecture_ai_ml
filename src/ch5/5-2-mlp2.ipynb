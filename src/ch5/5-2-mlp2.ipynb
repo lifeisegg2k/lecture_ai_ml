{
 "cells": [
  {
   "cell_type": "code",
   "execution_count": 1,
   "metadata": {},
   "outputs": [],
   "source": [
    "import matplotlib.pyplot as plt\n",
    "import keras\n",
    "from keras.datasets import cifar10\n",
    "from keras.models import Sequential\n",
    "from keras.layers import Dense, Dropout"
   ]
  },
  {
   "cell_type": "code",
   "execution_count": 2,
   "metadata": {},
   "outputs": [],
   "source": [
    "num_classes = 10\n",
    "im_rows = 32\n",
    "im_cols = 32\n",
    "im_size = im_rows * im_cols * 3"
   ]
  },
  {
   "cell_type": "code",
   "execution_count": 3,
   "metadata": {},
   "outputs": [],
   "source": [
    "(X_train, y_train), (X_test, y_test) = cifar10.load_data()\n",
    "\n",
    "X_train = X_train.reshape(-1, im_size).astype('float32') / 255\n",
    "X_test = X_test.reshape(-1, im_size).astype('float32') / 255\n",
    "\n",
    "y_train = keras.utils.to_categorical(y_train, num_classes)\n",
    "y_test = keras.utils.to_categorical(y_test, num_classes)"
   ]
  },
  {
   "cell_type": "code",
   "execution_count": 4,
   "metadata": {},
   "outputs": [],
   "source": [
    "model = Sequential()\n",
    "model.add(Dense(512, activation='relu', input_shape=(im_size,)))\n",
    "model.add(Dense(num_classes, activation='softmax'))"
   ]
  },
  {
   "cell_type": "code",
   "execution_count": 5,
   "metadata": {},
   "outputs": [
    {
     "name": "stdout",
     "output_type": "stream",
     "text": [
      "Epoch 1/50\n",
      "1563/1563 [==============================] - 18s 11ms/step - loss: 2.0478 - accuracy: 0.2913 - val_loss: 1.7607 - val_accuracy: 0.3769\n",
      "Epoch 2/50\n",
      "1563/1563 [==============================] - 13s 8ms/step - loss: 1.7183 - accuracy: 0.3875 - val_loss: 1.6468 - val_accuracy: 0.4088\n",
      "Epoch 3/50\n",
      "1563/1563 [==============================] - 13s 8ms/step - loss: 1.6448 - accuracy: 0.4151 - val_loss: 1.6206 - val_accuracy: 0.4217\n",
      "Epoch 4/50\n",
      "1563/1563 [==============================] - 14s 9ms/step - loss: 1.6013 - accuracy: 0.4336 - val_loss: 1.5822 - val_accuracy: 0.4394\n",
      "Epoch 5/50\n",
      "1563/1563 [==============================] - 15s 9ms/step - loss: 1.5764 - accuracy: 0.4409 - val_loss: 1.5535 - val_accuracy: 0.4475\n",
      "Epoch 6/50\n",
      "1563/1563 [==============================] - 13s 8ms/step - loss: 1.5365 - accuracy: 0.4560 - val_loss: 1.5520 - val_accuracy: 0.4417\n",
      "Epoch 7/50\n",
      "1563/1563 [==============================] - 13s 9ms/step - loss: 1.5222 - accuracy: 0.4575 - val_loss: 1.5159 - val_accuracy: 0.4623\n",
      "Epoch 8/50\n",
      "1563/1563 [==============================] - 14s 9ms/step - loss: 1.5067 - accuracy: 0.4632 - val_loss: 1.5492 - val_accuracy: 0.4495\n",
      "Epoch 9/50\n",
      "1563/1563 [==============================] - 14s 9ms/step - loss: 1.4909 - accuracy: 0.4709 - val_loss: 1.5300 - val_accuracy: 0.4550\n",
      "Epoch 10/50\n",
      "1563/1563 [==============================] - 13s 9ms/step - loss: 1.4710 - accuracy: 0.4743 - val_loss: 1.5044 - val_accuracy: 0.4674\n",
      "Epoch 11/50\n",
      "1563/1563 [==============================] - 12s 8ms/step - loss: 1.4601 - accuracy: 0.4798 - val_loss: 1.5126 - val_accuracy: 0.4642\n",
      "Epoch 12/50\n",
      "1563/1563 [==============================] - 12s 8ms/step - loss: 1.4539 - accuracy: 0.4826 - val_loss: 1.5144 - val_accuracy: 0.4584\n",
      "Epoch 13/50\n",
      "1563/1563 [==============================] - 13s 8ms/step - loss: 1.4386 - accuracy: 0.4854 - val_loss: 1.5408 - val_accuracy: 0.4581\n",
      "Epoch 14/50\n",
      "1563/1563 [==============================] - 14s 9ms/step - loss: 1.4393 - accuracy: 0.4867 - val_loss: 1.4841 - val_accuracy: 0.4747\n",
      "Epoch 15/50\n",
      "1563/1563 [==============================] - 13s 8ms/step - loss: 1.4195 - accuracy: 0.4930 - val_loss: 1.5165 - val_accuracy: 0.4624\n",
      "Epoch 16/50\n",
      "1563/1563 [==============================] - 15s 9ms/step - loss: 1.4137 - accuracy: 0.5003 - val_loss: 1.4844 - val_accuracy: 0.4721\n",
      "Epoch 17/50\n",
      "1563/1563 [==============================] - 14s 9ms/step - loss: 1.4060 - accuracy: 0.4987 - val_loss: 1.5273 - val_accuracy: 0.4509\n",
      "Epoch 18/50\n",
      "1563/1563 [==============================] - 14s 9ms/step - loss: 1.3909 - accuracy: 0.5018 - val_loss: 1.4727 - val_accuracy: 0.4811\n",
      "Epoch 19/50\n",
      "1563/1563 [==============================] - 14s 9ms/step - loss: 1.3974 - accuracy: 0.5029 - val_loss: 1.4919 - val_accuracy: 0.4694\n",
      "Epoch 20/50\n",
      "1563/1563 [==============================] - 13s 9ms/step - loss: 1.3861 - accuracy: 0.5105 - val_loss: 1.5123 - val_accuracy: 0.4642\n",
      "Epoch 21/50\n",
      "1563/1563 [==============================] - 13s 8ms/step - loss: 1.3870 - accuracy: 0.5067 - val_loss: 1.4707 - val_accuracy: 0.4768\n",
      "Epoch 22/50\n",
      "1563/1563 [==============================] - 14s 9ms/step - loss: 1.3707 - accuracy: 0.5119 - val_loss: 1.4978 - val_accuracy: 0.4696\n",
      "Epoch 23/50\n",
      "1563/1563 [==============================] - 12s 8ms/step - loss: 1.3771 - accuracy: 0.5101 - val_loss: 1.5029 - val_accuracy: 0.4728\n",
      "Epoch 24/50\n",
      "1563/1563 [==============================] - 13s 8ms/step - loss: 1.3701 - accuracy: 0.5091 - val_loss: 1.4931 - val_accuracy: 0.4746\n",
      "Epoch 25/50\n",
      "1563/1563 [==============================] - 13s 8ms/step - loss: 1.3680 - accuracy: 0.5130 - val_loss: 1.4684 - val_accuracy: 0.4834\n",
      "Epoch 26/50\n",
      "1563/1563 [==============================] - 13s 8ms/step - loss: 1.3565 - accuracy: 0.5149 - val_loss: 1.4845 - val_accuracy: 0.4761\n",
      "Epoch 27/50\n",
      "1563/1563 [==============================] - 15s 10ms/step - loss: 1.3529 - accuracy: 0.5170 - val_loss: 1.4946 - val_accuracy: 0.4749\n",
      "Epoch 28/50\n",
      "1563/1563 [==============================] - 16s 10ms/step - loss: 1.3528 - accuracy: 0.5199 - val_loss: 1.5184 - val_accuracy: 0.4561\n",
      "Epoch 29/50\n",
      "1563/1563 [==============================] - 13s 8ms/step - loss: 1.3387 - accuracy: 0.5208 - val_loss: 1.4617 - val_accuracy: 0.4783\n",
      "Epoch 30/50\n",
      "1563/1563 [==============================] - 13s 8ms/step - loss: 1.3455 - accuracy: 0.5185 - val_loss: 1.5046 - val_accuracy: 0.4644\n",
      "Epoch 31/50\n",
      "1563/1563 [==============================] - 15s 10ms/step - loss: 1.3390 - accuracy: 0.5237 - val_loss: 1.5034 - val_accuracy: 0.4766\n",
      "Epoch 32/50\n",
      "1563/1563 [==============================] - 14s 9ms/step - loss: 1.3340 - accuracy: 0.5222 - val_loss: 1.4716 - val_accuracy: 0.4823\n",
      "Epoch 33/50\n",
      "1563/1563 [==============================] - 15s 9ms/step - loss: 1.3312 - accuracy: 0.5240 - val_loss: 1.5414 - val_accuracy: 0.4586\n",
      "Epoch 34/50\n",
      "1563/1563 [==============================] - 14s 9ms/step - loss: 1.3242 - accuracy: 0.5289 - val_loss: 1.4719 - val_accuracy: 0.4764\n",
      "Epoch 35/50\n",
      "1563/1563 [==============================] - 14s 9ms/step - loss: 1.3186 - accuracy: 0.5310 - val_loss: 1.4932 - val_accuracy: 0.4687\n",
      "Epoch 36/50\n",
      "1563/1563 [==============================] - 12s 8ms/step - loss: 1.3155 - accuracy: 0.5295 - val_loss: 1.4986 - val_accuracy: 0.4769\n",
      "Epoch 37/50\n",
      "1563/1563 [==============================] - 14s 9ms/step - loss: 1.3160 - accuracy: 0.5310 - val_loss: 1.4809 - val_accuracy: 0.4775\n",
      "Epoch 38/50\n",
      "1563/1563 [==============================] - 14s 9ms/step - loss: 1.3158 - accuracy: 0.5332 - val_loss: 1.4967 - val_accuracy: 0.4774\n",
      "Epoch 39/50\n",
      "1563/1563 [==============================] - 13s 8ms/step - loss: 1.3158 - accuracy: 0.5287 - val_loss: 1.4851 - val_accuracy: 0.4747\n",
      "Epoch 40/50\n",
      "1563/1563 [==============================] - 13s 8ms/step - loss: 1.3112 - accuracy: 0.5341 - val_loss: 1.5075 - val_accuracy: 0.4710\n",
      "Epoch 41/50\n",
      "1563/1563 [==============================] - 13s 8ms/step - loss: 1.3020 - accuracy: 0.5361 - val_loss: 1.5163 - val_accuracy: 0.4689\n",
      "Epoch 42/50\n",
      "1563/1563 [==============================] - 13s 8ms/step - loss: 1.2935 - accuracy: 0.5369 - val_loss: 1.5169 - val_accuracy: 0.4715\n",
      "Epoch 43/50\n",
      "1563/1563 [==============================] - 13s 8ms/step - loss: 1.2903 - accuracy: 0.5426 - val_loss: 1.4775 - val_accuracy: 0.4819\n",
      "Epoch 44/50\n",
      "1563/1563 [==============================] - 13s 8ms/step - loss: 1.2969 - accuracy: 0.5379 - val_loss: 1.5757 - val_accuracy: 0.4626\n",
      "Epoch 45/50\n",
      "1563/1563 [==============================] - 13s 8ms/step - loss: 1.2911 - accuracy: 0.5392 - val_loss: 1.5007 - val_accuracy: 0.4686\n",
      "Epoch 46/50\n",
      "1563/1563 [==============================] - 13s 9ms/step - loss: 1.2924 - accuracy: 0.5402 - val_loss: 1.5236 - val_accuracy: 0.4697\n",
      "Epoch 47/50\n",
      "1563/1563 [==============================] - 13s 8ms/step - loss: 1.2845 - accuracy: 0.5378 - val_loss: 1.5251 - val_accuracy: 0.4675\n",
      "Epoch 48/50\n",
      "1563/1563 [==============================] - 13s 8ms/step - loss: 1.2814 - accuracy: 0.5449 - val_loss: 1.4717 - val_accuracy: 0.4835\n",
      "Epoch 49/50\n",
      "1563/1563 [==============================] - 14s 9ms/step - loss: 1.2904 - accuracy: 0.5366 - val_loss: 1.5013 - val_accuracy: 0.4728\n",
      "Epoch 50/50\n",
      "1563/1563 [==============================] - 14s 9ms/step - loss: 1.2698 - accuracy: 0.5468 - val_loss: 1.5089 - val_accuracy: 0.4763\n"
     ]
    }
   ],
   "source": [
    "model.compile(\n",
    "    loss='categorical_crossentropy',\n",
    "    optimizer='adam',\n",
    "    metrics=['accuracy'])\n",
    "\n",
    "hist = model.fit(X_train, y_train,\n",
    "    batch_size=32, epochs=50,\n",
    "    verbose=1,\n",
    "    validation_data=(X_test, y_test))"
   ]
  },
  {
   "cell_type": "code",
   "execution_count": 6,
   "metadata": {},
   "outputs": [
    {
     "name": "stdout",
     "output_type": "stream",
     "text": [
      "313/313 [==============================] - 1s 4ms/step - loss: 1.5089 - accuracy: 0.4763\n",
      "正解率= 0.4763000011444092 loss= 1.5089452266693115\n"
     ]
    }
   ],
   "source": [
    "score = model.evaluate(X_test, y_test, verbose=1)\n",
    "print('正解率=', score[1], 'loss=', score[0])"
   ]
  },
  {
   "cell_type": "code",
   "execution_count": 7,
   "metadata": {},
   "outputs": [
    {
     "data": {
      "image/png": "[encoded data removed]",
      "text/plain": [
       "<Figure size 432x288 with 1 Axes>"
      ]
     },
     "metadata": {
      "needs_background": "light"
     },
     "output_type": "display_data"
    }
   ],
   "source": [
    "plt.plot(hist.history['accuracy'])\n",
    "plt.plot(hist.history['val_accuracy'])\n",
    "plt.title('Accuracy')\n",
    "plt.legend(['train', 'test'], loc='upper left')\n",
    "plt.show()"
   ]
  },
  {
   "cell_type": "code",
   "execution_count": 8,
   "metadata": {},
   "outputs": [
    {
     "data": {
      "image/png": "[encoded data removed]",
      "text/plain": [
       "<Figure size 432x288 with 1 Axes>"
      ]
     },
     "metadata": {
      "needs_background": "light"
     },
     "output_type": "display_data"
    }
   ],
   "source": [
    "plt.plot(hist.history['loss'])\n",
    "plt.plot(hist.history['val_loss'])\n",
    "plt.title('Loss')\n",
    "plt.legend(['train', 'test'], loc='upper left')\n",
    "plt.show()"
   ]
  },
  {
   "cell_type": "code",
   "execution_count": null,
   "metadata": {},
   "outputs": [],
   "source": []
  }
 ],
 "metadata": {
  "kernelspec": {
   "display_name": "Python 3",
   "language": "python",
   "name": "python3"
  },
  "language_info": {
   "codemirror_mode": {
    "name": "ipython",
    "version": 3
   },
   "file_extension": ".py",
   "mimetype": "text/x-python",
   "name": "python",
   "nbconvert_exporter": "python",
   "pygments_lexer": "ipython3",
   "version": "3.8.5"
  }
 },
 "nbformat": 4,
 "nbformat_minor": 4
}
