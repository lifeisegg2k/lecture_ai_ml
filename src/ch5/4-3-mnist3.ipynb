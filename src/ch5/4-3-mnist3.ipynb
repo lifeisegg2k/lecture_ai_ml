{
 "cells": [
  {
   "cell_type": "code",
   "execution_count": 1,
   "metadata": {},
   "outputs": [],
   "source": [
    "# CNNでMNISTの分類問題に挑戦\n",
    "import keras\n",
    "from keras.models import Sequential\n",
    "from keras.layers import Dense, Dropout, Flatten\n",
    "from keras.layers import Conv2D, MaxPooling2D\n",
    "from keras.optimizers import RMSprop\n",
    "from keras.datasets import mnist\n",
    "import matplotlib.pyplot as plt"
   ]
  },
  {
   "cell_type": "code",
   "execution_count": 2,
   "metadata": {},
   "outputs": [],
   "source": [
    "in_shape = (28, 28, 1)\n",
    "out_size = 10"
   ]
  },
  {
   "cell_type": "code",
   "execution_count": 3,
   "metadata": {},
   "outputs": [],
   "source": [
    "(X_train, y_train), (X_test, y_test) = mnist.load_data()\n",
    "\n",
    "X_train = X_train.reshape(X_train.shape[0], 28, 28, 1).astype('float32') / 255\n",
    "X_test = X_test.reshape(X_test.shape[0], 28, 28, 1).astype('float32') / 255\n",
    "\n",
    "y_train = keras.utils.to_categorical(y_train.astype('int32'),10)\n",
    "y_test = keras.utils.to_categorical(y_test.astype('int32'),10)"
   ]
  },
  {
   "cell_type": "code",
   "execution_count": 4,
   "metadata": {},
   "outputs": [],
   "source": [
    "model = Sequential()\n",
    "model.add(Conv2D(32, kernel_size=(3, 3),\n",
    "                 activation='relu',\n",
    "                 input_shape=in_shape))\n",
    "model.add(Conv2D(64, (3, 3), activation='relu'))\n",
    "model.add(MaxPooling2D(pool_size=(2, 2)))\n",
    "model.add(Dropout(0.25))\n",
    "model.add(Flatten())\n",
    "model.add(Dense(128, activation='relu'))\n",
    "model.add(Dropout(0.5))\n",
    "model.add(Dense(out_size, activation='softmax'))"
   ]
  },
  {
   "cell_type": "code",
   "execution_count": 5,
   "metadata": {},
   "outputs": [
    {
     "name": "stdout",
     "output_type": "stream",
     "text": [
      "Epoch 1/12\n",
      "469/469 [==============================] - 153s 321ms/step - loss: 0.4600 - accuracy: 0.8572 - val_loss: 0.0521 - val_accuracy: 0.9830\n",
      "Epoch 2/12\n",
      "469/469 [==============================] - 77s 164ms/step - loss: 0.0833 - accuracy: 0.9756 - val_loss: 0.0367 - val_accuracy: 0.9874\n",
      "Epoch 3/12\n",
      "469/469 [==============================] - 76s 162ms/step - loss: 0.0581 - accuracy: 0.9821 - val_loss: 0.0381 - val_accuracy: 0.9867\n",
      "Epoch 4/12\n",
      "469/469 [==============================] - 84s 178ms/step - loss: 0.0526 - accuracy: 0.9842 - val_loss: 0.0340 - val_accuracy: 0.9900\n",
      "Epoch 5/12\n",
      "469/469 [==============================] - 87s 185ms/step - loss: 0.0456 - accuracy: 0.9860 - val_loss: 0.0398 - val_accuracy: 0.9887\n",
      "Epoch 6/12\n",
      "469/469 [==============================] - 86s 183ms/step - loss: 0.0464 - accuracy: 0.9869 - val_loss: 0.0299 - val_accuracy: 0.9915\n",
      "Epoch 7/12\n",
      "469/469 [==============================] - 77s 164ms/step - loss: 0.0435 - accuracy: 0.9868 - val_loss: 0.0347 - val_accuracy: 0.9896\n",
      "Epoch 8/12\n",
      "469/469 [==============================] - 78s 166ms/step - loss: 0.0387 - accuracy: 0.9880 - val_loss: 0.0368 - val_accuracy: 0.9883\n",
      "Epoch 9/12\n",
      "469/469 [==============================] - 91s 194ms/step - loss: 0.0416 - accuracy: 0.9884 - val_loss: 0.0308 - val_accuracy: 0.9906\n",
      "Epoch 10/12\n",
      "469/469 [==============================] - 79s 169ms/step - loss: 0.0394 - accuracy: 0.9885 - val_loss: 0.0358 - val_accuracy: 0.9898\n",
      "Epoch 11/12\n",
      "469/469 [==============================] - 79s 168ms/step - loss: 0.0410 - accuracy: 0.9883 - val_loss: 0.0301 - val_accuracy: 0.9908\n",
      "Epoch 12/12\n",
      "469/469 [==============================] - 77s 163ms/step - loss: 0.0418 - accuracy: 0.9884 - val_loss: 0.0383 - val_accuracy: 0.9888\n"
     ]
    }
   ],
   "source": [
    "model.compile(\n",
    "    loss='categorical_crossentropy',\n",
    "    optimizer=RMSprop(),\n",
    "    metrics=['accuracy'])\n",
    "\n",
    "hist = model.fit(X_train, y_train,\n",
    "          batch_size=128, \n",
    "          epochs=12,\n",
    "          verbose=1,\n",
    "          validation_data=(X_test, y_test))"
   ]
  },
  {
   "cell_type": "code",
   "execution_count": 6,
   "metadata": {},
   "outputs": [
    {
     "name": "stdout",
     "output_type": "stream",
     "text": [
      "313/313 [==============================] - 4s 12ms/step - loss: 0.0383 - accuracy: 0.9888\n",
      "正解率= 0.9887999892234802 loss= 0.038282159715890884\n"
     ]
    }
   ],
   "source": [
    "score = model.evaluate(X_test, y_test, verbose=1)\n",
    "print('正解率=', score[1], 'loss=', score[0])"
   ]
  },
  {
   "cell_type": "code",
   "execution_count": 7,
   "metadata": {},
   "outputs": [
    {
     "data": {
      "image/png": "[encoded data removed]",
      "text/plain": [
       "<Figure size 432x288 with 1 Axes>"
      ]
     },
     "metadata": {
      "needs_background": "light"
     },
     "output_type": "display_data"
    }
   ],
   "source": [
    "plt.plot(hist.history['accuracy'])\n",
    "plt.plot(hist.history['val_accuracy'])\n",
    "plt.title('Accuracy')\n",
    "plt.legend(['train', 'test'], loc='upper left')\n",
    "plt.show()"
   ]
  },
  {
   "cell_type": "code",
   "execution_count": 8,
   "metadata": {},
   "outputs": [
    {
     "data": {
      "image/png": "[encoded data removed]",
      "text/plain": [
       "<Figure size 432x288 with 1 Axes>"
      ]
     },
     "metadata": {
      "needs_background": "light"
     },
     "output_type": "display_data"
    }
   ],
   "source": [
    "plt.plot(hist.history['loss'])\n",
    "plt.plot(hist.history['val_loss'])\n",
    "plt.title('Loss')\n",
    "plt.legend(['train', 'test'], loc='upper left')\n",
    "plt.show()"
   ]
  }
 ],
 "metadata": {
  "kernelspec": {
   "display_name": "Python 3",
   "language": "python",
   "name": "python3"
  },
  "language_info": {
   "codemirror_mode": {
    "name": "ipython",
    "version": 3
   },
   "file_extension": ".py",
   "mimetype": "text/x-python",
   "name": "python",
   "nbconvert_exporter": "python",
   "pygments_lexer": "ipython3",
   "version": "3.8.5"
  }
 },
 "nbformat": 4,
 "nbformat_minor": 4
}
