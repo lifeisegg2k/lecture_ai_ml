{
 "cells": [
  {
   "cell_type": "code",
   "execution_count": 1,
   "metadata": {},
   "outputs": [],
   "source": [
    "import matplotlib.pyplot as plt\n",
    "import keras\n",
    "from keras.datasets import cifar10\n",
    "from keras.models import Sequential\n",
    "from keras.layers import Dense, Dropout, Activation, Flatten\n",
    "from keras.layers import Conv2D, MaxPooling2D"
   ]
  },
  {
   "cell_type": "code",
   "execution_count": 2,
   "metadata": {},
   "outputs": [],
   "source": [
    "num_classes = 10\n",
    "im_rows = 32\n",
    "im_cols = 32\n",
    "in_shape = (im_rows, im_cols, 3)"
   ]
  },
  {
   "cell_type": "code",
   "execution_count": 3,
   "metadata": {},
   "outputs": [],
   "source": [
    "(X_train, y_train), (X_test, y_test) = cifar10.load_data()\n",
    "\n",
    "X_train = X_train.astype('float32') / 255\n",
    "X_test = X_test.astype('float32') / 255\n",
    "\n",
    "y_train = keras.utils.to_categorical(y_train, num_classes)\n",
    "y_test = keras.utils.to_categorical(y_test, num_classes)"
   ]
  },
  {
   "cell_type": "code",
   "execution_count": 4,
   "metadata": {},
   "outputs": [],
   "source": [
    "model = Sequential()\n",
    "model.add(Conv2D(32, (3, 3), padding='same',\n",
    "                 input_shape=in_shape))\n",
    "model.add(Activation('relu'))\n",
    "model.add(Conv2D(32, (3, 3)))\n",
    "model.add(Activation('relu'))\n",
    "model.add(MaxPooling2D(pool_size=(2, 2)))\n",
    "model.add(Dropout(0.25))\n",
    "\n",
    "model.add(Conv2D(64, (3, 3), padding='same'))\n",
    "model.add(Activation('relu'))\n",
    "model.add(Conv2D(64, (3, 3)))\n",
    "model.add(Activation('relu'))\n",
    "model.add(MaxPooling2D(pool_size=(2, 2)))\n",
    "model.add(Dropout(0.25))\n",
    "\n",
    "model.add(Flatten())\n",
    "model.add(Dense(512))\n",
    "model.add(Activation('relu'))\n",
    "model.add(Dropout(0.5))\n",
    "model.add(Dense(num_classes))\n",
    "model.add(Activation('softmax'))"
   ]
  },
  {
   "cell_type": "code",
   "execution_count": 5,
   "metadata": {},
   "outputs": [
    {
     "name": "stdout",
     "output_type": "stream",
     "text": [
      "Epoch 1/50\n",
      "1563/1563 [==============================] - 142s 90ms/step - loss: 1.7633 - accuracy: 0.3493 - val_loss: 1.1312 - val_accuracy: 0.5958\n",
      "Epoch 2/50\n",
      "1563/1563 [==============================] - 129s 83ms/step - loss: 1.1637 - accuracy: 0.5853 - val_loss: 0.9700 - val_accuracy: 0.6618\n",
      "Epoch 3/50\n",
      "1563/1563 [==============================] - 128s 82ms/step - loss: 0.9888 - accuracy: 0.6517 - val_loss: 0.9156 - val_accuracy: 0.6789\n",
      "Epoch 4/50\n",
      "1563/1563 [==============================] - 137s 87ms/step - loss: 0.8925 - accuracy: 0.6852 - val_loss: 0.7861 - val_accuracy: 0.7275\n",
      "Epoch 5/50\n",
      "1563/1563 [==============================] - 137s 88ms/step - loss: 0.8207 - accuracy: 0.7123 - val_loss: 0.7400 - val_accuracy: 0.7490\n",
      "Epoch 6/50\n",
      "1563/1563 [==============================] - 138s 89ms/step - loss: 0.7641 - accuracy: 0.7339 - val_loss: 0.7546 - val_accuracy: 0.7397\n",
      "Epoch 7/50\n",
      "1563/1563 [==============================] - 138s 88ms/step - loss: 0.7340 - accuracy: 0.7446 - val_loss: 0.7303 - val_accuracy: 0.7492\n",
      "Epoch 8/50\n",
      "1563/1563 [==============================] - 137s 88ms/step - loss: 0.7054 - accuracy: 0.7507 - val_loss: 0.6805 - val_accuracy: 0.7688\n",
      "Epoch 9/50\n",
      "1563/1563 [==============================] - 139s 89ms/step - loss: 0.6749 - accuracy: 0.7632 - val_loss: 0.6970 - val_accuracy: 0.7587\n",
      "Epoch 10/50\n",
      "1563/1563 [==============================] - 138s 89ms/step - loss: 0.6506 - accuracy: 0.7708 - val_loss: 0.6859 - val_accuracy: 0.7645\n",
      "Epoch 11/50\n",
      "1563/1563 [==============================] - 138s 89ms/step - loss: 0.6326 - accuracy: 0.7766 - val_loss: 0.6650 - val_accuracy: 0.7735\n",
      "Epoch 12/50\n",
      "1563/1563 [==============================] - 139s 89ms/step - loss: 0.6116 - accuracy: 0.7850 - val_loss: 0.6861 - val_accuracy: 0.7658\n",
      "Epoch 13/50\n",
      "1563/1563 [==============================] - 137s 87ms/step - loss: 0.6014 - accuracy: 0.7889 - val_loss: 0.6756 - val_accuracy: 0.7713\n",
      "Epoch 14/50\n",
      "1563/1563 [==============================] - 136s 87ms/step - loss: 0.5800 - accuracy: 0.7959 - val_loss: 0.6791 - val_accuracy: 0.7660\n",
      "Epoch 15/50\n",
      "1563/1563 [==============================] - 137s 88ms/step - loss: 0.5720 - accuracy: 0.7992 - val_loss: 0.6587 - val_accuracy: 0.7794\n",
      "Epoch 16/50\n",
      "1563/1563 [==============================] - 137s 88ms/step - loss: 0.5583 - accuracy: 0.8056 - val_loss: 0.6549 - val_accuracy: 0.7819\n",
      "Epoch 17/50\n",
      "1563/1563 [==============================] - 137s 88ms/step - loss: 0.5491 - accuracy: 0.8063 - val_loss: 0.6562 - val_accuracy: 0.7863\n",
      "Epoch 18/50\n",
      "1563/1563 [==============================] - 140s 90ms/step - loss: 0.5356 - accuracy: 0.8098 - val_loss: 0.6503 - val_accuracy: 0.7812\n",
      "Epoch 19/50\n",
      "1563/1563 [==============================] - 140s 89ms/step - loss: 0.5260 - accuracy: 0.8125 - val_loss: 0.6477 - val_accuracy: 0.7846\n",
      "Epoch 20/50\n",
      "1563/1563 [==============================] - 137s 88ms/step - loss: 0.5220 - accuracy: 0.8138 - val_loss: 0.6637 - val_accuracy: 0.7841\n",
      "Epoch 21/50\n",
      "1563/1563 [==============================] - 138s 88ms/step - loss: 0.5238 - accuracy: 0.8135 - val_loss: 0.6531 - val_accuracy: 0.7850\n",
      "Epoch 22/50\n",
      "1563/1563 [==============================] - 139s 89ms/step - loss: 0.4981 - accuracy: 0.8245 - val_loss: 0.6382 - val_accuracy: 0.7901\n",
      "Epoch 23/50\n",
      "1563/1563 [==============================] - 137s 87ms/step - loss: 0.5012 - accuracy: 0.8249 - val_loss: 0.6294 - val_accuracy: 0.7912\n",
      "Epoch 24/50\n",
      "1563/1563 [==============================] - 139s 89ms/step - loss: 0.4954 - accuracy: 0.8260 - val_loss: 0.6369 - val_accuracy: 0.7893\n",
      "Epoch 25/50\n",
      "1563/1563 [==============================] - 139s 89ms/step - loss: 0.4721 - accuracy: 0.8339 - val_loss: 0.6837 - val_accuracy: 0.7779\n",
      "Epoch 26/50\n",
      "1563/1563 [==============================] - 139s 89ms/step - loss: 0.4757 - accuracy: 0.8291 - val_loss: 0.6362 - val_accuracy: 0.7887\n",
      "Epoch 27/50\n",
      "1563/1563 [==============================] - 138s 88ms/step - loss: 0.4657 - accuracy: 0.8358 - val_loss: 0.6464 - val_accuracy: 0.7899\n",
      "Epoch 28/50\n",
      "1563/1563 [==============================] - 139s 89ms/step - loss: 0.4634 - accuracy: 0.8377 - val_loss: 0.6378 - val_accuracy: 0.7921\n",
      "Epoch 29/50\n",
      "1563/1563 [==============================] - 139s 89ms/step - loss: 0.4716 - accuracy: 0.8325 - val_loss: 0.6892 - val_accuracy: 0.7757\n",
      "Epoch 30/50\n",
      "1563/1563 [==============================] - 166s 107ms/step - loss: 0.4609 - accuracy: 0.8378 - val_loss: 0.6273 - val_accuracy: 0.7923\n",
      "Epoch 31/50\n",
      "1563/1563 [==============================] - 153s 98ms/step - loss: 0.4611 - accuracy: 0.8371 - val_loss: 0.6723 - val_accuracy: 0.7834\n",
      "Epoch 32/50\n",
      "1563/1563 [==============================] - 143s 91ms/step - loss: 0.4416 - accuracy: 0.8483 - val_loss: 0.6317 - val_accuracy: 0.7914\n",
      "Epoch 33/50\n",
      "1563/1563 [==============================] - 136s 87ms/step - loss: 0.4399 - accuracy: 0.8442 - val_loss: 0.6602 - val_accuracy: 0.7909\n",
      "Epoch 34/50\n",
      "1563/1563 [==============================] - 142s 91ms/step - loss: 0.4534 - accuracy: 0.8417 - val_loss: 0.7008 - val_accuracy: 0.7748\n",
      "Epoch 35/50\n",
      "1563/1563 [==============================] - 143s 92ms/step - loss: 0.4328 - accuracy: 0.8502 - val_loss: 0.6805 - val_accuracy: 0.7759\n",
      "Epoch 36/50\n",
      "1563/1563 [==============================] - 139s 89ms/step - loss: 0.4282 - accuracy: 0.8501 - val_loss: 0.6555 - val_accuracy: 0.7912\n",
      "Epoch 37/50\n",
      "1563/1563 [==============================] - 136s 87ms/step - loss: 0.4270 - accuracy: 0.8494 - val_loss: 0.6798 - val_accuracy: 0.7840\n",
      "Epoch 38/50\n",
      "1563/1563 [==============================] - 137s 88ms/step - loss: 0.4203 - accuracy: 0.8527 - val_loss: 0.6616 - val_accuracy: 0.7953\n",
      "Epoch 39/50\n",
      "1563/1563 [==============================] - 138s 89ms/step - loss: 0.4219 - accuracy: 0.8558 - val_loss: 0.6692 - val_accuracy: 0.7882\n",
      "Epoch 40/50\n",
      "1563/1563 [==============================] - 138s 88ms/step - loss: 0.4107 - accuracy: 0.8556 - val_loss: 0.6506 - val_accuracy: 0.7925\n",
      "Epoch 41/50\n",
      "1563/1563 [==============================] - 139s 89ms/step - loss: 0.4179 - accuracy: 0.8551 - val_loss: 0.6883 - val_accuracy: 0.7922\n",
      "Epoch 42/50\n",
      "1563/1563 [==============================] - 137s 88ms/step - loss: 0.4146 - accuracy: 0.8543 - val_loss: 0.6451 - val_accuracy: 0.7953\n",
      "Epoch 43/50\n",
      "1563/1563 [==============================] - 139s 89ms/step - loss: 0.4067 - accuracy: 0.8554 - val_loss: 0.6426 - val_accuracy: 0.8009\n",
      "Epoch 44/50\n",
      "1563/1563 [==============================] - 139s 89ms/step - loss: 0.4098 - accuracy: 0.8588 - val_loss: 0.6650 - val_accuracy: 0.7942\n",
      "Epoch 45/50\n",
      "1563/1563 [==============================] - 141s 90ms/step - loss: 0.4029 - accuracy: 0.8586 - val_loss: 0.6773 - val_accuracy: 0.7924\n",
      "Epoch 46/50\n",
      "1563/1563 [==============================] - 160s 103ms/step - loss: 0.3978 - accuracy: 0.8624 - val_loss: 0.6949 - val_accuracy: 0.7856\n",
      "Epoch 47/50\n",
      "1563/1563 [==============================] - 143s 91ms/step - loss: 0.3977 - accuracy: 0.8602 - val_loss: 0.6588 - val_accuracy: 0.8003\n",
      "Epoch 48/50\n",
      "1563/1563 [==============================] - 139s 89ms/step - loss: 0.3934 - accuracy: 0.8624 - val_loss: 0.6431 - val_accuracy: 0.7946\n",
      "Epoch 49/50\n",
      "1563/1563 [==============================] - 140s 90ms/step - loss: 0.3917 - accuracy: 0.8630 - val_loss: 0.7148 - val_accuracy: 0.7945\n",
      "Epoch 50/50\n",
      "1563/1563 [==============================] - 139s 89ms/step - loss: 0.3914 - accuracy: 0.8636 - val_loss: 0.6907 - val_accuracy: 0.7968\n"
     ]
    }
   ],
   "source": [
    "model.compile(\n",
    "    loss='categorical_crossentropy',\n",
    "    optimizer='adam',\n",
    "    metrics=['accuracy'])\n",
    "\n",
    "model.save_weights('cifar10-weight-cnn.h5')\n",
    "\n",
    "hist = model.fit(X_train, y_train,\n",
    "    batch_size=32, epochs=50,\n",
    "    verbose=1,\n",
    "    validation_data=(X_test, y_test))"
   ]
  },
  {
   "cell_type": "code",
   "execution_count": 6,
   "metadata": {},
   "outputs": [
    {
     "name": "stdout",
     "output_type": "stream",
     "text": [
      "313/313 [==============================] - 6s 19ms/step - loss: 0.6907 - accuracy: 0.7968\n",
      "正解率= 0.7968000173568726 loss= 0.6906844973564148\n"
     ]
    }
   ],
   "source": [
    "score = model.evaluate(X_test, y_test, verbose=1)\n",
    "print('正解率=', score[1], 'loss=', score[0])"
   ]
  },
  {
   "cell_type": "code",
   "execution_count": 7,
   "metadata": {},
   "outputs": [
    {
     "data": {
      "image/png": "[encoded data removed]",
      "text/plain": [
       "<Figure size 432x288 with 1 Axes>"
      ]
     },
     "metadata": {
      "needs_background": "light"
     },
     "output_type": "display_data"
    }
   ],
   "source": [
    "plt.plot(hist.history['accuracy'])\n",
    "plt.plot(hist.history['val_accuracy'])\n",
    "plt.title('Accuracy')\n",
    "plt.legend(['train', 'test'], loc='upper left')\n",
    "plt.show()"
   ]
  },
  {
   "cell_type": "code",
   "execution_count": 8,
   "metadata": {},
   "outputs": [
    {
     "data": {
      "image/png": "[encoded data removed]",
      "text/plain": [
       "<Figure size 432x288 with 1 Axes>"
      ]
     },
     "metadata": {
      "needs_background": "light"
     },
     "output_type": "display_data"
    }
   ],
   "source": [
    "plt.plot(hist.history['loss'])\n",
    "plt.plot(hist.history['val_loss'])\n",
    "plt.title('Loss')\n",
    "plt.legend(['train', 'test'], loc='upper left')\n",
    "plt.show()"
   ]
  },
  {
   "cell_type": "code",
   "execution_count": null,
   "metadata": {},
   "outputs": [],
   "source": []
  }
 ],
 "metadata": {
  "kernelspec": {
   "display_name": "Python 3",
   "language": "python",
   "name": "python3"
  },
  "language_info": {
   "codemirror_mode": {
    "name": "ipython",
    "version": 3
   },
   "file_extension": ".py",
   "mimetype": "text/x-python",
   "name": "python",
   "nbconvert_exporter": "python",
   "pygments_lexer": "ipython3",
   "version": "3.8.5"
  }
 },
 "nbformat": 4,
 "nbformat_minor": 4
}
