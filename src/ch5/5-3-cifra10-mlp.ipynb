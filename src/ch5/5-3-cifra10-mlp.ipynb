{
 "cells": [
  {
   "cell_type": "code",
   "execution_count": 1,
   "metadata": {},
   "outputs": [],
   "source": [
    "import matplotlib.pyplot as plt\n",
    "import keras\n",
    "from keras.datasets import cifar10\n",
    "from keras.models import Sequential\n",
    "from keras.layers import Dense, Dropout"
   ]
  },
  {
   "cell_type": "code",
   "execution_count": 2,
   "metadata": {},
   "outputs": [],
   "source": [
    "num_classes = 10\n",
    "im_rows = 32\n",
    "im_cols = 32\n",
    "im_size = im_rows * im_cols * 3"
   ]
  },
  {
   "cell_type": "code",
   "execution_count": 3,
   "metadata": {},
   "outputs": [],
   "source": [
    "(X_train, y_train), (X_test, y_test) = cifar10.load_data()\n",
    "\n",
    "X_train = X_train.reshape(-1, im_size).astype('float32') / 255\n",
    "X_test = X_test.reshape(-1, im_size).astype('float32') / 255\n",
    "\n",
    "y_train = keras.utils.to_categorical(y_train, num_classes)\n",
    "y_test = keras.utils.to_categorical(y_test, num_classes)"
   ]
  },
  {
   "cell_type": "code",
   "execution_count": 4,
   "metadata": {},
   "outputs": [],
   "source": [
    "model = Sequential()\n",
    "model.add(Dense(512, activation='relu', input_shape=(im_size,)))\n",
    "model.add(Dense(num_classes, activation='softmax'))"
   ]
  },
  {
   "cell_type": "code",
   "execution_count": 5,
   "metadata": {},
   "outputs": [
    {
     "name": "stdout",
     "output_type": "stream",
     "text": [
      "Epoch 1/50\n",
      "1563/1563 [==============================] - 14s 9ms/step - loss: 2.0951 - accuracy: 0.2887 - val_loss: 1.7575 - val_accuracy: 0.3494\n",
      "Epoch 2/50\n",
      "1563/1563 [==============================] - 15s 10ms/step - loss: 1.7235 - accuracy: 0.3827 - val_loss: 1.6513 - val_accuracy: 0.4035\n",
      "Epoch 3/50\n",
      "1563/1563 [==============================] - 12s 7ms/step - loss: 1.6449 - accuracy: 0.4190 - val_loss: 1.6305 - val_accuracy: 0.4185\n",
      "Epoch 4/50\n",
      "1563/1563 [==============================] - 14s 9ms/step - loss: 1.6133 - accuracy: 0.4248 - val_loss: 1.6102 - val_accuracy: 0.4211\n",
      "Epoch 5/50\n",
      "1563/1563 [==============================] - 13s 8ms/step - loss: 1.5799 - accuracy: 0.4347 - val_loss: 1.5723 - val_accuracy: 0.4360\n",
      "Epoch 6/50\n",
      "1563/1563 [==============================] - 12s 8ms/step - loss: 1.5516 - accuracy: 0.4434 - val_loss: 1.5920 - val_accuracy: 0.4321\n",
      "Epoch 7/50\n",
      "1563/1563 [==============================] - 12s 8ms/step - loss: 1.5365 - accuracy: 0.4510 - val_loss: 1.6448 - val_accuracy: 0.4277\n",
      "Epoch 8/50\n",
      "1563/1563 [==============================] - 17s 11ms/step - loss: 1.5088 - accuracy: 0.4639 - val_loss: 1.5676 - val_accuracy: 0.4454\n",
      "Epoch 9/50\n",
      "1563/1563 [==============================] - 15s 9ms/step - loss: 1.4994 - accuracy: 0.4662 - val_loss: 1.5473 - val_accuracy: 0.4524\n",
      "Epoch 10/50\n",
      "1563/1563 [==============================] - 12s 8ms/step - loss: 1.4821 - accuracy: 0.4730 - val_loss: 1.5470 - val_accuracy: 0.4431\n",
      "Epoch 11/50\n",
      "1563/1563 [==============================] - 14s 9ms/step - loss: 1.4805 - accuracy: 0.4696 - val_loss: 1.5400 - val_accuracy: 0.4515\n",
      "Epoch 12/50\n",
      "1563/1563 [==============================] - 14s 9ms/step - loss: 1.4622 - accuracy: 0.4798 - val_loss: 1.5210 - val_accuracy: 0.4576\n",
      "Epoch 13/50\n",
      "1563/1563 [==============================] - 13s 8ms/step - loss: 1.4515 - accuracy: 0.4813 - val_loss: 1.4921 - val_accuracy: 0.4667\n",
      "Epoch 14/50\n",
      "1563/1563 [==============================] - 16s 11ms/step - loss: 1.4380 - accuracy: 0.4874 - val_loss: 1.5039 - val_accuracy: 0.4626\n",
      "Epoch 15/50\n",
      "1563/1563 [==============================] - 13s 8ms/step - loss: 1.4366 - accuracy: 0.4894 - val_loss: 1.4932 - val_accuracy: 0.4698\n",
      "Epoch 16/50\n",
      "1563/1563 [==============================] - 13s 8ms/step - loss: 1.4269 - accuracy: 0.4892 - val_loss: 1.4984 - val_accuracy: 0.4714\n",
      "Epoch 17/50\n",
      "1563/1563 [==============================] - 13s 8ms/step - loss: 1.4300 - accuracy: 0.4905 - val_loss: 1.5298 - val_accuracy: 0.4555\n",
      "Epoch 18/50\n",
      "1563/1563 [==============================] - 12s 7ms/step - loss: 1.4214 - accuracy: 0.4938 - val_loss: 1.5104 - val_accuracy: 0.4645\n",
      "Epoch 19/50\n",
      "1563/1563 [==============================] - 12s 8ms/step - loss: 1.4038 - accuracy: 0.5006 - val_loss: 1.5461 - val_accuracy: 0.4460\n",
      "Epoch 20/50\n",
      "1563/1563 [==============================] - 12s 8ms/step - loss: 1.4056 - accuracy: 0.5018 - val_loss: 1.4912 - val_accuracy: 0.4714\n",
      "Epoch 21/50\n",
      "1563/1563 [==============================] - 11s 7ms/step - loss: 1.3939 - accuracy: 0.5056 - val_loss: 1.4975 - val_accuracy: 0.4671\n",
      "Epoch 22/50\n",
      "1563/1563 [==============================] - 12s 8ms/step - loss: 1.3897 - accuracy: 0.5039 - val_loss: 1.5081 - val_accuracy: 0.4691\n",
      "Epoch 23/50\n",
      "1563/1563 [==============================] - 12s 8ms/step - loss: 1.3853 - accuracy: 0.5087 - val_loss: 1.5355 - val_accuracy: 0.4646\n",
      "Epoch 24/50\n",
      "1563/1563 [==============================] - 11s 7ms/step - loss: 1.3834 - accuracy: 0.5047 - val_loss: 1.4946 - val_accuracy: 0.4764\n",
      "Epoch 25/50\n",
      "1563/1563 [==============================] - 12s 7ms/step - loss: 1.3773 - accuracy: 0.5117 - val_loss: 1.5040 - val_accuracy: 0.4655\n",
      "Epoch 26/50\n",
      "1563/1563 [==============================] - 11s 7ms/step - loss: 1.3599 - accuracy: 0.5157 - val_loss: 1.5156 - val_accuracy: 0.4691\n",
      "Epoch 27/50\n",
      "1563/1563 [==============================] - 12s 7ms/step - loss: 1.3600 - accuracy: 0.5179 - val_loss: 1.4912 - val_accuracy: 0.4711\n",
      "Epoch 28/50\n",
      "1563/1563 [==============================] - 12s 8ms/step - loss: 1.3659 - accuracy: 0.5124 - val_loss: 1.5192 - val_accuracy: 0.4661\n",
      "Epoch 29/50\n",
      "1563/1563 [==============================] - 16s 10ms/step - loss: 1.3567 - accuracy: 0.5164 - val_loss: 1.4919 - val_accuracy: 0.4750\n",
      "Epoch 30/50\n",
      "1563/1563 [==============================] - 13s 8ms/step - loss: 1.3496 - accuracy: 0.5178 - val_loss: 1.5758 - val_accuracy: 0.4559\n",
      "Epoch 31/50\n",
      "1563/1563 [==============================] - 14s 9ms/step - loss: 1.3412 - accuracy: 0.5218 - val_loss: 1.5554 - val_accuracy: 0.4538\n",
      "Epoch 32/50\n",
      "1563/1563 [==============================] - 12s 8ms/step - loss: 1.3511 - accuracy: 0.5212 - val_loss: 1.5058 - val_accuracy: 0.4709\n",
      "Epoch 33/50\n",
      "1563/1563 [==============================] - 15s 9ms/step - loss: 1.3415 - accuracy: 0.5265 - val_loss: 1.5129 - val_accuracy: 0.4652\n",
      "Epoch 34/50\n",
      "1563/1563 [==============================] - 13s 9ms/step - loss: 1.3428 - accuracy: 0.5208 - val_loss: 1.4916 - val_accuracy: 0.4826\n",
      "Epoch 35/50\n",
      "1563/1563 [==============================] - 12s 8ms/step - loss: 1.3308 - accuracy: 0.5249 - val_loss: 1.4911 - val_accuracy: 0.4811\n",
      "Epoch 36/50\n",
      "1563/1563 [==============================] - 13s 8ms/step - loss: 1.3311 - accuracy: 0.5220 - val_loss: 1.5164 - val_accuracy: 0.4697\n",
      "Epoch 37/50\n",
      "1563/1563 [==============================] - 11s 7ms/step - loss: 1.3213 - accuracy: 0.5296 - val_loss: 1.5176 - val_accuracy: 0.4639\n",
      "Epoch 38/50\n",
      "1563/1563 [==============================] - 13s 8ms/step - loss: 1.3247 - accuracy: 0.5281 - val_loss: 1.5145 - val_accuracy: 0.4633\n",
      "Epoch 39/50\n",
      "1563/1563 [==============================] - 13s 8ms/step - loss: 1.3124 - accuracy: 0.5330 - val_loss: 1.5146 - val_accuracy: 0.4668\n",
      "Epoch 40/50\n",
      "1563/1563 [==============================] - 13s 8ms/step - loss: 1.3097 - accuracy: 0.5296 - val_loss: 1.4981 - val_accuracy: 0.4739\n",
      "Epoch 41/50\n",
      "1563/1563 [==============================] - 12s 8ms/step - loss: 1.3075 - accuracy: 0.5344 - val_loss: 1.5021 - val_accuracy: 0.4735\n",
      "Epoch 42/50\n",
      "1563/1563 [==============================] - 14s 9ms/step - loss: 1.3123 - accuracy: 0.5328 - val_loss: 1.5176 - val_accuracy: 0.4690\n",
      "Epoch 43/50\n",
      "1563/1563 [==============================] - 14s 9ms/step - loss: 1.3072 - accuracy: 0.5328 - val_loss: 1.5777 - val_accuracy: 0.4578\n",
      "Epoch 44/50\n",
      "1563/1563 [==============================] - 13s 8ms/step - loss: 1.3158 - accuracy: 0.5298 - val_loss: 1.4939 - val_accuracy: 0.4748\n",
      "Epoch 45/50\n",
      "1563/1563 [==============================] - 12s 8ms/step - loss: 1.3070 - accuracy: 0.5355 - val_loss: 1.5631 - val_accuracy: 0.4571\n",
      "Epoch 46/50\n",
      "1563/1563 [==============================] - 18s 11ms/step - loss: 1.2991 - accuracy: 0.5396 - val_loss: 1.5313 - val_accuracy: 0.4743\n",
      "Epoch 47/50\n",
      "1563/1563 [==============================] - 24s 15ms/step - loss: 1.2967 - accuracy: 0.5362 - val_loss: 1.4963 - val_accuracy: 0.4756\n",
      "Epoch 48/50\n",
      "1563/1563 [==============================] - 25s 16ms/step - loss: 1.2894 - accuracy: 0.5386 - val_loss: 1.5448 - val_accuracy: 0.4609\n",
      "Epoch 49/50\n",
      "1563/1563 [==============================] - 26s 17ms/step - loss: 1.2919 - accuracy: 0.5367 - val_loss: 1.5149 - val_accuracy: 0.4747\n",
      "Epoch 50/50\n",
      "1563/1563 [==============================] - 28s 18ms/step - loss: 1.2862 - accuracy: 0.5408 - val_loss: 1.5368 - val_accuracy: 0.4726\n"
     ]
    }
   ],
   "source": [
    "model.compile(\n",
    "    loss='categorical_crossentropy',\n",
    "    optimizer='adam',\n",
    "    metrics=['accuracy'])\n",
    "\n",
    "hist = model.fit(X_train, y_train,\n",
    "    batch_size=32, epochs=50,\n",
    "    verbose=1,\n",
    "    validation_data=(X_test, y_test))"
   ]
  },
  {
   "cell_type": "code",
   "execution_count": 6,
   "metadata": {},
   "outputs": [
    {
     "name": "stdout",
     "output_type": "stream",
     "text": [
      "313/313 [==============================] - 2s 6ms/step - loss: 1.5368 - accuracy: 0.4726\n",
      "正解率= 0.4726000130176544 loss= 1.5367990732192993\n"
     ]
    }
   ],
   "source": [
    "score = model.evaluate(X_test, y_test, verbose=1)\n",
    "print('正解率=', score[1], 'loss=', score[0])"
   ]
  },
  {
   "cell_type": "code",
   "execution_count": 7,
   "metadata": {},
   "outputs": [
    {
     "data": {
      "image/png": "[encoded data removed]",
      "text/plain": [
       "<Figure size 432x288 with 1 Axes>"
      ]
     },
     "metadata": {
      "needs_background": "light"
     },
     "output_type": "display_data"
    }
   ],
   "source": [
    "plt.plot(hist.history['accuracy'])\n",
    "plt.plot(hist.history['val_accuracy'])\n",
    "plt.title('Accuracy')\n",
    "plt.legend(['train', 'test'], loc='upper left')\n",
    "plt.show()"
   ]
  },
  {
   "cell_type": "code",
   "execution_count": 8,
   "metadata": {},
   "outputs": [
    {
     "data": {
      "image/png": "[encoded data removed]",
      "text/plain": [
       "<Figure size 432x288 with 1 Axes>"
      ]
     },
     "metadata": {
      "needs_background": "light"
     },
     "output_type": "display_data"
    }
   ],
   "source": [
    "plt.plot(hist.history['loss'])\n",
    "plt.plot(hist.history['val_loss'])\n",
    "plt.title('Loss')\n",
    "plt.legend(['train', 'test'], loc='upper left')\n",
    "plt.show()"
   ]
  },
  {
   "cell_type": "code",
   "execution_count": 9,
   "metadata": {},
   "outputs": [],
   "source": [
    "model.save_weights('cifar10-weight-mlp.h5')"
   ]
  },
  {
   "cell_type": "code",
   "execution_count": null,
   "metadata": {},
   "outputs": [],
   "source": []
  }
 ],
 "metadata": {
  "kernelspec": {
   "display_name": "Python 3",
   "language": "python",
   "name": "python3"
  },
  "language_info": {
   "codemirror_mode": {
    "name": "ipython",
    "version": 3
   },
   "file_extension": ".py",
   "mimetype": "text/x-python",
   "name": "python",
   "nbconvert_exporter": "python",
   "pygments_lexer": "ipython3",
   "version": "3.8.5"
  }
 },
 "nbformat": 4,
 "nbformat_minor": 4
}
