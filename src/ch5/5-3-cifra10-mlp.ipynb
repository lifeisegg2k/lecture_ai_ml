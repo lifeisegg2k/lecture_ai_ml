{
 "cells": [
  {
   "cell_type": "code",
   "execution_count": 1,
   "metadata": {},
   "outputs": [],
   "source": [
    "import matplotlib.pyplot as plt\n",
    "import keras\n",
    "from keras.datasets import cifar10\n",
    "from keras.models import Sequential\n",
    "from keras.layers import Dense, Dropout"
   ]
  },
  {
   "cell_type": "code",
   "execution_count": 2,
   "metadata": {},
   "outputs": [],
   "source": [
    "num_classes = 10\n",
    "im_rows = 32\n",
    "im_cols = 32\n",
    "im_size = im_rows * im_cols * 3"
   ]
  },
  {
   "cell_type": "code",
   "execution_count": 3,
   "metadata": {},
   "outputs": [],
   "source": [
    "(X_train, y_train), (X_test, y_test) = cifar10.load_data()\n",
    "\n",
    "X_train = X_train.reshape(-1, im_size).astype('float32') / 255\n",
    "X_test = X_test.reshape(-1, im_size).astype('float32') / 255\n",
    "\n",
    "y_train = keras.utils.to_categorical(y_train, num_classes)\n",
    "y_test = keras.utils.to_categorical(y_test, num_classes)"
   ]
  },
  {
   "cell_type": "code",
   "execution_count": 4,
   "metadata": {},
   "outputs": [],
   "source": [
    "model = Sequential()\n",
    "model.add(Dense(512, activation='relu', input_shape=(im_size,)))\n",
    "model.add(Dense(num_classes, activation='softmax'))"
   ]
  },
  {
   "cell_type": "code",
   "execution_count": 5,
   "metadata": {},
   "outputs": [
    {
     "name": "stdout",
     "output_type": "stream",
     "text": [
      "Epoch 1/50\n",
      "1563/1563 [==============================] - 13s 8ms/step - loss: 2.0939 - accuracy: 0.2835 - val_loss: 1.7731 - val_accuracy: 0.3696\n",
      "Epoch 2/50\n",
      "1563/1563 [==============================] - 12s 8ms/step - loss: 1.7171 - accuracy: 0.3844 - val_loss: 1.6614 - val_accuracy: 0.4131\n",
      "Epoch 3/50\n",
      "1563/1563 [==============================] - 12s 8ms/step - loss: 1.6483 - accuracy: 0.4107 - val_loss: 1.6500 - val_accuracy: 0.4091\n",
      "Epoch 4/50\n",
      "1563/1563 [==============================] - 12s 7ms/step - loss: 1.6049 - accuracy: 0.4237 - val_loss: 1.5997 - val_accuracy: 0.4220\n",
      "Epoch 5/50\n",
      "1563/1563 [==============================] - 12s 7ms/step - loss: 1.5780 - accuracy: 0.4368 - val_loss: 1.6073 - val_accuracy: 0.4270\n",
      "Epoch 6/50\n",
      "1563/1563 [==============================] - 11s 7ms/step - loss: 1.5485 - accuracy: 0.4416 - val_loss: 1.5611 - val_accuracy: 0.4497\n",
      "Epoch 7/50\n",
      "1563/1563 [==============================] - 12s 7ms/step - loss: 1.5366 - accuracy: 0.4527 - val_loss: 1.5688 - val_accuracy: 0.4346\n",
      "Epoch 8/50\n",
      "1563/1563 [==============================] - 12s 8ms/step - loss: 1.5279 - accuracy: 0.4573 - val_loss: 1.5320 - val_accuracy: 0.4516\n",
      "Epoch 9/50\n",
      "1563/1563 [==============================] - 12s 8ms/step - loss: 1.5124 - accuracy: 0.4642 - val_loss: 1.5160 - val_accuracy: 0.4650\n",
      "Epoch 10/50\n",
      "1563/1563 [==============================] - 12s 8ms/step - loss: 1.4952 - accuracy: 0.4689 - val_loss: 1.6216 - val_accuracy: 0.4253\n",
      "Epoch 11/50\n",
      "1563/1563 [==============================] - 12s 8ms/step - loss: 1.4911 - accuracy: 0.4660 - val_loss: 1.5199 - val_accuracy: 0.4593\n",
      "Epoch 12/50\n",
      "1563/1563 [==============================] - 12s 8ms/step - loss: 1.4697 - accuracy: 0.4795 - val_loss: 1.5432 - val_accuracy: 0.4477\n",
      "Epoch 13/50\n",
      "1563/1563 [==============================] - 12s 8ms/step - loss: 1.4611 - accuracy: 0.4775 - val_loss: 1.5504 - val_accuracy: 0.4409\n",
      "Epoch 14/50\n",
      "1563/1563 [==============================] - 12s 8ms/step - loss: 1.4655 - accuracy: 0.4820 - val_loss: 1.5283 - val_accuracy: 0.4591\n",
      "Epoch 15/50\n",
      "1563/1563 [==============================] - 12s 8ms/step - loss: 1.4410 - accuracy: 0.4843 - val_loss: 1.5286 - val_accuracy: 0.4581\n",
      "Epoch 16/50\n",
      "1563/1563 [==============================] - 12s 8ms/step - loss: 1.4381 - accuracy: 0.4888 - val_loss: 1.4970 - val_accuracy: 0.4644\n",
      "Epoch 17/50\n",
      "1563/1563 [==============================] - 12s 7ms/step - loss: 1.4327 - accuracy: 0.4927 - val_loss: 1.5066 - val_accuracy: 0.4636\n",
      "Epoch 18/50\n",
      "1563/1563 [==============================] - 12s 7ms/step - loss: 1.4269 - accuracy: 0.4889 - val_loss: 1.5289 - val_accuracy: 0.4561\n",
      "Epoch 19/50\n",
      "1563/1563 [==============================] - 12s 7ms/step - loss: 1.4189 - accuracy: 0.4938 - val_loss: 1.5417 - val_accuracy: 0.4559\n",
      "Epoch 20/50\n",
      "1563/1563 [==============================] - 12s 7ms/step - loss: 1.4175 - accuracy: 0.4933 - val_loss: 1.4867 - val_accuracy: 0.4694\n",
      "Epoch 21/50\n",
      "1563/1563 [==============================] - 12s 8ms/step - loss: 1.4065 - accuracy: 0.4970 - val_loss: 1.4926 - val_accuracy: 0.4649\n",
      "Epoch 22/50\n",
      "1563/1563 [==============================] - 12s 8ms/step - loss: 1.4022 - accuracy: 0.4975 - val_loss: 1.5422 - val_accuracy: 0.4558\n",
      "Epoch 23/50\n",
      "1563/1563 [==============================] - 12s 7ms/step - loss: 1.3853 - accuracy: 0.5042 - val_loss: 1.5159 - val_accuracy: 0.4611\n",
      "Epoch 24/50\n",
      "1563/1563 [==============================] - 12s 7ms/step - loss: 1.3798 - accuracy: 0.5068 - val_loss: 1.4967 - val_accuracy: 0.4609\n",
      "Epoch 25/50\n",
      "1563/1563 [==============================] - 12s 7ms/step - loss: 1.3884 - accuracy: 0.5049 - val_loss: 1.4943 - val_accuracy: 0.4712\n",
      "Epoch 26/50\n",
      "1563/1563 [==============================] - 12s 8ms/step - loss: 1.3885 - accuracy: 0.5045 - val_loss: 1.4955 - val_accuracy: 0.4663\n",
      "Epoch 27/50\n",
      "1563/1563 [==============================] - 12s 8ms/step - loss: 1.3857 - accuracy: 0.5048 - val_loss: 1.5367 - val_accuracy: 0.4552\n",
      "Epoch 28/50\n",
      "1563/1563 [==============================] - 12s 8ms/step - loss: 1.3799 - accuracy: 0.5055 - val_loss: 1.5108 - val_accuracy: 0.4649\n",
      "Epoch 29/50\n",
      "1563/1563 [==============================] - 12s 8ms/step - loss: 1.3713 - accuracy: 0.5105 - val_loss: 1.4910 - val_accuracy: 0.4733\n",
      "Epoch 30/50\n",
      "1563/1563 [==============================] - 12s 7ms/step - loss: 1.3701 - accuracy: 0.5112 - val_loss: 1.4885 - val_accuracy: 0.4689\n",
      "Epoch 31/50\n",
      "1563/1563 [==============================] - 12s 7ms/step - loss: 1.3688 - accuracy: 0.5120 - val_loss: 1.5048 - val_accuracy: 0.4735\n",
      "Epoch 32/50\n",
      "1563/1563 [==============================] - 12s 7ms/step - loss: 1.3597 - accuracy: 0.5167 - val_loss: 1.5111 - val_accuracy: 0.4682\n",
      "Epoch 33/50\n",
      "1563/1563 [==============================] - 12s 7ms/step - loss: 1.3419 - accuracy: 0.5240 - val_loss: 1.4871 - val_accuracy: 0.4743\n",
      "Epoch 34/50\n",
      "1563/1563 [==============================] - 12s 8ms/step - loss: 1.3569 - accuracy: 0.5135 - val_loss: 1.5061 - val_accuracy: 0.4664\n",
      "Epoch 35/50\n",
      "1563/1563 [==============================] - 12s 8ms/step - loss: 1.3541 - accuracy: 0.5194 - val_loss: 1.5646 - val_accuracy: 0.4514\n",
      "Epoch 36/50\n",
      "1563/1563 [==============================] - 12s 8ms/step - loss: 1.3538 - accuracy: 0.5161 - val_loss: 1.5030 - val_accuracy: 0.4619\n",
      "Epoch 37/50\n",
      "1563/1563 [==============================] - 12s 8ms/step - loss: 1.3369 - accuracy: 0.5242 - val_loss: 1.4816 - val_accuracy: 0.4707\n",
      "Epoch 38/50\n",
      "1563/1563 [==============================] - 12s 8ms/step - loss: 1.3336 - accuracy: 0.5277 - val_loss: 1.4811 - val_accuracy: 0.4785\n",
      "Epoch 39/50\n",
      "1563/1563 [==============================] - 12s 8ms/step - loss: 1.3335 - accuracy: 0.5243 - val_loss: 1.5052 - val_accuracy: 0.4711\n",
      "Epoch 40/50\n",
      "1563/1563 [==============================] - 12s 8ms/step - loss: 1.3385 - accuracy: 0.5191 - val_loss: 1.5071 - val_accuracy: 0.4690\n",
      "Epoch 41/50\n",
      "1563/1563 [==============================] - 12s 8ms/step - loss: 1.3310 - accuracy: 0.5263 - val_loss: 1.4994 - val_accuracy: 0.4664\n",
      "Epoch 42/50\n",
      "1563/1563 [==============================] - 12s 8ms/step - loss: 1.3351 - accuracy: 0.5231 - val_loss: 1.5232 - val_accuracy: 0.4635\n",
      "Epoch 43/50\n",
      "1563/1563 [==============================] - 12s 8ms/step - loss: 1.3243 - accuracy: 0.5295 - val_loss: 1.5077 - val_accuracy: 0.4724\n",
      "Epoch 44/50\n",
      "1563/1563 [==============================] - 13s 8ms/step - loss: 1.3200 - accuracy: 0.5308 - val_loss: 1.5753 - val_accuracy: 0.4409\n",
      "Epoch 45/50\n",
      "1563/1563 [==============================] - 12s 8ms/step - loss: 1.3213 - accuracy: 0.5308 - val_loss: 1.5220 - val_accuracy: 0.4664\n",
      "Epoch 46/50\n",
      "1563/1563 [==============================] - 13s 8ms/step - loss: 1.3173 - accuracy: 0.5320 - val_loss: 1.5312 - val_accuracy: 0.4672\n",
      "Epoch 47/50\n",
      "1563/1563 [==============================] - 13s 8ms/step - loss: 1.3099 - accuracy: 0.5345 - val_loss: 1.5038 - val_accuracy: 0.4748\n",
      "Epoch 48/50\n",
      "1563/1563 [==============================] - 13s 8ms/step - loss: 1.3059 - accuracy: 0.5345 - val_loss: 1.4945 - val_accuracy: 0.4775\n",
      "Epoch 49/50\n",
      "1563/1563 [==============================] - 12s 8ms/step - loss: 1.3148 - accuracy: 0.5312 - val_loss: 1.5228 - val_accuracy: 0.4619\n",
      "Epoch 50/50\n",
      "1563/1563 [==============================] - 12s 8ms/step - loss: 1.3083 - accuracy: 0.5319 - val_loss: 1.4827 - val_accuracy: 0.4718\n"
     ]
    }
   ],
   "source": [
    "model.compile(\n",
    "    loss='categorical_crossentropy',\n",
    "    optimizer='adam',\n",
    "    metrics=['accuracy'])\n",
    "\n",
    "hist = model.fit(X_train, y_train,\n",
    "    batch_size=32, epochs=50,\n",
    "    verbose=1,\n",
    "    validation_data=(X_test, y_test))"
   ]
  },
  {
   "cell_type": "code",
   "execution_count": 6,
   "metadata": {},
   "outputs": [
    {
     "name": "stdout",
     "output_type": "stream",
     "text": [
      "313/313 [==============================] - 1s 4ms/step - loss: 1.4827 - accuracy: 0.4718\n",
      "正解率= 0.4717999994754791 loss= 1.4827229976654053\n"
     ]
    }
   ],
   "source": [
    "score = model.evaluate(X_test, y_test, verbose=1)\n",
    "print('正解率=', score[1], 'loss=', score[0])"
   ]
  },
  {
   "cell_type": "code",
   "execution_count": 7,
   "metadata": {},
   "outputs": [
    {
     "data": {
      "image/png": "[encoded data removed]",
      "text/plain": [
       "<Figure size 432x288 with 1 Axes>"
      ]
     },
     "metadata": {
      "needs_background": "light"
     },
     "output_type": "display_data"
    }
   ],
   "source": [
    "plt.plot(hist.history['accuracy'])\n",
    "plt.plot(hist.history['val_accuracy'])\n",
    "plt.title('Accuracy')\n",
    "plt.legend(['train', 'test'], loc='upper left')\n",
    "plt.show()"
   ]
  },
  {
   "cell_type": "code",
   "execution_count": 8,
   "metadata": {},
   "outputs": [
    {
     "data": {
      "image/png": "[encoded data removed]",
      "text/plain": [
       "<Figure size 432x288 with 1 Axes>"
      ]
     },
     "metadata": {
      "needs_background": "light"
     },
     "output_type": "display_data"
    }
   ],
   "source": [
    "plt.plot(hist.history['loss'])\n",
    "plt.plot(hist.history['val_loss'])\n",
    "plt.title('Loss')\n",
    "plt.legend(['train', 'test'], loc='upper left')\n",
    "plt.show()"
   ]
  },
  {
   "cell_type": "code",
   "execution_count": 9,
   "metadata": {},
   "outputs": [],
   "source": [
    "model.save_weights('clfar10-weight_mlp.h5')"
   ]
  },
  {
   "cell_type": "code",
   "execution_count": null,
   "metadata": {},
   "outputs": [],
   "source": []
  }
 ],
 "metadata": {
  "kernelspec": {
   "display_name": "Python 3",
   "language": "python",
   "name": "python3"
  },
  "language_info": {
   "codemirror_mode": {
    "name": "ipython",
    "version": 3
   },
   "file_extension": ".py",
   "mimetype": "text/x-python",
   "name": "python",
   "nbconvert_exporter": "python",
   "pygments_lexer": "ipython3",
   "version": "3.8.5"
  }
 },
 "nbformat": 4,
 "nbformat_minor": 4
}
