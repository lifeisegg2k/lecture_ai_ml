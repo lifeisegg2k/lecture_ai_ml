{
 "cells": [
  {
   "cell_type": "code",
   "execution_count": 1,
   "metadata": {},
   "outputs": [],
   "source": [
    "import tensorflow as tf\n",
    "import numpy as np\n",
    "import pickle"
   ]
  },
  {
   "cell_type": "code",
   "execution_count": 2,
   "metadata": {},
   "outputs": [],
   "source": [
    "with open(\"./data/janken-data.pkl\", \"rb\") as fp:\n",
    "    data = pickle.load(fp)\n",
    "\n",
    "(x_train, y_train), (x_test, y_test) = data"
   ]
  },
  {
   "cell_type": "code",
   "execution_count": 3,
   "metadata": {},
   "outputs": [],
   "source": [
    "model = tf.keras.models.Sequential([\n",
    "    tf.keras.layers.Dense(30, activation='relu', input_dim=2),\n",
    "    tf.keras.layers.Dense(3, activation='softmax')\n",
    "])\n",
    "model.compile(\n",
    "    optimizer='adam',\n",
    "    loss=\"sparse_categorical_crossentropy\",\n",
    "    metrics=['accuracy']\n",
    ")"
   ]
  },
  {
   "cell_type": "code",
   "execution_count": 4,
   "metadata": {},
   "outputs": [
    {
     "name": "stdout",
     "output_type": "stream",
     "text": [
      "Model: \"sequential\"\n",
      "_________________________________________________________________\n",
      "Layer (type)                 Output Shape              Param #   \n",
      "=================================================================\n",
      "dense (Dense)                (None, 30)                90        \n",
      "_________________________________________________________________\n",
      "dense_1 (Dense)              (None, 3)                 93        \n",
      "=================================================================\n",
      "Total params: 183\n",
      "Trainable params: 183\n",
      "Non-trainable params: 0\n",
      "_________________________________________________________________\n"
     ]
    },
    {
     "data": {
      "image/png": "[encoded data removed]",
      "text/plain": [
       "<IPython.core.display.Image object>"
      ]
     },
     "execution_count": 4,
     "metadata": {},
     "output_type": "execute_result"
    }
   ],
   "source": [
    "model.summary()\n",
    "tf.keras.utils.plot_model(model, to_file='../../images/6-2-janaken-model.png')"
   ]
  },
  {
   "cell_type": "code",
   "execution_count": 5,
   "metadata": {},
   "outputs": [
    {
     "name": "stdout",
     "output_type": "stream",
     "text": [
      "Epoch 1/20\n",
      "63/63 [==============================] - 1s 2ms/step - loss: 1.1117 - accuracy: 0.3751\n",
      "Epoch 2/20\n",
      "63/63 [==============================] - 0s 2ms/step - loss: 1.0328 - accuracy: 0.6602\n",
      "Epoch 3/20\n",
      "63/63 [==============================] - 0s 2ms/step - loss: 0.9765 - accuracy: 0.7097\n",
      "Epoch 4/20\n",
      "63/63 [==============================] - 0s 1ms/step - loss: 0.9240 - accuracy: 0.7963\n",
      "Epoch 5/20\n",
      "63/63 [==============================] - 0s 5ms/step - loss: 0.8710 - accuracy: 0.8191\n",
      "Epoch 6/20\n",
      "63/63 [==============================] - 0s 2ms/step - loss: 0.8273 - accuracy: 0.7894\n",
      "Epoch 7/20\n",
      "63/63 [==============================] - 0s 3ms/step - loss: 0.7868 - accuracy: 0.7725\n",
      "Epoch 8/20\n",
      "63/63 [==============================] - 0s 3ms/step - loss: 0.7337 - accuracy: 0.8149\n",
      "Epoch 9/20\n",
      "63/63 [==============================] - 0s 2ms/step - loss: 0.6944 - accuracy: 0.8022\n",
      "Epoch 10/20\n",
      "63/63 [==============================] - 0s 2ms/step - loss: 0.6639 - accuracy: 0.8435\n",
      "Epoch 11/20\n",
      "63/63 [==============================] - 0s 2ms/step - loss: 0.6137 - accuracy: 0.9170\n",
      "Epoch 12/20\n",
      "63/63 [==============================] - 0s 2ms/step - loss: 0.5727 - accuracy: 0.9015\n",
      "Epoch 13/20\n",
      "63/63 [==============================] - 0s 2ms/step - loss: 0.5362 - accuracy: 0.9758\n",
      "Epoch 14/20\n",
      "63/63 [==============================] - 0s 2ms/step - loss: 0.5028 - accuracy: 1.0000\n",
      "Epoch 15/20\n",
      "63/63 [==============================] - 0s 2ms/step - loss: 0.4610 - accuracy: 1.0000\n",
      "Epoch 16/20\n",
      "63/63 [==============================] - 0s 2ms/step - loss: 0.4345 - accuracy: 1.0000\n",
      "Epoch 17/20\n",
      "63/63 [==============================] - 0s 2ms/step - loss: 0.4014 - accuracy: 1.0000\n",
      "Epoch 18/20\n",
      "63/63 [==============================] - 0s 2ms/step - loss: 0.3790 - accuracy: 1.0000\n",
      "Epoch 19/20\n",
      "63/63 [==============================] - 0s 2ms/step - loss: 0.3534 - accuracy: 1.0000\n",
      "Epoch 20/20\n",
      "63/63 [==============================] - 0s 2ms/step - loss: 0.3288 - accuracy: 1.0000\n",
      "32/32 - 0s - loss: 0.3171 - accuracy: 1.0000\n"
     ]
    },
    {
     "data": {
      "text/plain": [
       "[0.31713438034057617, 1.0]"
      ]
     },
     "execution_count": 5,
     "metadata": {},
     "output_type": "execute_result"
    }
   ],
   "source": [
    "model.fit(x_train, y_train, epochs=20)\n",
    "model.evaluate(x_test, y_test, verbose=2)"
   ]
  },
  {
   "cell_type": "code",
   "execution_count": null,
   "metadata": {},
   "outputs": [],
   "source": []
  }
 ],
 "metadata": {
  "kernelspec": {
   "display_name": "Python 3",
   "language": "python",
   "name": "python3"
  },
  "language_info": {
   "codemirror_mode": {
    "name": "ipython",
    "version": 3
   },
   "file_extension": ".py",
   "mimetype": "text/x-python",
   "name": "python",
   "nbconvert_exporter": "python",
   "pygments_lexer": "ipython3",
   "version": "3.8.5"
  }
 },
 "nbformat": 4,
 "nbformat_minor": 4
}
