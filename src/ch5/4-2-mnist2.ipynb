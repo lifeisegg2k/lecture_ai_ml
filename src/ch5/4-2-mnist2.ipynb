{
 "cells": [
  {
   "cell_type": "code",
   "execution_count": 1,
   "metadata": {},
   "outputs": [],
   "source": [
    "import keras\n",
    "from keras.models import Sequential\n",
    "from keras.layers import Dense, Dropout\n",
    "from keras.optimizers import RMSprop\n",
    "from keras.datasets import mnist\n",
    "import matplotlib.pyplot as plt"
   ]
  },
  {
   "cell_type": "code",
   "execution_count": 2,
   "metadata": {},
   "outputs": [],
   "source": [
    "in_size = 28 * 28\n",
    "out_size = 10"
   ]
  },
  {
   "cell_type": "code",
   "execution_count": 3,
   "metadata": {},
   "outputs": [],
   "source": [
    "(X_train, y_train), (X_test, y_test) = mnist.load_data()\n",
    "\n",
    "X_train = X_train.reshape(-1, 784).astype('float32') / 255\n",
    "X_test = X_test.reshape(-1, 784).astype('float32') / 255\n",
    "\n",
    "y_train = keras.utils.to_categorical(y_train.astype('int32'),10)\n",
    "y_test = keras.utils.to_categorical(y_test.astype('int32'),10)"
   ]
  },
  {
   "cell_type": "code",
   "execution_count": 4,
   "metadata": {},
   "outputs": [],
   "source": [
    "model = Sequential()\n",
    "model.add(Dense(512, activation='relu', input_shape=(in_size,)))\n",
    "model.add(Dropout(0.2))\n",
    "model.add(Dense(512, activation='relu'))\n",
    "model.add(Dropout(0.2))\n",
    "model.add(Dense(out_size, activation='softmax'))"
   ]
  },
  {
   "cell_type": "code",
   "execution_count": 5,
   "metadata": {},
   "outputs": [
    {
     "name": "stdout",
     "output_type": "stream",
     "text": [
      "Epoch 1/50\n",
      "469/469 [==============================] - 7s 13ms/step - loss: 0.4284 - accuracy: 0.8621 - val_loss: 0.1089 - val_accuracy: 0.9663\n",
      "Epoch 2/50\n",
      "469/469 [==============================] - 5s 12ms/step - loss: 0.1049 - accuracy: 0.9681 - val_loss: 0.0951 - val_accuracy: 0.9718\n",
      "Epoch 3/50\n",
      "469/469 [==============================] - 6s 12ms/step - loss: 0.0771 - accuracy: 0.9770 - val_loss: 0.0735 - val_accuracy: 0.9787\n",
      "Epoch 4/50\n",
      "469/469 [==============================] - 6s 12ms/step - loss: 0.0586 - accuracy: 0.9830 - val_loss: 0.0747 - val_accuracy: 0.9797\n",
      "Epoch 5/50\n",
      "469/469 [==============================] - 7s 14ms/step - loss: 0.0505 - accuracy: 0.9845 - val_loss: 0.0843 - val_accuracy: 0.9786\n",
      "Epoch 6/50\n",
      "469/469 [==============================] - 6s 14ms/step - loss: 0.0408 - accuracy: 0.9872 - val_loss: 0.0757 - val_accuracy: 0.9810\n",
      "Epoch 7/50\n",
      "469/469 [==============================] - 6s 12ms/step - loss: 0.0327 - accuracy: 0.9906 - val_loss: 0.0814 - val_accuracy: 0.9797\n",
      "Epoch 8/50\n",
      "469/469 [==============================] - 7s 14ms/step - loss: 0.0325 - accuracy: 0.9900 - val_loss: 0.0868 - val_accuracy: 0.9797\n",
      "Epoch 9/50\n",
      "469/469 [==============================] - 6s 13ms/step - loss: 0.0302 - accuracy: 0.9907 - val_loss: 0.0751 - val_accuracy: 0.9824\n",
      "Epoch 10/50\n",
      "469/469 [==============================] - 7s 14ms/step - loss: 0.0284 - accuracy: 0.9916 - val_loss: 0.0771 - val_accuracy: 0.9829\n",
      "Epoch 11/50\n",
      "469/469 [==============================] - 7s 14ms/step - loss: 0.0263 - accuracy: 0.9928 - val_loss: 0.0795 - val_accuracy: 0.9827\n",
      "Epoch 12/50\n",
      "469/469 [==============================] - 6s 13ms/step - loss: 0.0219 - accuracy: 0.9935 - val_loss: 0.0940 - val_accuracy: 0.9820\n",
      "Epoch 13/50\n",
      "469/469 [==============================] - 6s 13ms/step - loss: 0.0211 - accuracy: 0.9936 - val_loss: 0.0968 - val_accuracy: 0.9816\n",
      "Epoch 14/50\n",
      "469/469 [==============================] - 6s 13ms/step - loss: 0.0202 - accuracy: 0.9941 - val_loss: 0.0995 - val_accuracy: 0.9843\n",
      "Epoch 15/50\n",
      "469/469 [==============================] - 6s 14ms/step - loss: 0.0179 - accuracy: 0.9948 - val_loss: 0.0978 - val_accuracy: 0.9830\n",
      "Epoch 16/50\n",
      "469/469 [==============================] - 6s 14ms/step - loss: 0.0182 - accuracy: 0.9950 - val_loss: 0.1061 - val_accuracy: 0.9840\n",
      "Epoch 17/50\n",
      "469/469 [==============================] - 6s 13ms/step - loss: 0.0163 - accuracy: 0.9953 - val_loss: 0.1136 - val_accuracy: 0.9817\n",
      "Epoch 18/50\n",
      "469/469 [==============================] - 6s 13ms/step - loss: 0.0164 - accuracy: 0.9952 - val_loss: 0.1312 - val_accuracy: 0.9813\n",
      "Epoch 19/50\n",
      "469/469 [==============================] - 6s 13ms/step - loss: 0.0160 - accuracy: 0.9955 - val_loss: 0.1235 - val_accuracy: 0.9827\n",
      "Epoch 20/50\n",
      "469/469 [==============================] - 6s 13ms/step - loss: 0.0164 - accuracy: 0.9958 - val_loss: 0.1186 - val_accuracy: 0.9840\n",
      "Epoch 21/50\n",
      "469/469 [==============================] - 7s 15ms/step - loss: 0.0135 - accuracy: 0.9962 - val_loss: 0.1205 - val_accuracy: 0.9839\n",
      "Epoch 22/50\n",
      "469/469 [==============================] - 10s 20ms/step - loss: 0.0166 - accuracy: 0.9956 - val_loss: 0.1270 - val_accuracy: 0.9833\n",
      "Epoch 23/50\n",
      "469/469 [==============================] - 6s 12ms/step - loss: 0.0133 - accuracy: 0.9964 - val_loss: 0.1355 - val_accuracy: 0.9849\n",
      "Epoch 24/50\n",
      "469/469 [==============================] - 6s 14ms/step - loss: 0.0138 - accuracy: 0.9965 - val_loss: 0.1239 - val_accuracy: 0.9848\n",
      "Epoch 25/50\n",
      "469/469 [==============================] - 7s 15ms/step - loss: 0.0121 - accuracy: 0.9969 - val_loss: 0.1200 - val_accuracy: 0.9856\n",
      "Epoch 26/50\n",
      "469/469 [==============================] - 6s 12ms/step - loss: 0.0133 - accuracy: 0.9968 - val_loss: 0.1347 - val_accuracy: 0.9856\n",
      "Epoch 27/50\n",
      "469/469 [==============================] - 6s 13ms/step - loss: 0.0142 - accuracy: 0.9961 - val_loss: 0.1208 - val_accuracy: 0.9848\n",
      "Epoch 28/50\n",
      "469/469 [==============================] - 7s 14ms/step - loss: 0.0105 - accuracy: 0.9971 - val_loss: 0.1400 - val_accuracy: 0.9856\n",
      "Epoch 29/50\n",
      "469/469 [==============================] - 6s 13ms/step - loss: 0.0181 - accuracy: 0.9964 - val_loss: 0.1337 - val_accuracy: 0.9850\n",
      "Epoch 30/50\n",
      "469/469 [==============================] - 6s 13ms/step - loss: 0.0171 - accuracy: 0.9962 - val_loss: 0.1453 - val_accuracy: 0.9837\n",
      "Epoch 31/50\n",
      "469/469 [==============================] - 6s 12ms/step - loss: 0.0097 - accuracy: 0.9974 - val_loss: 0.1420 - val_accuracy: 0.9847\n",
      "Epoch 32/50\n",
      "469/469 [==============================] - 6s 13ms/step - loss: 0.0118 - accuracy: 0.9970 - val_loss: 0.1585 - val_accuracy: 0.9834\n",
      "Epoch 33/50\n",
      "469/469 [==============================] - 7s 14ms/step - loss: 0.0130 - accuracy: 0.9966 - val_loss: 0.1796 - val_accuracy: 0.9828\n",
      "Epoch 34/50\n",
      "469/469 [==============================] - 7s 14ms/step - loss: 0.0132 - accuracy: 0.9968 - val_loss: 0.1688 - val_accuracy: 0.9842\n",
      "Epoch 35/50\n",
      "469/469 [==============================] - 6s 13ms/step - loss: 0.0127 - accuracy: 0.9972 - val_loss: 0.1740 - val_accuracy: 0.9836\n",
      "Epoch 36/50\n",
      "469/469 [==============================] - 6s 12ms/step - loss: 0.0094 - accuracy: 0.9978 - val_loss: 0.1963 - val_accuracy: 0.9837\n",
      "Epoch 37/50\n",
      "469/469 [==============================] - 9s 20ms/step - loss: 0.0146 - accuracy: 0.9967 - val_loss: 0.1693 - val_accuracy: 0.9843\n",
      "Epoch 38/50\n",
      "469/469 [==============================] - 10s 21ms/step - loss: 0.0131 - accuracy: 0.9969 - val_loss: 0.1578 - val_accuracy: 0.9845\n",
      "Epoch 39/50\n",
      "469/469 [==============================] - 9s 19ms/step - loss: 0.0121 - accuracy: 0.9972 - val_loss: 0.1884 - val_accuracy: 0.9834\n",
      "Epoch 40/50\n",
      "469/469 [==============================] - 9s 20ms/step - loss: 0.0105 - accuracy: 0.9972 - val_loss: 0.1913 - val_accuracy: 0.9827\n",
      "Epoch 41/50\n",
      "469/469 [==============================] - 9s 20ms/step - loss: 0.0099 - accuracy: 0.9975 - val_loss: 0.1584 - val_accuracy: 0.9840\n",
      "Epoch 42/50\n",
      "469/469 [==============================] - 9s 20ms/step - loss: 0.0115 - accuracy: 0.9972 - val_loss: 0.1647 - val_accuracy: 0.9843\n",
      "Epoch 43/50\n",
      "469/469 [==============================] - 9s 20ms/step - loss: 0.0102 - accuracy: 0.9977 - val_loss: 0.1975 - val_accuracy: 0.9819\n",
      "Epoch 44/50\n",
      "469/469 [==============================] - 9s 19ms/step - loss: 0.0129 - accuracy: 0.9973 - val_loss: 0.1880 - val_accuracy: 0.9851\n",
      "Epoch 45/50\n",
      "469/469 [==============================] - 10s 20ms/step - loss: 0.0084 - accuracy: 0.9981 - val_loss: 0.1812 - val_accuracy: 0.9850\n",
      "Epoch 46/50\n",
      "469/469 [==============================] - 11s 23ms/step - loss: 0.0130 - accuracy: 0.9973 - val_loss: 0.1816 - val_accuracy: 0.9832\n",
      "Epoch 47/50\n",
      "469/469 [==============================] - 9s 20ms/step - loss: 0.0105 - accuracy: 0.9977 - val_loss: 0.1826 - val_accuracy: 0.9852\n",
      "Epoch 48/50\n",
      "469/469 [==============================] - 9s 20ms/step - loss: 0.0153 - accuracy: 0.9975 - val_loss: 0.1856 - val_accuracy: 0.9826\n",
      "Epoch 49/50\n",
      "469/469 [==============================] - 9s 20ms/step - loss: 0.0118 - accuracy: 0.9977 - val_loss: 0.1890 - val_accuracy: 0.9839\n",
      "Epoch 50/50\n",
      "469/469 [==============================] - 10s 21ms/step - loss: 0.0096 - accuracy: 0.9979 - val_loss: 0.2121 - val_accuracy: 0.9837\n"
     ]
    }
   ],
   "source": [
    "model.compile(\n",
    "    loss='categorical_crossentropy',\n",
    "    optimizer=RMSprop(),\n",
    "    metrics=['accuracy'])\n",
    "\n",
    "hist = model.fit(X_train, y_train,\n",
    "          batch_size=128, \n",
    "          epochs=50,\n",
    "          verbose=1,\n",
    "          validation_data=(X_test, y_test))"
   ]
  },
  {
   "cell_type": "code",
   "execution_count": 6,
   "metadata": {},
   "outputs": [
    {
     "name": "stdout",
     "output_type": "stream",
     "text": [
      "313/313 [==============================] - 1s 3ms/step - loss: 0.2121 - accuracy: 0.9837\n",
      "正解率= 0.9836999773979187 loss= 0.21206484735012054\n"
     ]
    }
   ],
   "source": [
    "score = model.evaluate(X_test, y_test, verbose=1)\n",
    "print('正解率=', score[1], 'loss=', score[0])"
   ]
  },
  {
   "cell_type": "code",
   "execution_count": 7,
   "metadata": {},
   "outputs": [
    {
     "data": {
      "image/png": "[encoded data removed]",
      "text/plain": [
       "<Figure size 432x288 with 1 Axes>"
      ]
     },
     "metadata": {
      "needs_background": "light"
     },
     "output_type": "display_data"
    }
   ],
   "source": [
    "plt.plot(hist.history['accuracy'])\n",
    "plt.plot(hist.history['val_accuracy'])\n",
    "plt.title('Accuracy')\n",
    "plt.legend(['train', 'test'], loc='upper left')\n",
    "plt.show()"
   ]
  },
  {
   "cell_type": "code",
   "execution_count": 8,
   "metadata": {},
   "outputs": [
    {
     "data": {
      "image/png": "[encoded data removed]",
      "text/plain": [
       "<Figure size 432x288 with 1 Axes>"
      ]
     },
     "metadata": {
      "needs_background": "light"
     },
     "output_type": "display_data"
    }
   ],
   "source": [
    "plt.plot(hist.history['loss'])\n",
    "plt.plot(hist.history['val_loss'])\n",
    "plt.title('Loss')\n",
    "plt.legend(['train', 'test'], loc='upper left')\n",
    "plt.show()"
   ]
  }
 ],
 "metadata": {
  "kernelspec": {
   "display_name": "Python 3",
   "language": "python",
   "name": "python3"
  },
  "language_info": {
   "codemirror_mode": {
    "name": "ipython",
    "version": 3
   },
   "file_extension": ".py",
   "mimetype": "text/x-python",
   "name": "python",
   "nbconvert_exporter": "python",
   "pygments_lexer": "ipython3",
   "version": "3.8.5"
  }
 },
 "nbformat": 4,
 "nbformat_minor": 4
}
