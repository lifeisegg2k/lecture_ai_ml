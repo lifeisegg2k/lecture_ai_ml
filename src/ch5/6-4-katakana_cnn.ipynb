{
 "cells": [
  {
   "cell_type": "code",
   "execution_count": 1,
   "metadata": {},
   "outputs": [],
   "source": [
    "import numpy as np\n",
    "import cv2, pickle\n",
    "from sklearn.model_selection import train_test_split\n",
    "import keras\n",
    "from keras.models import Sequential\n",
    "from keras.layers import Dense, Dropout, Flatten\n",
    "from keras.layers import Conv2D, MaxPooling2D\n",
    "from keras.optimizers import RMSprop \n",
    "from keras.datasets import mnist\n",
    "import matplotlib.pyplot as plt"
   ]
  },
  {
   "cell_type": "code",
   "execution_count": 2,
   "metadata": {},
   "outputs": [],
   "source": [
    "data_file = \"./png-etl1/katakana.pickle\"\n",
    "im_size = 25\n",
    "out_size = 46 \n",
    "im_color = 1 \n",
    "in_shape = (im_size, im_size, im_color)"
   ]
  },
  {
   "cell_type": "code",
   "execution_count": 3,
   "metadata": {},
   "outputs": [],
   "source": [
    "data = pickle.load(open(data_file, \"rb\"))"
   ]
  },
  {
   "cell_type": "code",
   "execution_count": 4,
   "metadata": {},
   "outputs": [],
   "source": [
    "y = []\n",
    "x = []\n",
    "for d in data:\n",
    "    (num, img) = d\n",
    "    img = img.astype('float').reshape(\n",
    "      im_size, im_size, im_color) / 255\n",
    "    y.append(keras.utils.to_categorical(num, out_size))\n",
    "    x.append(img)\n",
    "x = np.array(x)\n",
    "y = np.array(y)"
   ]
  },
  {
   "cell_type": "code",
   "execution_count": 5,
   "metadata": {},
   "outputs": [],
   "source": [
    "x_train, x_test, y_train, y_test = train_test_split(\n",
    "    x, y, test_size = 0.2, train_size = 0.8, shuffle = True)"
   ]
  },
  {
   "cell_type": "code",
   "execution_count": 6,
   "metadata": {},
   "outputs": [],
   "source": [
    "model = Sequential()\n",
    "model.add(Conv2D(32,\n",
    "          kernel_size=(3, 3),\n",
    "          activation='relu',\n",
    "          input_shape=in_shape))\n",
    "model.add(Conv2D(64, (3, 3), activation='relu'))\n",
    "model.add(MaxPooling2D(pool_size=(2, 2)))\n",
    "model.add(Dropout(0.25))\n",
    "model.add(Flatten())\n",
    "model.add(Dense(128, activation='relu'))\n",
    "model.add(Dropout(0.5))\n",
    "model.add(Dense(out_size, activation='softmax'))\n",
    "model.compile(\n",
    "    loss='categorical_crossentropy',\n",
    "    optimizer=RMSprop(),\n",
    "    metrics=['accuracy'])"
   ]
  },
  {
   "cell_type": "code",
   "execution_count": 7,
   "metadata": {},
   "outputs": [
    {
     "name": "stdout",
     "output_type": "stream",
     "text": [
      "Epoch 1/12\n",
      "433/433 [==============================] - 59s 134ms/step - loss: 2.6454 - accuracy: 0.3033 - val_loss: 0.6873 - val_accuracy: 0.8212\n",
      "Epoch 2/12\n",
      "433/433 [==============================] - 59s 137ms/step - loss: 0.8965 - accuracy: 0.7293 - val_loss: 0.4594 - val_accuracy: 0.8738\n",
      "Epoch 3/12\n",
      "433/433 [==============================] - 56s 130ms/step - loss: 0.6449 - accuracy: 0.8056 - val_loss: 0.3381 - val_accuracy: 0.9125\n",
      "Epoch 4/12\n",
      "433/433 [==============================] - 57s 131ms/step - loss: 0.5173 - accuracy: 0.8473 - val_loss: 0.2797 - val_accuracy: 0.9246\n",
      "Epoch 5/12\n",
      "433/433 [==============================] - 56s 130ms/step - loss: 0.4454 - accuracy: 0.8689 - val_loss: 0.2569 - val_accuracy: 0.9376\n",
      "Epoch 6/12\n",
      "433/433 [==============================] - 57s 133ms/step - loss: 0.4044 - accuracy: 0.8840 - val_loss: 0.2097 - val_accuracy: 0.9454\n",
      "Epoch 7/12\n",
      "433/433 [==============================] - 58s 134ms/step - loss: 0.3630 - accuracy: 0.8971 - val_loss: 0.1955 - val_accuracy: 0.9513\n",
      "Epoch 8/12\n",
      "433/433 [==============================] - 59s 136ms/step - loss: 0.3349 - accuracy: 0.9058 - val_loss: 0.1876 - val_accuracy: 0.9528\n",
      "Epoch 9/12\n",
      "433/433 [==============================] - 57s 131ms/step - loss: 0.3165 - accuracy: 0.9115 - val_loss: 0.1743 - val_accuracy: 0.9576\n",
      "Epoch 10/12\n",
      "433/433 [==============================] - 57s 132ms/step - loss: 0.2931 - accuracy: 0.9205 - val_loss: 0.1754 - val_accuracy: 0.9586\n",
      "Epoch 11/12\n",
      "433/433 [==============================] - 62s 144ms/step - loss: 0.2825 - accuracy: 0.9226 - val_loss: 0.2212 - val_accuracy: 0.9492\n",
      "Epoch 12/12\n",
      "433/433 [==============================] - 63s 146ms/step - loss: 0.2745 - accuracy: 0.9254 - val_loss: 0.1792 - val_accuracy: 0.9577\n"
     ]
    }
   ],
   "source": [
    "hist = model.fit(x_train, y_train,\n",
    "          batch_size=128, \n",
    "          epochs=12,\n",
    "          verbose=1,\n",
    "          validation_data=(x_test, y_test))"
   ]
  },
  {
   "cell_type": "code",
   "execution_count": 8,
   "metadata": {},
   "outputs": [
    {
     "name": "stdout",
     "output_type": "stream",
     "text": [
      "433/433 [==============================] - 4s 10ms/step - loss: 0.1792 - accuracy: 0.9577\n",
      "正解率= 0.9576945304870605 loss= 0.17917358875274658\n"
     ]
    }
   ],
   "source": [
    "score = model.evaluate(x_test, y_test, verbose=1)\n",
    "print('正解率=', score[1], 'loss=', score[0])"
   ]
  },
  {
   "cell_type": "code",
   "execution_count": 9,
   "metadata": {},
   "outputs": [
    {
     "data": {
      "image/png": "[encoded data removed]",
      "text/plain": [
       "<Figure size 432x288 with 1 Axes>"
      ]
     },
     "metadata": {
      "needs_background": "light"
     },
     "output_type": "display_data"
    }
   ],
   "source": [
    "plt.plot(hist.history['accuracy'])\n",
    "plt.plot(hist.history['val_accuracy'])\n",
    "plt.title('Accuracy')\n",
    "plt.legend(['train', 'test'], loc='upper left')\n",
    "plt.show()"
   ]
  },
  {
   "cell_type": "code",
   "execution_count": 10,
   "metadata": {},
   "outputs": [
    {
     "data": {
      "image/png": "[encoded data removed]",
      "text/plain": [
       "<Figure size 432x288 with 1 Axes>"
      ]
     },
     "metadata": {
      "needs_background": "light"
     },
     "output_type": "display_data"
    }
   ],
   "source": [
    "plt.plot(hist.history['loss'])\n",
    "plt.plot(hist.history['val_loss'])\n",
    "plt.title('Loss')\n",
    "plt.legend(['train', 'test'], loc='upper left')\n",
    "plt.show()"
   ]
  },
  {
   "cell_type": "code",
   "execution_count": null,
   "metadata": {},
   "outputs": [],
   "source": []
  }
 ],
 "metadata": {
  "kernelspec": {
   "display_name": "Python 3",
   "language": "python",
   "name": "python3"
  },
  "language_info": {
   "codemirror_mode": {
    "name": "ipython",
    "version": 3
   },
   "file_extension": ".py",
   "mimetype": "text/x-python",
   "name": "python",
   "nbconvert_exporter": "python",
   "pygments_lexer": "ipython3",
   "version": "3.8.5"
  }
 },
 "nbformat": 4,
 "nbformat_minor": 4
}
