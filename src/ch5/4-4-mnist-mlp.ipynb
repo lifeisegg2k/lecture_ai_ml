{
 "cells": [
  {
   "cell_type": "code",
   "execution_count": 1,
   "metadata": {},
   "outputs": [],
   "source": [
    "# MLP(multi-layer perceptron)\n",
    "import keras\n",
    "from keras.models import Sequential\n",
    "from keras.layers import Dense, Dropout\n",
    "from keras.optimizers import RMSprop\n",
    "from keras.datasets import mnist\n",
    "import matplotlib.pyplot as plt"
   ]
  },
  {
   "cell_type": "code",
   "execution_count": 2,
   "metadata": {},
   "outputs": [],
   "source": [
    "in_size = 28 * 28\n",
    "out_size = 10"
   ]
  },
  {
   "cell_type": "code",
   "execution_count": 3,
   "metadata": {},
   "outputs": [],
   "source": [
    "(X_train, y_train), (X_test, y_test) = mnist.load_data()\n",
    "\n",
    "X_train = X_train.reshape(-1, 784).astype('float32') / 255\n",
    "X_test = X_test.reshape(-1, 784).astype('float32') / 255\n",
    "\n",
    "y_train = keras.utils.to_categorical(y_train.astype('int32'),10)\n",
    "y_test = keras.utils.to_categorical(y_test.astype('int32'),10)"
   ]
  },
  {
   "cell_type": "code",
   "execution_count": 4,
   "metadata": {},
   "outputs": [],
   "source": [
    "model = Sequential()\n",
    "model.add(Dense(512, activation='relu', input_shape=(in_size,)))\n",
    "model.add(Dropout(0.2))\n",
    "model.add(Dense(512, activation='relu'))\n",
    "model.add(Dropout(0.2))\n",
    "model.add(Dense(out_size, activation='softmax'))"
   ]
  },
  {
   "cell_type": "code",
   "execution_count": 5,
   "metadata": {},
   "outputs": [
    {
     "name": "stdout",
     "output_type": "stream",
     "text": [
      "Epoch 1/50\n",
      "469/469 [==============================] - 7s 13ms/step - loss: 0.4308 - accuracy: 0.8628 - val_loss: 0.1179 - val_accuracy: 0.9634\n",
      "Epoch 2/50\n",
      "469/469 [==============================] - 6s 12ms/step - loss: 0.1072 - accuracy: 0.9682 - val_loss: 0.0830 - val_accuracy: 0.9741\n",
      "Epoch 3/50\n",
      "469/469 [==============================] - 6s 12ms/step - loss: 0.0706 - accuracy: 0.9781 - val_loss: 0.0775 - val_accuracy: 0.9777\n",
      "Epoch 4/50\n",
      "469/469 [==============================] - 6s 12ms/step - loss: 0.0579 - accuracy: 0.9825 - val_loss: 0.0717 - val_accuracy: 0.9807\n",
      "Epoch 5/50\n",
      "469/469 [==============================] - 6s 13ms/step - loss: 0.0490 - accuracy: 0.9856 - val_loss: 0.0784 - val_accuracy: 0.9796\n",
      "Epoch 6/50\n",
      "469/469 [==============================] - 7s 14ms/step - loss: 0.0396 - accuracy: 0.9880 - val_loss: 0.0835 - val_accuracy: 0.9812\n",
      "Epoch 7/50\n",
      "469/469 [==============================] - 6s 13ms/step - loss: 0.0340 - accuracy: 0.9893 - val_loss: 0.0735 - val_accuracy: 0.9822\n",
      "Epoch 8/50\n",
      "469/469 [==============================] - 6s 12ms/step - loss: 0.0308 - accuracy: 0.9909 - val_loss: 0.0813 - val_accuracy: 0.9823\n",
      "Epoch 9/50\n",
      "469/469 [==============================] - 6s 12ms/step - loss: 0.0281 - accuracy: 0.9916 - val_loss: 0.0840 - val_accuracy: 0.9826\n",
      "Epoch 10/50\n",
      "469/469 [==============================] - 6s 13ms/step - loss: 0.0264 - accuracy: 0.9920 - val_loss: 0.0969 - val_accuracy: 0.9834\n",
      "Epoch 11/50\n",
      "469/469 [==============================] - 6s 13ms/step - loss: 0.0249 - accuracy: 0.9927 - val_loss: 0.0955 - val_accuracy: 0.9814\n",
      "Epoch 12/50\n",
      "469/469 [==============================] - 6s 12ms/step - loss: 0.0272 - accuracy: 0.9923 - val_loss: 0.0869 - val_accuracy: 0.9842\n",
      "Epoch 13/50\n",
      "469/469 [==============================] - 10s 22ms/step - loss: 0.0208 - accuracy: 0.9944 - val_loss: 0.0944 - val_accuracy: 0.9837\n",
      "Epoch 14/50\n",
      "469/469 [==============================] - 6s 12ms/step - loss: 0.0208 - accuracy: 0.9941 - val_loss: 0.1032 - val_accuracy: 0.9822\n",
      "Epoch 15/50\n",
      "469/469 [==============================] - 6s 12ms/step - loss: 0.0200 - accuracy: 0.9945 - val_loss: 0.1172 - val_accuracy: 0.9812\n",
      "Epoch 16/50\n",
      "469/469 [==============================] - 6s 12ms/step - loss: 0.0185 - accuracy: 0.9951 - val_loss: 0.1282 - val_accuracy: 0.9838\n",
      "Epoch 17/50\n",
      "469/469 [==============================] - 6s 12ms/step - loss: 0.0182 - accuracy: 0.9951 - val_loss: 0.1053 - val_accuracy: 0.9850\n",
      "Epoch 18/50\n",
      "469/469 [==============================] - 6s 12ms/step - loss: 0.0180 - accuracy: 0.9946 - val_loss: 0.1185 - val_accuracy: 0.9836\n",
      "Epoch 19/50\n",
      "469/469 [==============================] - 6s 12ms/step - loss: 0.0166 - accuracy: 0.9958 - val_loss: 0.1381 - val_accuracy: 0.9836\n",
      "Epoch 20/50\n",
      "469/469 [==============================] - 6s 12ms/step - loss: 0.0162 - accuracy: 0.9959 - val_loss: 0.1362 - val_accuracy: 0.9823\n",
      "Epoch 21/50\n",
      "469/469 [==============================] - 6s 13ms/step - loss: 0.0156 - accuracy: 0.9958 - val_loss: 0.1192 - val_accuracy: 0.9834\n",
      "Epoch 22/50\n",
      "469/469 [==============================] - 6s 12ms/step - loss: 0.0154 - accuracy: 0.9955 - val_loss: 0.1295 - val_accuracy: 0.9840\n",
      "Epoch 23/50\n",
      "469/469 [==============================] - 6s 12ms/step - loss: 0.0136 - accuracy: 0.9962 - val_loss: 0.1414 - val_accuracy: 0.9844\n",
      "Epoch 24/50\n",
      "469/469 [==============================] - 6s 12ms/step - loss: 0.0129 - accuracy: 0.9964 - val_loss: 0.1333 - val_accuracy: 0.9836\n",
      "Epoch 25/50\n",
      "469/469 [==============================] - 6s 12ms/step - loss: 0.0145 - accuracy: 0.9959 - val_loss: 0.1690 - val_accuracy: 0.9819\n",
      "Epoch 26/50\n",
      "469/469 [==============================] - 6s 13ms/step - loss: 0.0128 - accuracy: 0.9967 - val_loss: 0.1604 - val_accuracy: 0.9840\n",
      "Epoch 27/50\n",
      "469/469 [==============================] - 6s 12ms/step - loss: 0.0122 - accuracy: 0.9966 - val_loss: 0.1489 - val_accuracy: 0.9829\n",
      "Epoch 28/50\n",
      "469/469 [==============================] - 6s 12ms/step - loss: 0.0136 - accuracy: 0.9969 - val_loss: 0.1548 - val_accuracy: 0.9835\n",
      "Epoch 29/50\n",
      "469/469 [==============================] - 6s 12ms/step - loss: 0.0145 - accuracy: 0.9968 - val_loss: 0.1576 - val_accuracy: 0.9850\n",
      "Epoch 30/50\n",
      "469/469 [==============================] - 5s 12ms/step - loss: 0.0126 - accuracy: 0.9970 - val_loss: 0.1321 - val_accuracy: 0.9846\n",
      "Epoch 31/50\n",
      "469/469 [==============================] - 6s 12ms/step - loss: 0.0136 - accuracy: 0.9966 - val_loss: 0.1578 - val_accuracy: 0.9844\n",
      "Epoch 32/50\n",
      "469/469 [==============================] - 6s 12ms/step - loss: 0.0124 - accuracy: 0.9968 - val_loss: 0.1709 - val_accuracy: 0.9842\n",
      "Epoch 33/50\n",
      "469/469 [==============================] - 6s 12ms/step - loss: 0.0150 - accuracy: 0.9967 - val_loss: 0.1638 - val_accuracy: 0.9856\n",
      "Epoch 34/50\n",
      "469/469 [==============================] - 5s 12ms/step - loss: 0.0143 - accuracy: 0.9969 - val_loss: 0.1543 - val_accuracy: 0.9852\n",
      "Epoch 35/50\n",
      "469/469 [==============================] - 6s 12ms/step - loss: 0.0149 - accuracy: 0.9967 - val_loss: 0.1677 - val_accuracy: 0.9840\n",
      "Epoch 36/50\n",
      "469/469 [==============================] - 6s 13ms/step - loss: 0.0115 - accuracy: 0.9973 - val_loss: 0.1764 - val_accuracy: 0.9847\n",
      "Epoch 37/50\n",
      "469/469 [==============================] - 6s 12ms/step - loss: 0.0136 - accuracy: 0.9970 - val_loss: 0.1625 - val_accuracy: 0.9855\n",
      "Epoch 38/50\n",
      "469/469 [==============================] - 6s 12ms/step - loss: 0.0131 - accuracy: 0.9967 - val_loss: 0.1766 - val_accuracy: 0.9840\n",
      "Epoch 39/50\n",
      "469/469 [==============================] - 6s 13ms/step - loss: 0.0108 - accuracy: 0.9976 - val_loss: 0.1875 - val_accuracy: 0.9841\n",
      "Epoch 40/50\n",
      "469/469 [==============================] - 6s 12ms/step - loss: 0.0108 - accuracy: 0.9978 - val_loss: 0.1880 - val_accuracy: 0.9839\n",
      "Epoch 41/50\n",
      "469/469 [==============================] - 6s 12ms/step - loss: 0.0108 - accuracy: 0.9979 - val_loss: 0.1791 - val_accuracy: 0.9839\n",
      "Epoch 42/50\n",
      "469/469 [==============================] - 6s 12ms/step - loss: 0.0113 - accuracy: 0.9976 - val_loss: 0.1862 - val_accuracy: 0.9845\n",
      "Epoch 43/50\n",
      "469/469 [==============================] - 6s 12ms/step - loss: 0.0090 - accuracy: 0.9976 - val_loss: 0.1918 - val_accuracy: 0.9832\n",
      "Epoch 44/50\n",
      "469/469 [==============================] - 6s 12ms/step - loss: 0.0112 - accuracy: 0.9980 - val_loss: 0.2029 - val_accuracy: 0.9836\n",
      "Epoch 45/50\n",
      "469/469 [==============================] - 6s 12ms/step - loss: 0.0120 - accuracy: 0.9978 - val_loss: 0.2055 - val_accuracy: 0.9832\n",
      "Epoch 46/50\n",
      "469/469 [==============================] - 6s 12ms/step - loss: 0.0099 - accuracy: 0.9980 - val_loss: 0.2062 - val_accuracy: 0.9833\n",
      "Epoch 47/50\n",
      "469/469 [==============================] - 6s 12ms/step - loss: 0.0093 - accuracy: 0.9979 - val_loss: 0.1960 - val_accuracy: 0.9852\n",
      "Epoch 48/50\n",
      "469/469 [==============================] - 6s 12ms/step - loss: 0.0093 - accuracy: 0.9978 - val_loss: 0.2345 - val_accuracy: 0.9821\n",
      "Epoch 49/50\n",
      "469/469 [==============================] - 6s 12ms/step - loss: 0.0122 - accuracy: 0.9976 - val_loss: 0.1943 - val_accuracy: 0.9851\n",
      "Epoch 50/50\n",
      "469/469 [==============================] - 6s 13ms/step - loss: 0.0067 - accuracy: 0.9985 - val_loss: 0.2138 - val_accuracy: 0.9856\n"
     ]
    }
   ],
   "source": [
    "model.compile(\n",
    "    loss='categorical_crossentropy',\n",
    "    optimizer=RMSprop(),\n",
    "    metrics=['accuracy'])\n",
    "\n",
    "hist = model.fit(X_train, y_train,\n",
    "          batch_size=128, \n",
    "          epochs=50,\n",
    "          verbose=1,\n",
    "          validation_data=(X_test, y_test))"
   ]
  },
  {
   "cell_type": "code",
   "execution_count": 6,
   "metadata": {},
   "outputs": [
    {
     "name": "stdout",
     "output_type": "stream",
     "text": [
      "313/313 [==============================] - 1s 3ms/step - loss: 0.2138 - accuracy: 0.9856\n",
      "正解率= 0.9855999946594238 loss= 0.21377870440483093\n"
     ]
    }
   ],
   "source": [
    "score = model.evaluate(X_test, y_test, verbose=1)\n",
    "print('正解率=', score[1], 'loss=', score[0])"
   ]
  },
  {
   "cell_type": "code",
   "execution_count": 7,
   "metadata": {},
   "outputs": [
    {
     "data": {
      "image/png": "[encoded data removed]",
      "text/plain": [
       "<Figure size 432x288 with 1 Axes>"
      ]
     },
     "metadata": {
      "needs_background": "light"
     },
     "output_type": "display_data"
    }
   ],
   "source": [
    "plt.plot(hist.history['accuracy'])\n",
    "plt.plot(hist.history['val_accuracy'])\n",
    "plt.title('Accuracy')\n",
    "plt.legend(['train', 'test'], loc='upper left')\n",
    "plt.show()"
   ]
  },
  {
   "cell_type": "code",
   "execution_count": 8,
   "metadata": {},
   "outputs": [
    {
     "data": {
      "image/png": "[encoded data removed]",
      "text/plain": [
       "<Figure size 432x288 with 1 Axes>"
      ]
     },
     "metadata": {
      "needs_background": "light"
     },
     "output_type": "display_data"
    }
   ],
   "source": [
    "plt.plot(hist.history['loss'])\n",
    "plt.plot(hist.history['val_loss'])\n",
    "plt.title('Loss')\n",
    "plt.legend(['train', 'test'], loc='upper left')\n",
    "plt.show()"
   ]
  }
 ],
 "metadata": {
  "kernelspec": {
   "display_name": "Python 3",
   "language": "python",
   "name": "python3"
  },
  "language_info": {
   "codemirror_mode": {
    "name": "ipython",
    "version": 3
   },
   "file_extension": ".py",
   "mimetype": "text/x-python",
   "name": "python",
   "nbconvert_exporter": "python",
   "pygments_lexer": "ipython3",
   "version": "3.8.5"
  }
 },
 "nbformat": 4,
 "nbformat_minor": 4
}
