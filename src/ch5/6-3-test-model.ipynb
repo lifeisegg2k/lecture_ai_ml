{
 "cells": [
  {
   "cell_type": "code",
   "execution_count": 1,
   "metadata": {},
   "outputs": [],
   "source": [
    "import numpy as np\n",
    "import cv2, pickle\n",
    "from sklearn.model_selection import train_test_split\n",
    "import keras"
   ]
  },
  {
   "cell_type": "code",
   "execution_count": 2,
   "metadata": {},
   "outputs": [],
   "source": [
    "data_file = \"./png-etl1/katakana.pickle\"\n",
    "im_size = 25\n",
    "in_size = im_size * im_size\n",
    "out_size = 46"
   ]
  },
  {
   "cell_type": "code",
   "execution_count": 3,
   "metadata": {},
   "outputs": [],
   "source": [
    "data = pickle.load(open(data_file, \"rb\"))"
   ]
  },
  {
   "cell_type": "code",
   "execution_count": 4,
   "metadata": {},
   "outputs": [],
   "source": [
    "y = []\n",
    "x = []\n",
    "for d in data:\n",
    "    (num, img) = d\n",
    "    img = img.reshape(-1).astype('float') / 255\n",
    "    y.append(keras.utils.to_categorical(num, out_size))\n",
    "    x.append(img)\n",
    "x = np.array(x)\n",
    "y = np.array(y)"
   ]
  },
  {
   "cell_type": "code",
   "execution_count": 5,
   "metadata": {},
   "outputs": [],
   "source": [
    "x_train, x_test, y_train, y_test = train_test_split(\n",
    "  x, y, test_size = 0.2, train_size = 0.8, shuffle = True)"
   ]
  },
  {
   "cell_type": "code",
   "execution_count": 6,
   "metadata": {},
   "outputs": [],
   "source": [
    "Dense = keras.layers.Dense\n",
    "model = keras.models.Sequential()\n",
    "model.add(Dense(512, activation='relu', input_shape=(in_size,)))\n",
    "model.add(Dense(out_size, activation='softmax'))"
   ]
  },
  {
   "cell_type": "code",
   "execution_count": 7,
   "metadata": {},
   "outputs": [
    {
     "name": "stdout",
     "output_type": "stream",
     "text": [
      "Epoch 1/50\n",
      "2766/2766 [==============================] - 11s 4ms/step - loss: 2.8602 - accuracy: 0.2783 - val_loss: 1.3702 - val_accuracy: 0.6463\n",
      "Epoch 2/50\n",
      "2766/2766 [==============================] - 10s 4ms/step - loss: 1.1657 - accuracy: 0.6973 - val_loss: 0.8662 - val_accuracy: 0.7644\n",
      "Epoch 3/50\n",
      "2766/2766 [==============================] - 10s 3ms/step - loss: 0.7283 - accuracy: 0.8086 - val_loss: 0.6412 - val_accuracy: 0.8273\n",
      "Epoch 4/50\n",
      "2766/2766 [==============================] - 10s 3ms/step - loss: 0.5498 - accuracy: 0.8569 - val_loss: 0.5655 - val_accuracy: 0.8460\n",
      "Epoch 5/50\n",
      "2766/2766 [==============================] - 11s 4ms/step - loss: 0.4406 - accuracy: 0.8824 - val_loss: 0.5245 - val_accuracy: 0.8557\n",
      "Epoch 6/50\n",
      "2766/2766 [==============================] - 10s 4ms/step - loss: 0.3741 - accuracy: 0.9004 - val_loss: 0.4806 - val_accuracy: 0.8643\n",
      "Epoch 7/50\n",
      "2766/2766 [==============================] - 10s 4ms/step - loss: 0.3155 - accuracy: 0.9144 - val_loss: 0.4823 - val_accuracy: 0.8659\n",
      "Epoch 8/50\n",
      "2766/2766 [==============================] - 10s 4ms/step - loss: 0.2836 - accuracy: 0.9242 - val_loss: 0.4444 - val_accuracy: 0.8787\n",
      "Epoch 9/50\n",
      "2766/2766 [==============================] - 10s 4ms/step - loss: 0.2455 - accuracy: 0.9337 - val_loss: 0.4794 - val_accuracy: 0.8687\n",
      "Epoch 10/50\n",
      "2766/2766 [==============================] - 10s 4ms/step - loss: 0.2217 - accuracy: 0.9397 - val_loss: 0.4103 - val_accuracy: 0.8909\n",
      "Epoch 11/50\n",
      "2766/2766 [==============================] - 10s 4ms/step - loss: 0.1954 - accuracy: 0.9486 - val_loss: 0.4102 - val_accuracy: 0.8912\n",
      "Epoch 12/50\n",
      "2766/2766 [==============================] - 10s 4ms/step - loss: 0.1815 - accuracy: 0.9502 - val_loss: 0.4607 - val_accuracy: 0.8769\n",
      "Epoch 13/50\n",
      "2766/2766 [==============================] - 10s 4ms/step - loss: 0.1623 - accuracy: 0.9560 - val_loss: 0.4558 - val_accuracy: 0.8800\n",
      "Epoch 14/50\n",
      "2766/2766 [==============================] - 10s 4ms/step - loss: 0.1418 - accuracy: 0.9605 - val_loss: 0.4225 - val_accuracy: 0.8926\n",
      "Epoch 15/50\n",
      "2766/2766 [==============================] - 10s 4ms/step - loss: 0.1327 - accuracy: 0.9635 - val_loss: 0.4572 - val_accuracy: 0.8839\n",
      "Epoch 16/50\n",
      "2766/2766 [==============================] - 10s 4ms/step - loss: 0.1257 - accuracy: 0.9658 - val_loss: 0.5027 - val_accuracy: 0.8723\n",
      "Epoch 17/50\n",
      "2766/2766 [==============================] - 12s 4ms/step - loss: 0.1229 - accuracy: 0.9653 - val_loss: 0.4174 - val_accuracy: 0.8965\n",
      "Epoch 18/50\n",
      "2766/2766 [==============================] - 10s 4ms/step - loss: 0.1044 - accuracy: 0.9701 - val_loss: 0.4355 - val_accuracy: 0.8946\n",
      "Epoch 19/50\n",
      "2766/2766 [==============================] - 10s 4ms/step - loss: 0.1012 - accuracy: 0.9716 - val_loss: 0.4833 - val_accuracy: 0.8840\n",
      "Epoch 20/50\n",
      "2766/2766 [==============================] - 10s 4ms/step - loss: 0.0957 - accuracy: 0.9729 - val_loss: 0.4896 - val_accuracy: 0.8831\n",
      "Epoch 21/50\n",
      "2766/2766 [==============================] - 10s 4ms/step - loss: 0.0936 - accuracy: 0.9731 - val_loss: 0.4867 - val_accuracy: 0.8897\n",
      "Epoch 22/50\n",
      "2766/2766 [==============================] - 10s 4ms/step - loss: 0.0831 - accuracy: 0.9770 - val_loss: 0.5160 - val_accuracy: 0.8828\n",
      "Epoch 23/50\n",
      "2766/2766 [==============================] - 11s 4ms/step - loss: 0.0885 - accuracy: 0.9741 - val_loss: 0.4619 - val_accuracy: 0.8975\n",
      "Epoch 24/50\n",
      "2766/2766 [==============================] - 11s 4ms/step - loss: 0.0754 - accuracy: 0.9777 - val_loss: 0.4670 - val_accuracy: 0.8997\n",
      "Epoch 25/50\n",
      "2766/2766 [==============================] - 11s 4ms/step - loss: 0.0742 - accuracy: 0.9781 - val_loss: 0.4828 - val_accuracy: 0.8930\n",
      "Epoch 26/50\n",
      "2766/2766 [==============================] - 11s 4ms/step - loss: 0.0703 - accuracy: 0.9792 - val_loss: 0.5034 - val_accuracy: 0.8941\n",
      "Epoch 27/50\n",
      "2766/2766 [==============================] - 11s 4ms/step - loss: 0.0646 - accuracy: 0.9807 - val_loss: 0.5531 - val_accuracy: 0.8852\n",
      "Epoch 28/50\n",
      "2766/2766 [==============================] - 12s 4ms/step - loss: 0.0658 - accuracy: 0.9795 - val_loss: 0.4921 - val_accuracy: 0.8995\n",
      "Epoch 29/50\n",
      "2766/2766 [==============================] - 11s 4ms/step - loss: 0.0634 - accuracy: 0.9812 - val_loss: 0.5306 - val_accuracy: 0.8951\n",
      "Epoch 30/50\n",
      "2766/2766 [==============================] - 11s 4ms/step - loss: 0.0574 - accuracy: 0.9818 - val_loss: 0.5494 - val_accuracy: 0.8910\n",
      "Epoch 31/50\n",
      "2766/2766 [==============================] - 11s 4ms/step - loss: 0.0590 - accuracy: 0.9830 - val_loss: 0.5286 - val_accuracy: 0.8938\n",
      "Epoch 32/50\n",
      "2766/2766 [==============================] - 11s 4ms/step - loss: 0.0562 - accuracy: 0.9827 - val_loss: 0.5437 - val_accuracy: 0.8948\n",
      "Epoch 33/50\n",
      "2766/2766 [==============================] - 11s 4ms/step - loss: 0.0586 - accuracy: 0.9828 - val_loss: 0.5574 - val_accuracy: 0.8956\n",
      "Epoch 34/50\n",
      "2766/2766 [==============================] - 10s 4ms/step - loss: 0.0591 - accuracy: 0.9827 - val_loss: 0.5856 - val_accuracy: 0.8902\n",
      "Epoch 35/50\n",
      "2766/2766 [==============================] - 10s 4ms/step - loss: 0.0530 - accuracy: 0.9852 - val_loss: 0.6688 - val_accuracy: 0.8791\n",
      "Epoch 36/50\n",
      "2766/2766 [==============================] - 10s 4ms/step - loss: 0.0562 - accuracy: 0.9831 - val_loss: 0.5437 - val_accuracy: 0.9014\n",
      "Epoch 37/50\n",
      "2766/2766 [==============================] - 10s 4ms/step - loss: 0.0466 - accuracy: 0.9860 - val_loss: 0.6197 - val_accuracy: 0.8821\n",
      "Epoch 38/50\n",
      "2766/2766 [==============================] - 10s 4ms/step - loss: 0.0501 - accuracy: 0.9844 - val_loss: 0.5773 - val_accuracy: 0.8960\n",
      "Epoch 39/50\n",
      "2766/2766 [==============================] - 12s 4ms/step - loss: 0.0485 - accuracy: 0.9852 - val_loss: 0.6362 - val_accuracy: 0.8876\n",
      "Epoch 40/50\n",
      "2766/2766 [==============================] - 10s 4ms/step - loss: 0.0510 - accuracy: 0.9848 - val_loss: 0.6177 - val_accuracy: 0.8941\n",
      "Epoch 41/50\n",
      "2766/2766 [==============================] - 11s 4ms/step - loss: 0.0470 - accuracy: 0.9852 - val_loss: 0.6805 - val_accuracy: 0.8828\n",
      "Epoch 42/50\n",
      "2766/2766 [==============================] - 10s 4ms/step - loss: 0.0429 - accuracy: 0.9866 - val_loss: 0.6708 - val_accuracy: 0.8868\n",
      "Epoch 43/50\n",
      "2766/2766 [==============================] - 10s 4ms/step - loss: 0.0444 - accuracy: 0.9867 - val_loss: 0.6523 - val_accuracy: 0.8907\n",
      "Epoch 44/50\n",
      "2766/2766 [==============================] - 10s 4ms/step - loss: 0.0461 - accuracy: 0.9861 - val_loss: 0.6365 - val_accuracy: 0.8920\n",
      "Epoch 45/50\n",
      "2766/2766 [==============================] - 10s 4ms/step - loss: 0.0487 - accuracy: 0.9849 - val_loss: 0.6014 - val_accuracy: 0.8987\n",
      "Epoch 46/50\n",
      "2766/2766 [==============================] - 10s 4ms/step - loss: 0.0404 - accuracy: 0.9886 - val_loss: 0.6560 - val_accuracy: 0.8907\n",
      "Epoch 47/50\n",
      "2766/2766 [==============================] - 10s 4ms/step - loss: 0.0381 - accuracy: 0.9881 - val_loss: 0.6235 - val_accuracy: 0.9003\n",
      "Epoch 48/50\n",
      "2766/2766 [==============================] - 10s 4ms/step - loss: 0.0423 - accuracy: 0.9872 - val_loss: 0.7522 - val_accuracy: 0.8794\n",
      "Epoch 49/50\n",
      "2766/2766 [==============================] - 10s 4ms/step - loss: 0.0518 - accuracy: 0.9854 - val_loss: 0.6779 - val_accuracy: 0.8911\n",
      "Epoch 50/50\n",
      "2766/2766 [==============================] - 10s 4ms/step - loss: 0.0345 - accuracy: 0.9893 - val_loss: 0.6972 - val_accuracy: 0.8930\n"
     ]
    },
    {
     "data": {
      "text/plain": [
       "<tensorflow.python.keras.callbacks.History at 0x7ffab3314ee0>"
      ]
     },
     "execution_count": 7,
     "metadata": {},
     "output_type": "execute_result"
    }
   ],
   "source": [
    "model.compile(\n",
    "    loss='categorical_crossentropy',\n",
    "    optimizer='adam',\n",
    "    metrics=['accuracy'])\n",
    "\n",
    "model.fit(x_train, y_train,\n",
    "    batch_size=20, epochs=50, verbose=1,\n",
    "    validation_data=(x_test, y_test))"
   ]
  },
  {
   "cell_type": "code",
   "execution_count": 8,
   "metadata": {},
   "outputs": [
    {
     "name": "stdout",
     "output_type": "stream",
     "text": [
      "433/433 [==============================] - 1s 3ms/step - loss: 0.6972 - accuracy: 0.8930\n",
      "正解率= 0.8929708003997803 loss= 0.6971826553344727\n"
     ]
    }
   ],
   "source": [
    "score = model.evaluate(x_test, y_test, verbose=1)\n",
    "print('正解率=', score[1], 'loss=', score[0])"
   ]
  },
  {
   "cell_type": "code",
   "execution_count": null,
   "metadata": {},
   "outputs": [],
   "source": []
  }
 ],
 "metadata": {
  "kernelspec": {
   "display_name": "Python 3",
   "language": "python",
   "name": "python3"
  },
  "language_info": {
   "codemirror_mode": {
    "name": "ipython",
    "version": 3
   },
   "file_extension": ".py",
   "mimetype": "text/x-python",
   "name": "python",
   "nbconvert_exporter": "python",
   "pygments_lexer": "ipython3",
   "version": "3.8.5"
  }
 },
 "nbformat": 4,
 "nbformat_minor": 4
}
