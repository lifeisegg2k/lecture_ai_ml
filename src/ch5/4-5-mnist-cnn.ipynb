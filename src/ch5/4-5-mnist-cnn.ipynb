{
 "cells": [
  {
   "cell_type": "code",
   "execution_count": 1,
   "metadata": {},
   "outputs": [],
   "source": [
    "# CNN(Convolutional Neural Network)\n",
    "import keras\n",
    "from keras.models import Sequential\n",
    "from keras.layers import Dense, Dropout, Flatten\n",
    "from keras.layers import Conv2D, MaxPooling2D\n",
    "from keras.optimizers import RMSprop \n",
    "from keras.datasets import mnist\n",
    "import matplotlib.pyplot as plt"
   ]
  },
  {
   "cell_type": "code",
   "execution_count": 2,
   "metadata": {},
   "outputs": [],
   "source": [
    "im_rows = 28 # 画像の縦ピクセルサイズ\n",
    "im_cols = 28 # 画像の横ピクセルサイズ\n",
    "im_color = 1 # 画像の色空間/グレイスケール\n",
    "in_shape = (im_rows, im_cols, im_color)\n",
    "out_size = 10"
   ]
  },
  {
   "cell_type": "code",
   "execution_count": 3,
   "metadata": {},
   "outputs": [],
   "source": [
    "(X_train, y_train), (X_test, y_test) = mnist.load_data()\n",
    "\n",
    "X_train = X_train.reshape(-1, im_rows, im_cols, im_color)\n",
    "X_train = X_train.astype('float32') / 255\n",
    "X_test = X_test.reshape(-1, im_rows, im_cols, im_color)\n",
    "X_test = X_test.astype('float32') / 255\n",
    "\n",
    "y_train = keras.utils.to_categorical(y_train.astype('int32'),10)\n",
    "y_test = keras.utils.to_categorical(y_test.astype('int32'),10)"
   ]
  },
  {
   "cell_type": "code",
   "execution_count": 4,
   "metadata": {},
   "outputs": [],
   "source": [
    "model = Sequential()\n",
    "model.add(Conv2D(32, \n",
    "          kernel_size=(3, 3),\n",
    "          activation='relu',\n",
    "          input_shape=in_shape))\n",
    "model.add(Conv2D(64, (3, 3), activation='relu'))\n",
    "model.add(MaxPooling2D(pool_size=(2, 2)))\n",
    "model.add(Dropout(0.25))\n",
    "model.add(Flatten())\n",
    "model.add(Dense(128, activation='relu'))\n",
    "model.add(Dropout(0.5))\n",
    "model.add(Dense(out_size, activation='softmax'))"
   ]
  },
  {
   "cell_type": "code",
   "execution_count": 5,
   "metadata": {},
   "outputs": [
    {
     "name": "stdout",
     "output_type": "stream",
     "text": [
      "Epoch 1/12\n",
      "469/469 [==============================] - 139s 295ms/step - loss: 0.4375 - accuracy: 0.8628 - val_loss: 0.0516 - val_accuracy: 0.9839\n",
      "Epoch 2/12\n",
      "469/469 [==============================] - 79s 167ms/step - loss: 0.0870 - accuracy: 0.9742 - val_loss: 0.0383 - val_accuracy: 0.9874\n",
      "Epoch 3/12\n",
      "469/469 [==============================] - 76s 161ms/step - loss: 0.0618 - accuracy: 0.9820 - val_loss: 0.0353 - val_accuracy: 0.9891\n",
      "Epoch 4/12\n",
      "469/469 [==============================] - 76s 162ms/step - loss: 0.0476 - accuracy: 0.9859 - val_loss: 0.0346 - val_accuracy: 0.9889\n",
      "Epoch 5/12\n",
      "469/469 [==============================] - 76s 163ms/step - loss: 0.0481 - accuracy: 0.9855 - val_loss: 0.0294 - val_accuracy: 0.9906\n",
      "Epoch 6/12\n",
      "469/469 [==============================] - 77s 164ms/step - loss: 0.0455 - accuracy: 0.9868 - val_loss: 0.0333 - val_accuracy: 0.9896\n",
      "Epoch 7/12\n",
      "469/469 [==============================] - 77s 165ms/step - loss: 0.0419 - accuracy: 0.9883 - val_loss: 0.0357 - val_accuracy: 0.9898\n",
      "Epoch 8/12\n",
      "469/469 [==============================] - 78s 166ms/step - loss: 0.0396 - accuracy: 0.9883 - val_loss: 0.0289 - val_accuracy: 0.9917\n",
      "Epoch 9/12\n",
      "469/469 [==============================] - 77s 163ms/step - loss: 0.0429 - accuracy: 0.9883 - val_loss: 0.0324 - val_accuracy: 0.9902\n",
      "Epoch 10/12\n",
      "469/469 [==============================] - 76s 162ms/step - loss: 0.0445 - accuracy: 0.9880 - val_loss: 0.0349 - val_accuracy: 0.9896\n",
      "Epoch 11/12\n",
      "469/469 [==============================] - 77s 163ms/step - loss: 0.0486 - accuracy: 0.9866 - val_loss: 0.0359 - val_accuracy: 0.9903\n",
      "Epoch 12/12\n",
      "469/469 [==============================] - 76s 162ms/step - loss: 0.0487 - accuracy: 0.9866 - val_loss: 0.0328 - val_accuracy: 0.9906\n"
     ]
    }
   ],
   "source": [
    "model.compile(\n",
    "    loss='categorical_crossentropy',\n",
    "    optimizer=RMSprop(),\n",
    "    metrics=['accuracy'])\n",
    "\n",
    "hist = model.fit(X_train, y_train,\n",
    "          batch_size=128, \n",
    "          epochs=12,\n",
    "          verbose=1,\n",
    "          validation_data=(X_test, y_test))"
   ]
  },
  {
   "cell_type": "code",
   "execution_count": 6,
   "metadata": {},
   "outputs": [
    {
     "name": "stdout",
     "output_type": "stream",
     "text": [
      "313/313 [==============================] - 3s 11ms/step - loss: 0.0328 - accuracy: 0.9906\n",
      "正解率= 0.9905999898910522 loss= 0.032791655510663986\n"
     ]
    }
   ],
   "source": [
    "score = model.evaluate(X_test, y_test, verbose=1)\n",
    "print('正解率=', score[1], 'loss=', score[0])"
   ]
  },
  {
   "cell_type": "code",
   "execution_count": 7,
   "metadata": {},
   "outputs": [
    {
     "data": {
      "image/png": "[encoded data removed]",
      "text/plain": [
       "<Figure size 432x288 with 1 Axes>"
      ]
     },
     "metadata": {
      "needs_background": "light"
     },
     "output_type": "display_data"
    }
   ],
   "source": [
    "plt.plot(hist.history['accuracy'])\n",
    "plt.plot(hist.history['val_accuracy'])\n",
    "plt.title('Accuracy')\n",
    "plt.legend(['train', 'test'], loc='upper left')\n",
    "plt.show()"
   ]
  },
  {
   "cell_type": "code",
   "execution_count": 8,
   "metadata": {},
   "outputs": [
    {
     "data": {
      "image/png": "[encoded data removed]",
      "text/plain": [
       "<Figure size 432x288 with 1 Axes>"
      ]
     },
     "metadata": {
      "needs_background": "light"
     },
     "output_type": "display_data"
    }
   ],
   "source": [
    "plt.plot(hist.history['loss'])\n",
    "plt.plot(hist.history['val_loss'])\n",
    "plt.title('Loss')\n",
    "plt.legend(['train', 'test'], loc='upper left')\n",
    "plt.show()"
   ]
  }
 ],
 "metadata": {
  "kernelspec": {
   "display_name": "Python 3",
   "language": "python",
   "name": "python3"
  },
  "language_info": {
   "codemirror_mode": {
    "name": "ipython",
    "version": 3
   },
   "file_extension": ".py",
   "mimetype": "text/x-python",
   "name": "python",
   "nbconvert_exporter": "python",
   "pygments_lexer": "ipython3",
   "version": "3.8.5"
  }
 },
 "nbformat": 4,
 "nbformat_minor": 4
}
