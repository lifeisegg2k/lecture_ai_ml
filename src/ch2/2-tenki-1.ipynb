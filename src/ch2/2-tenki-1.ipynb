{
 "cells": [
  {
   "cell_type": "code",
   "execution_count": 1,
   "metadata": {},
   "outputs": [
    {
     "name": "stdout",
     "output_type": "stream",
     "text": [
      "年,月,日,気温,品質,均質\n",
      "2006,1,1,3.6,8,1\n",
      "2006,1,2,4.0,8,1\n",
      "2006,1,3,3.7,8,1\n",
      "2006,1,4,4.0,8,1\n",
      "2006,1,5,3.6,8,1\n",
      "\n",
      "saved.\n"
     ]
    }
   ],
   "source": [
    "in_file = \"../../data/tenki_data.csv\"\n",
    "out_file = \"kion10y.csv\"\n",
    "\n",
    "with open(in_file, \"rt\", encoding=\"Shift_JIS\") as fr:\n",
    "    lines = fr.readlines()\n",
    "\n",
    "lines = [\"年,月,日,気温,品質,均質\\n\"] + lines[5:]\n",
    "lines = map(lambda v: v.replace('/', ','), lines)\n",
    "result = \"\".join(lines).strip()\n",
    "print(result[:100])\n",
    "\n",
    "with open(out_file, \"wt\", encoding=\"utf-8\") as fw:\n",
    "    fw.write(result)\n",
    "    print(\"saved.\")\n",
    "    \n"
   ]
  },
  {
   "cell_type": "code",
   "execution_count": null,
   "metadata": {},
   "outputs": [],
   "source": []
  }
 ],
 "metadata": {
  "kernelspec": {
   "display_name": "Python 3",
   "language": "python",
   "name": "python3"
  },
  "language_info": {
   "codemirror_mode": {
    "name": "ipython",
    "version": 3
   },
   "file_extension": ".py",
   "mimetype": "text/x-python",
   "name": "python",
   "nbconvert_exporter": "python",
   "pygments_lexer": "ipython3",
   "version": "3.8.5"
  }
 },
 "nbformat": 4,
 "nbformat_minor": 4
}
