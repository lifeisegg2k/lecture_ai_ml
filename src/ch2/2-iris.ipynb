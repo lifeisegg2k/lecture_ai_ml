{
 "cells": [
  {
   "cell_type": "code",
   "execution_count": 1,
   "metadata": {},
   "outputs": [],
   "source": [
    "import pandas as pd\n",
    "from sklearn.model_selection import train_test_split\n",
    "from sklearn.svm import SVC\n",
    "from sklearn.metrics import accuracy_score"
   ]
  },
  {
   "cell_type": "code",
   "execution_count": 2,
   "metadata": {},
   "outputs": [
    {
     "name": "stdout",
     "output_type": "stream",
     "text": [
      "     SepalLength  SepalWidth  PetalLength  PetalWidth            Name\n",
      "0            5.1         3.5          1.4         0.2     Iris-setosa\n",
      "1            4.9         3.0          1.4         0.2     Iris-setosa\n",
      "2            4.7         3.2          1.3         0.2     Iris-setosa\n",
      "3            4.6         3.1          1.5         0.2     Iris-setosa\n",
      "4            5.0         3.6          1.4         0.2     Iris-setosa\n",
      "..           ...         ...          ...         ...             ...\n",
      "145          6.7         3.0          5.2         2.3  Iris-virginica\n",
      "146          6.3         2.5          5.0         1.9  Iris-virginica\n",
      "147          6.5         3.0          5.2         2.0  Iris-virginica\n",
      "148          6.2         3.4          5.4         2.3  Iris-virginica\n",
      "149          5.9         3.0          5.1         1.8  Iris-virginica\n",
      "\n",
      "[150 rows x 5 columns]\n"
     ]
    }
   ],
   "source": [
    "iris_data = pd.read_csv(\"../../data/iris.csv\", encoding=\"utf-8\")\n",
    "print(iris_data)"
   ]
  },
  {
   "cell_type": "code",
   "execution_count": 3,
   "metadata": {},
   "outputs": [
    {
     "name": "stdout",
     "output_type": "stream",
     "text": [
      "     SepalLength  SepalWidth  PetalLength  PetalWidth\n",
      "0            5.1         3.5          1.4         0.2\n",
      "1            4.9         3.0          1.4         0.2\n",
      "2            4.7         3.2          1.3         0.2\n",
      "3            4.6         3.1          1.5         0.2\n",
      "4            5.0         3.6          1.4         0.2\n",
      "..           ...         ...          ...         ...\n",
      "145          6.7         3.0          5.2         2.3\n",
      "146          6.3         2.5          5.0         1.9\n",
      "147          6.5         3.0          5.2         2.0\n",
      "148          6.2         3.4          5.4         2.3\n",
      "149          5.9         3.0          5.1         1.8\n",
      "\n",
      "[150 rows x 4 columns] 0         Iris-setosa\n",
      "1         Iris-setosa\n",
      "2         Iris-setosa\n",
      "3         Iris-setosa\n",
      "4         Iris-setosa\n",
      "            ...      \n",
      "145    Iris-virginica\n",
      "146    Iris-virginica\n",
      "147    Iris-virginica\n",
      "148    Iris-virginica\n",
      "149    Iris-virginica\n",
      "Name: Name, Length: 150, dtype: object\n"
     ]
    }
   ],
   "source": [
    "y = iris_data.loc[:, \"Name\"]\n",
    "x = iris_data.loc[:, [\"SepalLength\", \"SepalWidth\", \"PetalLength\", \"PetalWidth\"]]\n",
    "print(x,y)"
   ]
  },
  {
   "cell_type": "code",
   "execution_count": 4,
   "metadata": {},
   "outputs": [
    {
     "name": "stdout",
     "output_type": "stream",
     "text": [
      "     SepalLength  SepalWidth  PetalLength  PetalWidth\n",
      "59           5.2         2.7          3.9         1.4\n",
      "19           5.1         3.8          1.5         0.3\n",
      "89           5.5         2.5          4.0         1.3\n",
      "117          7.7         3.8          6.7         2.2\n",
      "41           4.5         2.3          1.3         0.3\n",
      "..           ...         ...          ...         ...\n",
      "124          6.7         3.3          5.7         2.1\n",
      "98           5.1         2.5          3.0         1.1\n",
      "121          5.6         2.8          4.9         2.0\n",
      "72           6.3         2.5          4.9         1.5\n",
      "66           5.6         3.0          4.5         1.5\n",
      "\n",
      "[120 rows x 4 columns]      SepalLength  SepalWidth  PetalLength  PetalWidth\n",
      "20           5.4         3.4          1.7         0.2\n",
      "52           6.9         3.1          4.9         1.5\n",
      "82           5.8         2.7          3.9         1.2\n",
      "23           5.1         3.3          1.7         0.5\n",
      "37           4.9         3.1          1.5         0.1\n",
      "90           5.5         2.6          4.4         1.2\n",
      "12           4.8         3.0          1.4         0.1\n",
      "95           5.7         3.0          4.2         1.2\n",
      "8            4.4         2.9          1.4         0.2\n",
      "60           5.0         2.0          3.5         1.0\n",
      "1            4.9         3.0          1.4         0.2\n",
      "34           4.9         3.1          1.5         0.1\n",
      "144          6.7         3.3          5.7         2.5\n",
      "83           6.0         2.7          5.1         1.6\n",
      "46           5.1         3.8          1.6         0.2\n",
      "51           6.4         3.2          4.5         1.5\n",
      "141          6.9         3.1          5.1         2.3\n",
      "77           6.7         3.0          5.0         1.7\n",
      "123          6.3         2.7          4.9         1.8\n",
      "27           5.2         3.5          1.5         0.2\n",
      "97           6.2         2.9          4.3         1.3\n",
      "104          6.5         3.0          5.8         2.2\n",
      "25           5.0         3.0          1.6         0.2\n",
      "128          6.4         2.8          5.6         2.1\n",
      "75           6.6         3.0          4.4         1.4\n",
      "112          6.8         3.0          5.5         2.1\n",
      "120          6.9         3.2          5.7         2.3\n",
      "100          6.3         3.3          6.0         2.5\n",
      "55           5.7         2.8          4.5         1.3\n",
      "114          5.8         2.8          5.1         2.4 59     Iris-versicolor\n",
      "19         Iris-setosa\n",
      "89     Iris-versicolor\n",
      "117     Iris-virginica\n",
      "41         Iris-setosa\n",
      "            ...       \n",
      "124     Iris-virginica\n",
      "98     Iris-versicolor\n",
      "121     Iris-virginica\n",
      "72     Iris-versicolor\n",
      "66     Iris-versicolor\n",
      "Name: Name, Length: 120, dtype: object 20         Iris-setosa\n",
      "52     Iris-versicolor\n",
      "82     Iris-versicolor\n",
      "23         Iris-setosa\n",
      "37         Iris-setosa\n",
      "90     Iris-versicolor\n",
      "12         Iris-setosa\n",
      "95     Iris-versicolor\n",
      "8          Iris-setosa\n",
      "60     Iris-versicolor\n",
      "1          Iris-setosa\n",
      "34         Iris-setosa\n",
      "144     Iris-virginica\n",
      "83     Iris-versicolor\n",
      "46         Iris-setosa\n",
      "51     Iris-versicolor\n",
      "141     Iris-virginica\n",
      "77     Iris-versicolor\n",
      "123     Iris-virginica\n",
      "27         Iris-setosa\n",
      "97     Iris-versicolor\n",
      "104     Iris-virginica\n",
      "25         Iris-setosa\n",
      "128     Iris-virginica\n",
      "75     Iris-versicolor\n",
      "112     Iris-virginica\n",
      "120     Iris-virginica\n",
      "100     Iris-virginica\n",
      "55     Iris-versicolor\n",
      "114     Iris-virginica\n",
      "Name: Name, dtype: object\n"
     ]
    }
   ],
   "source": [
    "x_train, x_test, y_train, y_test = train_test_split(\n",
    "    x, y, test_size = 0.2, train_size = 0.8, shuffle = True\n",
    ")\n",
    "print(x_train, x_test, y_train, y_test)"
   ]
  },
  {
   "cell_type": "code",
   "execution_count": 5,
   "metadata": {},
   "outputs": [
    {
     "data": {
      "text/plain": [
       "SVC()"
      ]
     },
     "execution_count": 5,
     "metadata": {},
     "output_type": "execute_result"
    }
   ],
   "source": [
    "clf = SVC()\n",
    "clf.fit(x_train, y_train)"
   ]
  },
  {
   "cell_type": "code",
   "execution_count": 6,
   "metadata": {},
   "outputs": [
    {
     "name": "stdout",
     "output_type": "stream",
     "text": [
      "正解率 =  0.9333333333333333\n"
     ]
    }
   ],
   "source": [
    "y_pred = clf.predict(x_test)\n",
    "print(\"正解率 = \" , accuracy_score(y_test, y_pred))"
   ]
  },
  {
   "cell_type": "code",
   "execution_count": null,
   "metadata": {},
   "outputs": [],
   "source": []
  }
 ],
 "metadata": {
  "kernelspec": {
   "display_name": "Python 3",
   "language": "python",
   "name": "python3"
  },
  "language_info": {
   "codemirror_mode": {
    "name": "ipython",
    "version": 3
   },
   "file_extension": ".py",
   "mimetype": "text/x-python",
   "name": "python",
   "nbconvert_exporter": "python",
   "pygments_lexer": "ipython3",
   "version": "3.8.5"
  }
 },
 "nbformat": 4,
 "nbformat_minor": 4
}
