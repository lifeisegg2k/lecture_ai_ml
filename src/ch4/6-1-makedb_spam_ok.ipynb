{
 "cells": [
  {
   "cell_type": "raw",
   "metadata": {},
   "source": [
    "- spam data\n",
    "'''sh \n",
    "$ git clone https://github.com/kujirahand/spam-database-ja.git \n",
    "$ mv spam-database-ja/*.zip ./spam/ \n",
    "$ rm -rf spam-database-ja/ \n",
    "$ cd spam\n",
    "$ unzip not-spam-sjis.zip \n",
    "$ unzip spam-sjis.zip \n",
    "$ unzip spam-utf8.zip \n",
    "'''\n",
    "\n",
    "- news data\n",
    "'''sh\n",
    "$ wget https://www.rondhuit.com/download/ldcc-20140209.tar.gz \n",
    "$ mv spam-database-ja/*.gz ./nospam/\n",
    "$ cd nospam\n",
    "$ tar -zxvf ldcc-20140209.tar.gz \n",
    "'''"
   ]
  },
  {
   "cell_type": "code",
   "execution_count": 1,
   "metadata": {},
   "outputs": [],
   "source": [
    "import os, glob\n",
    "import MeCab\n",
    "import numpy as np\n",
    "import pickle"
   ]
  },
  {
   "cell_type": "code",
   "execution_count": 2,
   "metadata": {},
   "outputs": [],
   "source": [
    "savefile = \"./ok-spam.pickle\"\n",
    "tagger = MeCab.Tagger()\n",
    "word_dic = {\"__id\": 0} \n",
    "files = [] "
   ]
  },
  {
   "cell_type": "code",
   "execution_count": 3,
   "metadata": {},
   "outputs": [],
   "source": [
    "def read_files(dir, label):\n",
    "    files = glob.glob(dir + '/*.txt')\n",
    "    for f in files:\n",
    "        read_file(f, label)"
   ]
  },
  {
   "cell_type": "code",
   "execution_count": 4,
   "metadata": {},
   "outputs": [],
   "source": [
    "def read_file(filename, label):\n",
    "    words = []\n",
    "    with open(filename, \"rt\", encoding=\"utf-8\") as f:\n",
    "        text = f.read()\n",
    "    files.append({\n",
    "        \"label\": label,\n",
    "        \"words\": text_to_ids(text)\n",
    "    })"
   ]
  },
  {
   "cell_type": "code",
   "execution_count": 5,
   "metadata": {},
   "outputs": [],
   "source": [
    "def text_to_ids(text):\n",
    "    word_s = tagger.parse(text)\n",
    "    words = []\n",
    "    for line in word_s.split(\"\\n\"):\n",
    "        if line == 'EOS' or line == '': continue\n",
    "        word = line.split(\"\\t\")[0]\n",
    "        params = line.split(\"\\t\")[4].split(\"-\")\n",
    "        hinsi = params[0] \n",
    "        hinsi2 = params[1]  if len(params) > 1 else '' \n",
    "        org = line.split(\"\\t\")[3]  \n",
    "        if not (hinsi in ['名詞', '動詞', '形容詞']): continue\n",
    "        if hinsi == '名詞' and hinsi2 == '数詞': continue\n",
    "        id = word_to_id(org)\n",
    "        words.append(id)\n",
    "    return words"
   ]
  },
  {
   "cell_type": "code",
   "execution_count": 6,
   "metadata": {},
   "outputs": [],
   "source": [
    "def word_to_id(word):\n",
    "    if not (word in word_dic):\n",
    "        id = word_dic[\"__id\"]\n",
    "        word_dic[\"__id\"] += 1\n",
    "        word_dic[word] = id\n",
    "    else:\n",
    "        id = word_dic[word]\n",
    "    return id"
   ]
  },
  {
   "cell_type": "code",
   "execution_count": 7,
   "metadata": {},
   "outputs": [],
   "source": [
    "def make_freq_data_allfiles():\n",
    "    y = []\n",
    "    x = []\n",
    "    for f in files:\n",
    "        y.append(f['label'])\n",
    "        x.append(make_freq_data(f['words']))\n",
    "    return y, x"
   ]
  },
  {
   "cell_type": "code",
   "execution_count": 8,
   "metadata": {},
   "outputs": [],
   "source": [
    "def make_freq_data(words):\n",
    "    cnt = 0\n",
    "    dat = np.zeros(word_dic[\"__id\"], 'float')\n",
    "    for w in words:\n",
    "        dat[w] += 1\n",
    "        cnt += 1\n",
    "    dat = dat / cnt\n",
    "    return dat"
   ]
  },
  {
   "cell_type": "code",
   "execution_count": 9,
   "metadata": {},
   "outputs": [
    {
     "name": "stdout",
     "output_type": "stream",
     "text": [
      "取込完了\n"
     ]
    }
   ],
   "source": [
    "# read_files(\"ok\", 0)\n",
    "read_files(\"nospam/text/dokujo-tsushin\", 0)\n",
    "# read_files(\"nospam/text/it-life-hack\", 0)\n",
    "read_files(\"nospam/text/kaden-channel\", 0)\n",
    "read_files(\"nospam/text/livedoor-homme\", 0)\n",
    "read_files(\"nospam/text/movie-enter\", 0)\n",
    "# read_files(\"nospam/text/peachy\", 0)\n",
    "# read_files(\"nospam/text/smax\", 0)\n",
    "# read_files(\"nospam/text/sports-watch\", 0)\n",
    "read_files(\"nospam/text/topic-news\", 0)\n",
    "# read_files(\"spam/not-spam-sjis\", 0)\n",
    "print(\"取込完了\")"
   ]
  },
  {
   "cell_type": "code",
   "execution_count": 10,
   "metadata": {},
   "outputs": [
    {
     "name": "stdout",
     "output_type": "stream",
     "text": [
      "取込完了\n"
     ]
    }
   ],
   "source": [
    "# read_files(\"spam\", 1)\n",
    "# read_files(\"spam/not-spam-sjis\", 0)\n",
    "# read_files(\"spam/spam-sjis\", 1)\n",
    "read_files(\"spam/spam-utf8\", 1)\n",
    "print(\"取込完了\")"
   ]
  },
  {
   "cell_type": "code",
   "execution_count": 11,
   "metadata": {},
   "outputs": [
    {
     "name": "stdout",
     "output_type": "stream",
     "text": [
      "単語頻出データ作成完了\n"
     ]
    }
   ],
   "source": [
    "y, x = make_freq_data_allfiles()\n",
    "pickle.dump([y, x, word_dic], open(savefile, 'wb'))\n",
    "print(\"単語頻出データ作成完了\")"
   ]
  },
  {
   "cell_type": "code",
   "execution_count": null,
   "metadata": {},
   "outputs": [],
   "source": []
  }
 ],
 "metadata": {
  "kernelspec": {
   "display_name": "Python 3",
   "language": "python",
   "name": "python3"
  },
  "language_info": {
   "codemirror_mode": {
    "name": "ipython",
    "version": 3
   },
   "file_extension": ".py",
   "mimetype": "text/x-python",
   "name": "python",
   "nbconvert_exporter": "python",
   "pygments_lexer": "ipython3",
   "version": "3.8.5"
  }
 },
 "nbformat": 4,
 "nbformat_minor": 4
}
