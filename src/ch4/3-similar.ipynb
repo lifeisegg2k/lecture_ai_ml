{
 "cells": [
  {
   "cell_type": "code",
   "execution_count": 1,
   "metadata": {},
   "outputs": [],
   "source": [
    "from gensim.models import word2vec\n",
    "model = word2vec.Word2Vec.load(\"./wiki.model\")"
   ]
  },
  {
   "cell_type": "code",
   "execution_count": 2,
   "metadata": {},
   "outputs": [
    {
     "name": "stdout",
     "output_type": "stream",
     "text": [
      "('設備', 0.807682454586029)\n",
      "('事業', 0.7833119630813599)\n",
      "('テナント', 0.7619026899337769)\n",
      "('物資', 0.7587056159973145)\n",
      "('サービス', 0.7535953521728516)\n",
      "('管理', 0.7459290027618408)\n",
      "('不動産', 0.7454061508178711)\n",
      "('営業', 0.7292730808258057)\n",
      "('機材', 0.7279471158981323)\n",
      "('調整', 0.7254983186721802)\n"
     ]
    }
   ],
   "source": [
    "results = model.wv.most_similar(positive=['業務'])\n",
    "for result in results:\n",
    "    print(result)"
   ]
  },
  {
   "cell_type": "code",
   "execution_count": null,
   "metadata": {},
   "outputs": [],
   "source": []
  }
 ],
 "metadata": {
  "kernelspec": {
   "display_name": "Python 3",
   "language": "python",
   "name": "python3"
  },
  "language_info": {
   "codemirror_mode": {
    "name": "ipython",
    "version": 3
   },
   "file_extension": ".py",
   "mimetype": "text/x-python",
   "name": "python",
   "nbconvert_exporter": "python",
   "pygments_lexer": "ipython3",
   "version": "3.8.5"
  }
 },
 "nbformat": 4,
 "nbformat_minor": 4
}
