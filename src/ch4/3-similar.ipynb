{
 "cells": [
  {
   "cell_type": "code",
   "execution_count": 1,
   "metadata": {},
   "outputs": [],
   "source": [
    "from gensim.models import word2vec\n",
    "model = word2vec.Word2Vec.load(\"./model/wiki.model\")"
   ]
  },
  {
   "cell_type": "code",
   "execution_count": 2,
   "metadata": {},
   "outputs": [
    {
     "name": "stdout",
     "output_type": "stream",
     "text": [
      "('設備', 0.7991844415664673)\n",
      "('事業', 0.7875901460647583)\n",
      "('サービス', 0.7823395133018494)\n",
      "('作業', 0.7628194689750671)\n",
      "('営業', 0.7598032355308533)\n",
      "('窓口', 0.7595568895339966)\n",
      "('不動産', 0.753748893737793)\n",
      "('テナント', 0.7505917549133301)\n",
      "('管理', 0.7369922399520874)\n",
      "('通信', 0.7291527986526489)\n"
     ]
    }
   ],
   "source": [
    "results = model.wv.most_similar(positive=['業務'])\n",
    "for result in results:\n",
    "    print(result)"
   ]
  },
  {
   "cell_type": "code",
   "execution_count": null,
   "metadata": {},
   "outputs": [],
   "source": []
  }
 ],
 "metadata": {
  "kernelspec": {
   "display_name": "Python 3",
   "language": "python",
   "name": "python3"
  },
  "language_info": {
   "codemirror_mode": {
    "name": "ipython",
    "version": 3
   },
   "file_extension": ".py",
   "mimetype": "text/x-python",
   "name": "python",
   "nbconvert_exporter": "python",
   "pygments_lexer": "ipython3",
   "version": "3.8.5"
  }
 },
 "nbformat": 4,
 "nbformat_minor": 4
}
