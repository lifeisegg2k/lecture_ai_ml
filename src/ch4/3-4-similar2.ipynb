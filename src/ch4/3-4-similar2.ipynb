{
 "cells": [
  {
   "cell_type": "code",
   "execution_count": 1,
   "metadata": {},
   "outputs": [],
   "source": [
    "from gensim.models import word2vec\n",
    "model = word2vec.Word2Vec.load(\"./model/wiki.model\")"
   ]
  },
  {
   "cell_type": "code",
   "execution_count": 2,
   "metadata": {},
   "outputs": [
    {
     "name": "stdout",
     "output_type": "stream",
     "text": [
      "('将軍', 0.7030817866325378)\n",
      "('明朝', 0.6971932053565979)\n",
      "('宋', 0.6713888049125671)\n",
      "('皇后', 0.6653125882148743)\n",
      "('漢', 0.6616947650909424)\n",
      "('寧', 0.6440935134887695)\n",
      "('皇族', 0.643936038017273)\n",
      "('公', 0.640937089920044)\n",
      "('唐', 0.6402191519737244)\n",
      "('帝', 0.6387940049171448)\n"
     ]
    }
   ],
   "source": [
    "results = model.wv.most_similar(positive=['王','女'], negative=['男'])\n",
    "for result in results:\n",
    "    print(result)"
   ]
  },
  {
   "cell_type": "code",
   "execution_count": null,
   "metadata": {},
   "outputs": [],
   "source": []
  }
 ],
 "metadata": {
  "kernelspec": {
   "display_name": "Python 3",
   "language": "python",
   "name": "python3"
  },
  "language_info": {
   "codemirror_mode": {
    "name": "ipython",
    "version": 3
   },
   "file_extension": ".py",
   "mimetype": "text/x-python",
   "name": "python",
   "nbconvert_exporter": "python",
   "pygments_lexer": "ipython3",
   "version": "3.8.5"
  }
 },
 "nbformat": 4,
 "nbformat_minor": 4
}
