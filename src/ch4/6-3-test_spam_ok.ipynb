{
 "cells": [
  {
   "cell_type": "code",
   "execution_count": 1,
   "metadata": {},
   "outputs": [],
   "source": [
    "import pickle\n",
    "import MeCab\n",
    "import numpy as np\n",
    "from sklearn.naive_bayes import GaussianNB"
   ]
  },
  {
   "cell_type": "code",
   "execution_count": 2,
   "metadata": {},
   "outputs": [],
   "source": [
    "test_text1 = \"\"\"\n",
    "会社から支給されているiPhoneの調子が悪いのです。\n",
    "修理に出すので、しばらくはアプリのテストができません。\n",
    "\"\"\"\n",
    "test_text2 = \"\"\"\n",
    "億万長者になる方法を教えます。\n",
    "すぐに以下のアドレスに返信して。\n",
    "\"\"\"\n",
    "data_file = \"./ok-spam.pickle\"\n",
    "model_file = \"./ok-spam-model.pickle\"\n",
    "label_names = ['OK', 'SPAM']"
   ]
  },
  {
   "cell_type": "code",
   "execution_count": 3,
   "metadata": {},
   "outputs": [],
   "source": [
    "data = pickle.load(open(data_file, \"rb\"))\n",
    "word_dic = data[2]\n",
    "tagger = MeCab.Tagger()\n",
    "model = pickle.load(open(model_file, \"rb\"))"
   ]
  },
  {
   "cell_type": "code",
   "execution_count": 4,
   "metadata": {},
   "outputs": [],
   "source": [
    "def check_spam(text):\n",
    "    zw = np.zeros(word_dic['__id'])\n",
    "    count = 0\n",
    "    s = tagger.parse(text)\n",
    "    for line in s.split(\"\\n\"):\n",
    "        if line == \"EOS\": break\n",
    "        org =  line.split(\"\\t\")[3]\n",
    "        if org in word_dic:\n",
    "            id = word_dic[org]\n",
    "            zw[id] += 1\n",
    "            count += 1\n",
    "    zw = zw / count \n",
    "    pre = model.predict([zw])[0]\n",
    "    print(\"- 結果=\", label_names[pre])"
   ]
  },
  {
   "cell_type": "code",
   "execution_count": 5,
   "metadata": {},
   "outputs": [
    {
     "name": "stdout",
     "output_type": "stream",
     "text": [
      "- 結果= OK\n",
      "- 結果= OK\n"
     ]
    }
   ],
   "source": [
    "check_spam(test_text1)\n",
    "check_spam(test_text2)"
   ]
  }
 ],
 "metadata": {
  "kernelspec": {
   "display_name": "Python 3",
   "language": "python",
   "name": "python3"
  },
  "language_info": {
   "codemirror_mode": {
    "name": "ipython",
    "version": 3
   },
   "file_extension": ".py",
   "mimetype": "text/x-python",
   "name": "python",
   "nbconvert_exporter": "python",
   "pygments_lexer": "ipython3",
   "version": "3.8.5"
  }
 },
 "nbformat": 4,
 "nbformat_minor": 4
}
