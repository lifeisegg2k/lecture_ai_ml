{
 "cells": [
  {
   "cell_type": "code",
   "execution_count": 1,
   "metadata": {},
   "outputs": [],
   "source": [
    "import zipfile\n",
    "import os.path\n",
    "import urllib.request as req\n",
    "import MeCab\n",
    "from gensim import models\n",
    "from gensim.models.doc2vec import TaggedDocument"
   ]
  },
  {
   "cell_type": "code",
   "execution_count": 2,
   "metadata": {},
   "outputs": [
    {
     "data": {
      "text/plain": [
       "'EOS\\n'"
      ]
     },
     "execution_count": 2,
     "metadata": {},
     "output_type": "execute_result"
    }
   ],
   "source": [
    "mecab = MeCab.Tagger()\n",
    "mecab.parse(\"\")"
   ]
  },
  {
   "cell_type": "code",
   "execution_count": 3,
   "metadata": {},
   "outputs": [],
   "source": [
    "list = [\n",
    "    {\"auther\":{\n",
    "        \"name\":\"宮澤 賢治\",\n",
    "        \"url\":\"https://www.aozora.gr.jp/cards/000081/files/\"}, \n",
    "     \"books\":[\n",
    "        {\"name\":\"銀河鉄道の夜\",\"zipname\":\"43737_ruby_19028.zip\"},\n",
    "        {\"name\":\"注文の多い料理店\",\"zipname\":\"1927_ruby_17835.zip\"},\n",
    "        {\"name\":\"セロ弾きのゴーシュ\",\"zipname\":\"470_ruby_3987.zip\"},\n",
    "        {\"name\":\"やまなし\",\"zipname\":\"46605_ruby_29758.zip\"},\n",
    "        {\"name\":\"どんぐりと山猫\",\"zipname\":\"43752_ruby_17595.zip\"},\n",
    "    ]},\n",
    "    {\"auther\":{\n",
    "        \"name\":\"芥川 竜之介\",\n",
    "        \"url\":\"https://www.aozora.gr.jp/cards/000879/files/\"}, \n",
    "     \"books\":[\n",
    "        {\"name\":\"羅生門\",\"zipname\":\"127_ruby_150.zip\"},\n",
    "        {\"name\":\"鼻\",\"zipname\":\"42_ruby_154.zip\"},\n",
    "        {\"name\":\"河童\",\"zipname\":\"69_ruby_1321.zip\"},\n",
    "        {\"name\":\"歯車\",\"zipname\":\"42377_ruby_34744.zip\"},\n",
    "        {\"name\":\"老年\",\"zipname\":\"131_ruby_241.zip\"},\n",
    "    ]},\n",
    "    {\"auther\":{\n",
    "        \"name\":\"ポー エドガー・アラン\",\n",
    "        \"url\":\"https://www.aozora.gr.jp/cards/000094/files/\"}, \n",
    "     \"books\":[\n",
    "        {\"name\":\"ウィリアム・ウィルスン\",\"zipname\":\"2523_ruby_19896.zip\"},\n",
    "        {\"name\":\"落穴と振子\",\"zipname\":\"1871_ruby_17551.zip\"},\n",
    "        {\"name\":\"黒猫\",\"zipname\":\"530_ruby_20931.zip\"},\n",
    "        {\"name\":\"群集の人\",\"zipname\":\"56535_ruby_69925.zip\"},\n",
    "        {\"name\":\"沈黙\",\"zipname\":\"56537_ruby_70425.zip\"},\n",
    "    ]},\n",
    "    {\"auther\":{\n",
    "        \"name\":\"紫式部\",\n",
    "        \"url\":\"https://www.aozora.gr.jp/cards/000052/files/\"}, \n",
    "     \"books\":[\n",
    "        {\"name\":\"源氏物語 01 桐壺\",\"zipname\":\"5016_ruby_9746.zip\"},\n",
    "        {\"name\":\"源氏物語 02 帚木\",\"zipname\":\"5017_ruby_9752.zip\"},\n",
    "        {\"name\":\"源氏物語 03 空蝉\",\"zipname\":\"5018_ruby_9754.zip\"},\n",
    "        {\"name\":\"源氏物語 04 夕顔\",\"zipname\":\"5019_ruby_9761.zip\"},\n",
    "        {\"name\":\"源氏物語 05 若紫\",\"zipname\":\"5020_ruby_11253.zip\"},\n",
    "    ]},\n",
    "]"
   ]
  },
  {
   "cell_type": "code",
   "execution_count": 4,
   "metadata": {},
   "outputs": [],
   "source": [
    "def book_list():\n",
    "    for novelist in list:\n",
    "        auther = novelist[\"auther\"]\n",
    "        for book in novelist[\"books\"]:\n",
    "            yield auther, book"
   ]
  },
  {
   "cell_type": "code",
   "execution_count": 5,
   "metadata": {},
   "outputs": [],
   "source": [
    "def read_book(auther, book):\n",
    "    zipname = book[\"zipname\"]\n",
    "    if not os.path.exists(zipname):\n",
    "        req.urlretrieve(auther[\"url\"] + zipname, zipname)\n",
    "    zipname = book[\"zipname\"]\n",
    "    with zipfile.ZipFile(zipname,\"r\") as zf:\n",
    "        for filename in zf.namelist():\n",
    "            if os.path.splitext(filename)[1] != \".txt\":\n",
    "                continue\n",
    "            with zf.open(filename,\"r\") as f: \n",
    "                return f.read().decode(\"shift-jis\")"
   ]
  },
  {
   "cell_type": "code",
   "execution_count": 6,
   "metadata": {},
   "outputs": [],
   "source": [
    "def split_words(text):\n",
    "    node = mecab.parseToNode(text)\n",
    "    wakati_words = []\n",
    "    while node is not None:\n",
    "        hinshi = node.feature.split(\",\")[0]\n",
    "        if  hinshi in [\"名詞\"]:\n",
    "            wakati_words.append(node.surface)\n",
    "        elif hinshi in [\"動詞\", \"形容詞\"]:\n",
    "            wakati_words.append(node.feature.split(\",\")[6])\n",
    "        node = node.next\n",
    "    return wakati_words"
   ]
  },
  {
   "cell_type": "code",
   "execution_count": 7,
   "metadata": {},
   "outputs": [],
   "source": [
    "documents = []\n",
    "for auther, book in book_list():\n",
    "    words = read_book(auther, book)\n",
    "    wakati_words = split_words(words)\n",
    "    document = TaggedDocument(\n",
    "        wakati_words, [auther[\"name\"] + \":\" + book[\"name\"]])\n",
    "    documents.append(document)"
   ]
  },
  {
   "cell_type": "code",
   "execution_count": 8,
   "metadata": {},
   "outputs": [
    {
     "name": "stdout",
     "output_type": "stream",
     "text": [
      "モデル作成完了\n"
     ]
    }
   ],
   "source": [
    "model = models.Doc2Vec(\n",
    "    documents, dm=0, vector_size=300, window=15, min_count=1)\n",
    "\n",
    "model.save('./model/aozora.model')\n",
    "\n",
    "print(\"モデル作成完了\")"
   ]
  },
  {
   "cell_type": "code",
   "execution_count": null,
   "metadata": {},
   "outputs": [],
   "source": []
  }
 ],
 "metadata": {
  "kernelspec": {
   "display_name": "Python 3",
   "language": "python",
   "name": "python3"
  },
  "language_info": {
   "codemirror_mode": {
    "name": "ipython",
    "version": 3
   },
   "file_extension": ".py",
   "mimetype": "text/x-python",
   "name": "python",
   "nbconvert_exporter": "python",
   "pygments_lexer": "ipython3",
   "version": "3.8.5"
  }
 },
 "nbformat": 4,
 "nbformat_minor": 4
}
