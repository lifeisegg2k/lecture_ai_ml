{
 "cells": [
  {
   "cell_type": "code",
   "execution_count": null,
   "metadata": {},
   "outputs": [],
   "source": [
    "import MeCab\n",
    "import os,json,random"
   ]
  },
  {
   "cell_type": "code",
   "execution_count": 2,
   "metadata": {},
   "outputs": [],
   "source": [
    "dict_file = \"markov_dict.json\"\n",
    "dic = {}"
   ]
  },
  {
   "cell_type": "code",
   "execution_count": 3,
   "metadata": {},
   "outputs": [],
   "source": [
    "def regist_dic(wordlist):\n",
    "    global dic\n",
    "    w1 = \"\"\n",
    "    w2 = \"\"\n",
    "    \n",
    "    if len(wordlist) < 3 : return\n",
    "    \n",
    "    for w in wordlist :\n",
    "        word = w[0]\n",
    "        if word == \"\" or  word == \"\\r\\n\" or word == \"\\n\" : continue\n",
    "        if w1 and w2 :\n",
    "            set_dic(dic,w1, w2, word)\n",
    "        if word == \"。\" or word == \"?\" or  word == \"？\" :\n",
    "            w1 = \"\"\n",
    "            w2 = \"\"\n",
    "            continue\n",
    "        w1, w2 = w2, word\n",
    "    \n",
    "    json.dump(dic, open(dict_file,\"w\", encoding=\"utf-8\"))"
   ]
  },
  {
   "cell_type": "code",
   "execution_count": 4,
   "metadata": {},
   "outputs": [],
   "source": [
    "def set_dic(dic, w1, w2, w3):\n",
    "    if w1 not in dic : dic[w1] = {}\n",
    "    if w2 not in dic[w1] : dic[w1][w2] = {}\n",
    "    if w3 not in dic[w1][w2]: dic[w1][w2][w3] = 0\n",
    "    dic[w1][w2][w3] += 1"
   ]
  },
  {
   "cell_type": "code",
   "execution_count": 5,
   "metadata": {},
   "outputs": [],
   "source": [
    "def make_response(word):\n",
    "    res = []\n",
    "    \n",
    "    w1 = word\n",
    "    res.append(w1)\n",
    "    w2 = word_choice(dic[w1])\n",
    "    res.append(w2)\n",
    "    while True:\n",
    "        if w1 in dic and w2 in dic[w1] : w3 = word_choice(dic[w1][w2])\n",
    "        else : w3 = \"\"\n",
    "        res.append(w3)\n",
    "        if w3 == \"。\" or w3 == \"?\" or  w3 == \"？\"  or w3 == \"\" :  break\n",
    "        w1, w2 = w2, w3\n",
    "    return \"\".join(res)"
   ]
  },
  {
   "cell_type": "code",
   "execution_count": 6,
   "metadata": {},
   "outputs": [],
   "source": [
    "def word_choice(candidate):\n",
    "    keys = candidate.keys()\n",
    "    return random.choice(list(keys))"
   ]
  },
  {
   "cell_type": "code",
   "execution_count": 7,
   "metadata": {},
   "outputs": [],
   "source": [
    "if os.path.exists(dict_file):\n",
    "        dic = json.load(open(dict_file,\"r\"))"
   ]
  },
  {
   "cell_type": "code",
   "execution_count": 8,
   "metadata": {},
   "outputs": [
    {
     "name": "stdin",
     "output_type": "stream",
     "text": [
      "You ->  もしもし\n"
     ]
    },
    {
     "name": "stdout",
     "output_type": "stream",
     "text": [
      "Bot -> もしもし\n"
     ]
    },
    {
     "name": "stdin",
     "output_type": "stream",
     "text": [
      "You ->  イチゴとメロンはどちらが好きですか？\n"
     ]
    },
    {
     "name": "stdout",
     "output_type": "stream",
     "text": [
      "Bot -> イチゴとメロンはどちらが好きですか？\n"
     ]
    },
    {
     "name": "stdin",
     "output_type": "stream",
     "text": [
      "You ->  イチゴ\n"
     ]
    },
    {
     "name": "stdout",
     "output_type": "stream",
     "text": [
      "Bot -> イチゴとメロンはどちらが好きですか？\n"
     ]
    },
    {
     "name": "stdin",
     "output_type": "stream",
     "text": [
      "You ->  メロン\n"
     ]
    },
    {
     "name": "stdout",
     "output_type": "stream",
     "text": [
      "Bot -> メロンはどちらが好きですか？\n"
     ]
    },
    {
     "name": "stdin",
     "output_type": "stream",
     "text": [
      "You ->  どちらが好きですか\n"
     ]
    },
    {
     "name": "stdout",
     "output_type": "stream",
     "text": [
      "Bot -> どちらが好きですか。\n"
     ]
    },
    {
     "name": "stdin",
     "output_type": "stream",
     "text": [
      "You ->  俺はメロン\n"
     ]
    },
    {
     "name": "stdout",
     "output_type": "stream",
     "text": [
      "Bot -> 俺はメロン。\n"
     ]
    },
    {
     "name": "stdin",
     "output_type": "stream",
     "text": [
      "You ->  イチゴとメロンはどちらが好きですか？\n"
     ]
    },
    {
     "name": "stdout",
     "output_type": "stream",
     "text": [
      "Bot -> イチゴとメロンはどちらが好きですか？\n"
     ]
    },
    {
     "name": "stdin",
     "output_type": "stream",
     "text": [
      "You ->  さようなら\n"
     ]
    },
    {
     "name": "stdout",
     "output_type": "stream",
     "text": [
      "Bot -> さようなら\n"
     ]
    }
   ],
   "source": [
    "while True:\n",
    "    text = input(\"You -> \")\n",
    "    if text == \"\" or text == \"さようなら\" : \n",
    "        print(\"Bot -> さようなら\")\n",
    "        break\n",
    "\n",
    "    if text[-1] != \"。\" and text[-1] != \"?\" and text[-1] != \"？\" : text +=\"。\"\n",
    "    \n",
    "    # tagger = MeCab.Tagger(\"-d /var/lib/mecab/dic/mecab-ipadic-neologd\")\n",
    "    tagger = MeCab.Tagger(\"-d /usr/local/lib/mecab/dic/mecab-ipadic-neologd\")\n",
    "    tagger.parse(\"\") \n",
    "    node =  tagger.parseToNode(text)\n",
    "    \n",
    "    wordlist = []\n",
    "    while node is not None:\n",
    "        hinshi = node.feature.split(\",\")[0]\n",
    "        if  hinshi not  in [\"BOS/EOS\"]:\n",
    "            wordlist.append([node.surface,hinshi])\n",
    "        node = node.next\n",
    "    \n",
    "    regist_dic(wordlist)\n",
    "\n",
    "    for w in wordlist:\n",
    "        word = w[0]\n",
    "        hinshi = w[1]\n",
    "        if hinshi in [ \"感動詞\"] : \n",
    "            print(\"Bot -> \" + word)\n",
    "            break\n",
    "        elif (hinshi in [ \"名詞\" ,\"形容詞\",\"動詞\"]) and (word in dic):\n",
    "            print(\"Bot -> \" + make_response(word))\n",
    "            break"
   ]
  },
  {
   "cell_type": "code",
   "execution_count": null,
   "metadata": {},
   "outputs": [],
   "source": []
  }
 ],
 "metadata": {
  "kernelspec": {
   "display_name": "Python 3",
   "language": "python",
   "name": "python3"
  },
  "language_info": {
   "codemirror_mode": {
    "name": "ipython",
    "version": 3
   },
   "file_extension": ".py",
   "mimetype": "text/x-python",
   "name": "python",
   "nbconvert_exporter": "python",
   "pygments_lexer": "ipython3",
   "version": "3.8.5"
  }
 },
 "nbformat": 4,
 "nbformat_minor": 4
}
