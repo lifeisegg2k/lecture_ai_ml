{
 "cells": [
  {
   "cell_type": "code",
   "execution_count": 1,
   "metadata": {},
   "outputs": [],
   "source": [
    "import pickle\n",
    "from sklearn.naive_bayes import GaussianNB\n",
    "from sklearn.model_selection import train_test_split\n",
    "from sklearn.metrics import accuracy_score"
   ]
  },
  {
   "cell_type": "code",
   "execution_count": null,
   "metadata": {},
   "outputs": [
    {
     "name": "stdout",
     "output_type": "stream",
     "text": [
      "0.989937106918239\n",
      "0.9849056603773585\n",
      "0.9911949685534591\n",
      "0.989937106918239\n",
      "0.9886792452830189\n",
      "0.9836477987421384\n",
      "0.9874213836477987\n",
      "0.9823899371069182\n",
      "0.9874213836477987\n",
      "0.9861635220125786\n",
      "0.9861635220125786\n",
      "0.9836477987421384\n",
      "0.9874213836477987\n",
      "0.9861635220125786\n",
      "0.9924528301886792\n",
      "0.9849056603773585\n",
      "0.9874213836477987\n",
      "0.9861635220125786\n",
      "0.9861635220125786\n",
      "0.9949685534591195\n"
     ]
    }
   ],
   "source": [
    "data_file = \"./ok-spam.pickle\" # <- このファイルが大きくと時間がかかる、メモリも必要\n",
    "save_file = \"./ok-spam-model.pickle\"\n",
    "data = pickle.load(open(data_file, \"rb\"))\n",
    "y = data[0] \n",
    "x = data[1] \n",
    "\n",
    "count = 100\n",
    "rate = 0\n",
    "for i in range(count):\n",
    "    x_train, x_test, y_train, y_test = train_test_split(x, y, test_size=0.2)\n",
    "    model = GaussianNB()\n",
    "    model.fit(x_train, y_train)\n",
    "    y_pred = model.predict(x_test)\n",
    "    acc = accuracy_score(y_test, y_pred)\n",
    "    print(acc)\n",
    "    if acc > 0.94: \n",
    "        pickle.dump(model, open(save_file, \"wb\"))\n",
    "    rate += acc\n",
    "\n",
    "print(\"----\")\n",
    "print(\"average=\", rate / count)"
   ]
  },
  {
   "cell_type": "code",
   "execution_count": null,
   "metadata": {},
   "outputs": [],
   "source": []
  }
 ],
 "metadata": {
  "kernelspec": {
   "display_name": "Python 3",
   "language": "python",
   "name": "python3"
  },
  "language_info": {
   "codemirror_mode": {
    "name": "ipython",
    "version": 3
   },
   "file_extension": ".py",
   "mimetype": "text/x-python",
   "name": "python",
   "nbconvert_exporter": "python",
   "pygments_lexer": "ipython3",
   "version": "3.8.5"
  }
 },
 "nbformat": 4,
 "nbformat_minor": 4
}
