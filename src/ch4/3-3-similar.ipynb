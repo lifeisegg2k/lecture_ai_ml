{
 "cells": [
  {
   "cell_type": "code",
   "execution_count": 1,
   "metadata": {},
   "outputs": [],
   "source": [
    "from gensim.models import word2vec\n",
    "model = word2vec.Word2Vec.load(\"./model/wiki.model\")"
   ]
  },
  {
   "cell_type": "code",
   "execution_count": 2,
   "metadata": {},
   "outputs": [
    {
     "name": "stdout",
     "output_type": "stream",
     "text": [
      "('サービス', 0.8033893704414368)\n",
      "('事業', 0.8021843433380127)\n",
      "('不動産', 0.7766929268836975)\n",
      "('設備', 0.7750001549720764)\n",
      "('営業', 0.7730544209480286)\n",
      "('調整', 0.719685971736908)\n",
      "('通信', 0.7131046652793884)\n",
      "('管理', 0.7127683758735657)\n",
      "('防災', 0.710513174533844)\n",
      "('機材', 0.7086635231971741)\n"
     ]
    }
   ],
   "source": [
    "results = model.wv.most_similar(positive=['業務'])\n",
    "for result in results:\n",
    "    print(result)"
   ]
  },
  {
   "cell_type": "code",
   "execution_count": null,
   "metadata": {},
   "outputs": [],
   "source": []
  }
 ],
 "metadata": {
  "kernelspec": {
   "display_name": "Python 3",
   "language": "python",
   "name": "python3"
  },
  "language_info": {
   "codemirror_mode": {
    "name": "ipython",
    "version": 3
   },
   "file_extension": ".py",
   "mimetype": "text/x-python",
   "name": "python",
   "nbconvert_exporter": "python",
   "pygments_lexer": "ipython3",
   "version": "3.8.5"
  }
 },
 "nbformat": 4,
 "nbformat_minor": 4
}
