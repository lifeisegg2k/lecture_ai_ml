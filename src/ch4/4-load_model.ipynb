{
 "cells": [
  {
   "cell_type": "code",
   "execution_count": 1,
   "metadata": {},
   "outputs": [],
   "source": [
    "import urllib.request as req\n",
    "import zipfile\n",
    "import os.path \n",
    "import MeCab\n",
    "from gensim import models"
   ]
  },
  {
   "cell_type": "code",
   "execution_count": 2,
   "metadata": {},
   "outputs": [
    {
     "data": {
      "text/plain": [
       "'EOS\\n'"
      ]
     },
     "execution_count": 2,
     "metadata": {},
     "output_type": "execute_result"
    }
   ],
   "source": [
    "mecab = MeCab.Tagger()\n",
    "mecab.parse(\"\")"
   ]
  },
  {
   "cell_type": "code",
   "execution_count": 3,
   "metadata": {},
   "outputs": [],
   "source": [
    "model = models.Doc2Vec.load('./model/aozora.model')"
   ]
  },
  {
   "cell_type": "code",
   "execution_count": 4,
   "metadata": {},
   "outputs": [],
   "source": [
    "def read_book(url, zipname):\n",
    "    if not os.path.exists(zipname):\n",
    "        req.urlretrieve(url, zipname)\n",
    "\n",
    "    with zipfile.ZipFile(zipname,\"r\") as zf:\n",
    "        for filename in zf.namelist():\n",
    "            with zf.open(filename,\"r\") as f:\n",
    "                return f.read().decode(\"shift-jis\")"
   ]
  },
  {
   "cell_type": "code",
   "execution_count": 5,
   "metadata": {},
   "outputs": [],
   "source": [
    "def split_words(text):\n",
    "    node = mecab.parseToNode(text)\n",
    "    wakati_words = []\n",
    "    while node is not None:\n",
    "        hinshi = node.feature.split(\",\")[0]\n",
    "        if  hinshi in [\"名詞\"]:\n",
    "            wakati_words.append(node.surface)\n",
    "        elif hinshi in [\"動詞\", \"形容詞\"]:\n",
    "            wakati_words.append(node.feature.split(\",\")[6])\n",
    "        node = node.next\n",
    "    return wakati_words"
   ]
  },
  {
   "cell_type": "code",
   "execution_count": 6,
   "metadata": {},
   "outputs": [],
   "source": [
    "def similar(title, url):\n",
    "    zipname = url.split(\"/\")[-1]\n",
    "        \n",
    "    words = read_book(url, zipname)\n",
    "    wakati_words = split_words(words)\n",
    "    vector = model.infer_vector(wakati_words)\n",
    "    print(\"--- 「\" + title + '」 と似た作品は? ---')\n",
    "    print(model.docvecs.most_similar([vector],topn=3))\n",
    "    print(\"\")"
   ]
  },
  {
   "cell_type": "code",
   "execution_count": 7,
   "metadata": {},
   "outputs": [
    {
     "name": "stdout",
     "output_type": "stream",
     "text": [
      "--- 「宮沢 賢治:よだかの星」 と似た作品は? ---\n",
      "[('宮澤 賢治:どんぐりと山猫', 0.9812930226325989), ('宮澤 賢治:注文の多い料理店', 0.9765326976776123), ('宮澤 賢治:やまなし', 0.9738569855690002)]\n",
      "\n",
      "--- 「芥川 龍之介:犬と笛」 と似た作品は? ---\n",
      "[('芥川 竜之介:鼻', 0.9638651609420776), ('芥川 竜之介:老年', 0.9618848562240601), ('芥川 竜之介:羅生門', 0.9582408666610718)]\n",
      "\n",
      "--- 「ポー エドガー・アラン:マリー・ロジェエの怪事件」 と似た作品は? ---\n",
      "[('ポー エドガー・アラン:ウィリアム・ウィルスン', 0.8737778663635254), ('ポー エドガー・アラン:落穴と振子', 0.8077182769775391), ('ポー エドガー・アラン:黒猫', 0.782632052898407)]\n",
      "\n",
      "--- 「紫式部:源氏物語 06 末摘花」 と似た作品は? ---\n",
      "[('紫式部:源氏物語 02 帚木', 0.9869555234909058), ('紫式部:源氏物語 04 夕顔', 0.9836390614509583), ('紫式部:源氏物語 05 若紫', 0.9722478985786438)]\n",
      "\n"
     ]
    }
   ],
   "source": [
    "similar(\"宮沢 賢治:よだかの星\",\n",
    "        \"https://www.aozora.gr.jp/cards/000081/files/473_ruby_467.zip\")\n",
    "\n",
    "similar(\"芥川 龍之介:犬と笛\",\n",
    "        \"https://www.aozora.gr.jp/cards/000879/files/56_ruby_845.zip\")\n",
    "\n",
    "similar(\"ポー エドガー・アラン:マリー・ロジェエの怪事件\",\n",
    "        \"https://www.aozora.gr.jp/cards/000094/files/4261_ruby_54182.zip\")\n",
    "\n",
    "similar(\"紫式部:源氏物語 06 末摘花\",\n",
    "        \"https://www.aozora.gr.jp/cards/000052/files/5021_ruby_11106.zip\")"
   ]
  },
  {
   "cell_type": "code",
   "execution_count": null,
   "metadata": {},
   "outputs": [],
   "source": []
  }
 ],
 "metadata": {
  "kernelspec": {
   "display_name": "Python 3",
   "language": "python",
   "name": "python3"
  },
  "language_info": {
   "codemirror_mode": {
    "name": "ipython",
    "version": 3
   },
   "file_extension": ".py",
   "mimetype": "text/x-python",
   "name": "python",
   "nbconvert_exporter": "python",
   "pygments_lexer": "ipython3",
   "version": "3.8.5"
  }
 },
 "nbformat": 4,
 "nbformat_minor": 4
}
