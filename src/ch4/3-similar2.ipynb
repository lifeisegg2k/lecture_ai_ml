{
 "cells": [
  {
   "cell_type": "code",
   "execution_count": 1,
   "metadata": {},
   "outputs": [],
   "source": [
    "from gensim.models import word2vec\n",
    "model = word2vec.Word2Vec.load(\"./wiki.model\")"
   ]
  },
  {
   "cell_type": "code",
   "execution_count": 2,
   "metadata": {},
   "outputs": [
    {
     "name": "stdout",
     "output_type": "stream",
     "text": [
      "('宋', 0.6745542883872986)\n",
      "('女王', 0.6704651713371277)\n",
      "('大将', 0.6600778102874756)\n",
      "('公', 0.6494451761245728)\n",
      "('天皇', 0.6491495370864868)\n",
      "('明朝', 0.6405433416366577)\n",
      "('清朝', 0.638780415058136)\n",
      "('朝', 0.6378941535949707)\n",
      "('帝', 0.6366807222366333)\n",
      "('皇后', 0.6311725974082947)\n"
     ]
    }
   ],
   "source": [
    "results = model.wv.most_similar(positive=['王','女'], negative=['男'])\n",
    "for result in results:\n",
    "    print(result)"
   ]
  },
  {
   "cell_type": "code",
   "execution_count": null,
   "metadata": {},
   "outputs": [],
   "source": []
  }
 ],
 "metadata": {
  "kernelspec": {
   "display_name": "Python 3",
   "language": "python",
   "name": "python3"
  },
  "language_info": {
   "codemirror_mode": {
    "name": "ipython",
    "version": 3
   },
   "file_extension": ".py",
   "mimetype": "text/x-python",
   "name": "python",
   "nbconvert_exporter": "python",
   "pygments_lexer": "ipython3",
   "version": "3.8.5"
  }
 },
 "nbformat": 4,
 "nbformat_minor": 4
}
