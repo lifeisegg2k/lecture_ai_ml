{
 "cells": [
  {
   "cell_type": "code",
   "execution_count": 1,
   "metadata": {},
   "outputs": [],
   "source": [
    "from gensim.models import word2vec\n",
    "model = word2vec.Word2Vec.load(\"./model/wiki.model\")"
   ]
  },
  {
   "cell_type": "code",
   "execution_count": 2,
   "metadata": {},
   "outputs": [
    {
     "name": "stdout",
     "output_type": "stream",
     "text": [
      "('漢', 0.7146468162536621)\n",
      "('将軍', 0.7077178955078125)\n",
      "('宋', 0.6995836496353149)\n",
      "('朱', 0.6991677284240723)\n",
      "('明朝', 0.6749334931373596)\n",
      "('寧', 0.6747786402702332)\n",
      "('皇后', 0.6738572120666504)\n",
      "('唐', 0.6736560463905334)\n",
      "('賢', 0.6701120734214783)\n",
      "('公', 0.6585710048675537)\n"
     ]
    }
   ],
   "source": [
    "results = model.wv.most_similar(positive=['王','女'], negative=['男'])\n",
    "for result in results:\n",
    "    print(result)"
   ]
  },
  {
   "cell_type": "code",
   "execution_count": null,
   "metadata": {},
   "outputs": [],
   "source": []
  }
 ],
 "metadata": {
  "kernelspec": {
   "display_name": "Python 3",
   "language": "python",
   "name": "python3"
  },
  "language_info": {
   "codemirror_mode": {
    "name": "ipython",
    "version": 3
   },
   "file_extension": ".py",
   "mimetype": "text/x-python",
   "name": "python",
   "nbconvert_exporter": "python",
   "pygments_lexer": "ipython3",
   "version": "3.8.5"
  }
 },
 "nbformat": 4,
 "nbformat_minor": 4
}
