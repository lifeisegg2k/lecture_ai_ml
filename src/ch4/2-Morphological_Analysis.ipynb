{
 "cells": [
  {
   "cell_type": "code",
   "execution_count": null,
   "metadata": {},
   "outputs": [],
   "source": [
    "import MeCab"
   ]
  },
  {
   "cell_type": "code",
   "execution_count": 2,
   "metadata": {},
   "outputs": [
    {
     "name": "stdout",
     "output_type": "stream",
     "text": [
      "メイ\tメー\tメイ\tメイ-May\t名詞-固有名詞-人名-一般\t\t\t1\n",
      "が\tガ\tガ\tが\t助詞-格助詞\t\t\t\n",
      "恋\tコイ\tコイ\t恋\t名詞-普通名詞-サ変可能\t\t\t1\n",
      "ダンス\tダンス\tダンス\tダンス-dance\t名詞-普通名詞-サ変可能\t\t\t1\n",
      "を\tオ\tヲ\tを\t助詞-格助詞\t\t\t\n",
      "踊っ\tオドッ\tオドル\t踊る\t動詞-一般\t五段-ラ行\t連用形-促音便\t0\n",
      "て\tテ\tテ\tて\t助詞-接続助詞\t\t\t\n",
      "いる\tイル\tイル\t居る\t動詞-非自立可能\t上一段-ア行\t終止形-一般\t0\n",
      "。\t\t\t。\t補助記号-句点\t\t\t\n",
      "EOS\n",
      "\n"
     ]
    }
   ],
   "source": [
    "tagger = MeCab.Tagger()\n",
    "result = tagger.parse(\"メイが恋ダンスを踊っている。\")\n",
    "print(result)"
   ]
  },
  {
   "cell_type": "code",
   "execution_count": null,
   "metadata": {},
   "outputs": [],
   "source": []
  }
 ],
 "metadata": {
  "kernelspec": {
   "display_name": "Python 3",
   "language": "python",
   "name": "python3"
  },
  "language_info": {
   "codemirror_mode": {
    "name": "ipython",
    "version": 3
   },
   "file_extension": ".py",
   "mimetype": "text/x-python",
   "name": "python",
   "nbconvert_exporter": "python",
   "pygments_lexer": "ipython3",
   "version": "3.8.5"
  }
 },
 "nbformat": 4,
 "nbformat_minor": 4
}
