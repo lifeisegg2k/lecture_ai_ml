{
 "cells": [
  {
   "cell_type": "code",
   "execution_count": 1,
   "metadata": {},
   "outputs": [],
   "source": [
    "import cv2\n",
    "import pickle"
   ]
  },
  {
   "cell_type": "code",
   "execution_count": 2,
   "metadata": {},
   "outputs": [],
   "source": [
    "def predict_digit(file_name):\n",
    "    with open(\"../../data/digits.pkl\", \"rb\") as fp:\n",
    "        clf = pickle.load(fp)\n",
    "    my_img = cv2.imread(file_name)\n",
    "    my_img = cv2.cvtColor(my_img, cv2.COLOR_BGR2GRAY)\n",
    "    my_img = cv2.resize(my_img, (8,8))\n",
    "    my_img = 15 - my_img // 16\n",
    "    my_img = my_img.reshape((-1, 64))\n",
    "    res = clf.predict(my_img)\n",
    "    return res[0]"
   ]
  },
  {
   "cell_type": "code",
   "execution_count": 3,
   "metadata": {},
   "outputs": [
    {
     "name": "stdout",
     "output_type": "stream",
     "text": [
      "my2.png = 2\n",
      "my4.png = 4\n",
      "my9.png = 9\n"
     ]
    }
   ],
   "source": [
    "n = predict_digit(\"../../images/ch3-my2.png\")\n",
    "print(\"my2.png = \" + str(n))\n",
    "n = predict_digit(\"../../images/ch3-my4.png\")\n",
    "print(\"my4.png = \" + str(n))\n",
    "n = predict_digit(\"../../images/ch3-my9.png\")\n",
    "print(\"my9.png = \" + str(n))"
   ]
  },
  {
   "cell_type": "code",
   "execution_count": null,
   "metadata": {},
   "outputs": [],
   "source": []
  }
 ],
 "metadata": {
  "kernelspec": {
   "display_name": "Python 3",
   "language": "python",
   "name": "python3"
  },
  "language_info": {
   "codemirror_mode": {
    "name": "ipython",
    "version": 3
   },
   "file_extension": ".py",
   "mimetype": "text/x-python",
   "name": "python",
   "nbconvert_exporter": "python",
   "pygments_lexer": "ipython3",
   "version": "3.8.5"
  }
 },
 "nbformat": 4,
 "nbformat_minor": 4
}
