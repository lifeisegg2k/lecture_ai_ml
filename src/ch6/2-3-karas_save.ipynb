{
 "cells": [
  {
   "cell_type": "code",
   "execution_count": 1,
   "metadata": {},
   "outputs": [],
   "source": [
    "from sklearn import datasets\n",
    "import keras\n",
    "from keras.models import Sequential\n",
    "from keras.layers import Dense, Dropout\n",
    "from keras.utils.np_utils import to_categorical"
   ]
  },
  {
   "cell_type": "code",
   "execution_count": 2,
   "metadata": {},
   "outputs": [],
   "source": [
    "iris = datasets.load_iris()\n",
    "in_size = 4\n",
    "nb_classes=3\n",
    "\n",
    "x = iris.data\n",
    "y = to_categorical(iris.target, nb_classes)"
   ]
  },
  {
   "cell_type": "code",
   "execution_count": 3,
   "metadata": {},
   "outputs": [],
   "source": [
    "model = Sequential()\n",
    "model.add(Dense(512, activation='relu', input_shape=(in_size,)))\n",
    "model.add(Dense(512, activation='relu'))\n",
    "model.add(Dropout(0.2))\n",
    "model.add(Dense(nb_classes, activation='softmax'))"
   ]
  },
  {
   "cell_type": "code",
   "execution_count": 4,
   "metadata": {},
   "outputs": [
    {
     "name": "stdout",
     "output_type": "stream",
     "text": [
      "Epoch 1/50\n",
      "8/8 [==============================] - 1s 11ms/step - loss: 1.0035 - accuracy: 0.4896\n",
      "Epoch 2/50\n",
      "8/8 [==============================] - 0s 4ms/step - loss: 0.5439 - accuracy: 0.7807\n",
      "Epoch 3/50\n",
      "8/8 [==============================] - 0s 5ms/step - loss: 0.3777 - accuracy: 0.8924\n",
      "Epoch 4/50\n",
      "8/8 [==============================] - 0s 4ms/step - loss: 0.3055 - accuracy: 0.9073\n",
      "Epoch 5/50\n",
      "8/8 [==============================] - 0s 6ms/step - loss: 0.2613 - accuracy: 0.9208\n",
      "Epoch 6/50\n",
      "8/8 [==============================] - 0s 5ms/step - loss: 0.2852 - accuracy: 0.8464\n",
      "Epoch 7/50\n",
      "8/8 [==============================] - 0s 5ms/step - loss: 0.1758 - accuracy: 0.9477\n",
      "Epoch 8/50\n",
      "8/8 [==============================] - 0s 5ms/step - loss: 0.1748 - accuracy: 0.9408\n",
      "Epoch 9/50\n",
      "8/8 [==============================] - 0s 4ms/step - loss: 0.1512 - accuracy: 0.9634\n",
      "Epoch 10/50\n",
      "8/8 [==============================] - 0s 4ms/step - loss: 0.1164 - accuracy: 0.9786\n",
      "Epoch 11/50\n",
      "8/8 [==============================] - 0s 4ms/step - loss: 0.1799 - accuracy: 0.9149\n",
      "Epoch 12/50\n",
      "8/8 [==============================] - 0s 5ms/step - loss: 0.1232 - accuracy: 0.9524\n",
      "Epoch 13/50\n",
      "8/8 [==============================] - 0s 4ms/step - loss: 0.1313 - accuracy: 0.9412\n",
      "Epoch 14/50\n",
      "8/8 [==============================] - 0s 5ms/step - loss: 0.1634 - accuracy: 0.9394\n",
      "Epoch 15/50\n",
      "8/8 [==============================] - 0s 4ms/step - loss: 0.1064 - accuracy: 0.9466\n",
      "Epoch 16/50\n",
      "8/8 [==============================] - 0s 4ms/step - loss: 0.0773 - accuracy: 0.9695\n",
      "Epoch 17/50\n",
      "8/8 [==============================] - 0s 4ms/step - loss: 0.0889 - accuracy: 0.9781\n",
      "Epoch 18/50\n",
      "8/8 [==============================] - 0s 4ms/step - loss: 0.0978 - accuracy: 0.9476\n",
      "Epoch 19/50\n",
      "8/8 [==============================] - 0s 4ms/step - loss: 0.0717 - accuracy: 0.9759\n",
      "Epoch 20/50\n",
      "8/8 [==============================] - 0s 4ms/step - loss: 0.0785 - accuracy: 0.9716\n",
      "Epoch 21/50\n",
      "8/8 [==============================] - 0s 4ms/step - loss: 0.0672 - accuracy: 0.9811\n",
      "Epoch 22/50\n",
      "8/8 [==============================] - 0s 5ms/step - loss: 0.1880 - accuracy: 0.9375\n",
      "Epoch 23/50\n",
      "8/8 [==============================] - 0s 4ms/step - loss: 0.1456 - accuracy: 0.9315\n",
      "Epoch 24/50\n",
      "8/8 [==============================] - 0s 4ms/step - loss: 0.0992 - accuracy: 0.9699\n",
      "Epoch 25/50\n",
      "8/8 [==============================] - 0s 5ms/step - loss: 0.0995 - accuracy: 0.9647\n",
      "Epoch 26/50\n",
      "8/8 [==============================] - 0s 4ms/step - loss: 0.0813 - accuracy: 0.9687\n",
      "Epoch 27/50\n",
      "8/8 [==============================] - 0s 4ms/step - loss: 0.0923 - accuracy: 0.9616\n",
      "Epoch 28/50\n",
      "8/8 [==============================] - 0s 4ms/step - loss: 0.0893 - accuracy: 0.9635\n",
      "Epoch 29/50\n",
      "8/8 [==============================] - 0s 4ms/step - loss: 0.0730 - accuracy: 0.9779\n",
      "Epoch 30/50\n",
      "8/8 [==============================] - 0s 3ms/step - loss: 0.0941 - accuracy: 0.9694\n",
      "Epoch 31/50\n",
      "8/8 [==============================] - 0s 4ms/step - loss: 0.0822 - accuracy: 0.9583\n",
      "Epoch 32/50\n",
      "8/8 [==============================] - 0s 3ms/step - loss: 0.0738 - accuracy: 0.9728\n",
      "Epoch 33/50\n",
      "8/8 [==============================] - 0s 3ms/step - loss: 0.0693 - accuracy: 0.9784\n",
      "Epoch 34/50\n",
      "8/8 [==============================] - 0s 3ms/step - loss: 0.0498 - accuracy: 0.9905\n",
      "Epoch 35/50\n",
      "8/8 [==============================] - 0s 4ms/step - loss: 0.0666 - accuracy: 0.9695\n",
      "Epoch 36/50\n",
      "8/8 [==============================] - 0s 4ms/step - loss: 0.0548 - accuracy: 0.9827\n",
      "Epoch 37/50\n",
      "8/8 [==============================] - 0s 4ms/step - loss: 0.0737 - accuracy: 0.9722\n",
      "Epoch 38/50\n",
      "8/8 [==============================] - 0s 4ms/step - loss: 0.0746 - accuracy: 0.9709\n",
      "Epoch 39/50\n",
      "8/8 [==============================] - 0s 4ms/step - loss: 0.0659 - accuracy: 0.9940\n",
      "Epoch 40/50\n",
      "8/8 [==============================] - 0s 5ms/step - loss: 0.0815 - accuracy: 0.9467\n",
      "Epoch 41/50\n",
      "8/8 [==============================] - 0s 4ms/step - loss: 0.0590 - accuracy: 0.9793\n",
      "Epoch 42/50\n",
      "8/8 [==============================] - 0s 4ms/step - loss: 0.1016 - accuracy: 0.9494\n",
      "Epoch 43/50\n",
      "8/8 [==============================] - 0s 4ms/step - loss: 0.1853 - accuracy: 0.9406\n",
      "Epoch 44/50\n",
      "8/8 [==============================] - 0s 3ms/step - loss: 0.0997 - accuracy: 0.9644\n",
      "Epoch 45/50\n",
      "8/8 [==============================] - 0s 3ms/step - loss: 0.0950 - accuracy: 0.9633\n",
      "Epoch 46/50\n",
      "8/8 [==============================] - 0s 4ms/step - loss: 0.1132 - accuracy: 0.9605\n",
      "Epoch 47/50\n",
      "8/8 [==============================] - 0s 3ms/step - loss: 0.0672 - accuracy: 0.9865\n",
      "Epoch 48/50\n",
      "8/8 [==============================] - 0s 4ms/step - loss: 0.0673 - accuracy: 0.9786\n",
      "Epoch 49/50\n",
      "8/8 [==============================] - 0s 4ms/step - loss: 0.0477 - accuracy: 0.9825\n",
      "Epoch 50/50\n",
      "8/8 [==============================] - 0s 4ms/step - loss: 0.0807 - accuracy: 0.9686\n"
     ]
    },
    {
     "data": {
      "text/plain": [
       "<tensorflow.python.keras.callbacks.History at 0x7f49d8e03760>"
      ]
     },
     "execution_count": 4,
     "metadata": {},
     "output_type": "execute_result"
    }
   ],
   "source": [
    "model.compile(\n",
    "    loss='categorical_crossentropy',\n",
    "    optimizer='adam',\n",
    "    metrics=['accuracy'])\n",
    "\n",
    "model.fit(x, y, batch_size=20, epochs=50)"
   ]
  },
  {
   "cell_type": "code",
   "execution_count": 5,
   "metadata": {},
   "outputs": [
    {
     "name": "stdout",
     "output_type": "stream",
     "text": [
      "保存\n"
     ]
    }
   ],
   "source": [
    "model.save('../../data/iris_model.h5')\n",
    "print(\"保存\")"
   ]
  },
  {
   "cell_type": "code",
   "execution_count": 6,
   "metadata": {},
   "outputs": [
    {
     "name": "stdout",
     "output_type": "stream",
     "text": [
      "ロード\n"
     ]
    }
   ],
   "source": [
    "model.save_weights('../../data/iris_weight.h5')\n",
    "print(\"ロード\")"
   ]
  },
  {
   "cell_type": "code",
   "execution_count": null,
   "metadata": {},
   "outputs": [],
   "source": []
  }
 ],
 "metadata": {
  "kernelspec": {
   "display_name": "Python 3",
   "language": "python",
   "name": "python3"
  },
  "language_info": {
   "codemirror_mode": {
    "name": "ipython",
    "version": 3
   },
   "file_extension": ".py",
   "mimetype": "text/x-python",
   "name": "python",
   "nbconvert_exporter": "python",
   "pygments_lexer": "ipython3",
   "version": "3.8.5"
  }
 },
 "nbformat": 4,
 "nbformat_minor": 4
}
